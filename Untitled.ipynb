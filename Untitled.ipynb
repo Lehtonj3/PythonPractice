{
 "cells": [
  {
   "cell_type": "code",
   "execution_count": 1,
   "id": "4f55c5a7",
   "metadata": {},
   "outputs": [
    {
     "name": "stdout",
     "output_type": "stream",
     "text": [
      "Enter the number of miles driven: 100\n",
      "Enter the gallons of gas used: 5\n",
      "The car's MPG is: 20.0 miles per gallon.\n"
     ]
    }
   ],
   "source": [
    "def calculate_mpg(miles_driven, gallons_used):\n",
    "    mpg = miles_driven / gallons_used\n",
    "    return mpg\n",
    "\n",
    "# Get user input\n",
    "miles_driven = float(input(\"Enter the number of miles driven: \"))\n",
    "gallons_used = float(input(\"Enter the gallons of gas used: \"))\n",
    "\n",
    "# Calculate MPG\n",
    "car_mpg = calculate_mpg(miles_driven, gallons_used)\n",
    "\n",
    "# Display the result\n",
    "print(f\"The car's MPG is: {car_mpg} miles per gallon.\")\n"
   ]
  },
  {
   "cell_type": "code",
   "execution_count": 2,
   "id": "384ece0b",
   "metadata": {},
   "outputs": [
    {
     "name": "stdout",
     "output_type": "stream",
     "text": [
      "25 degrees Celsius is equal to 77.0 degrees Fahrenheit.\n"
     ]
    }
   ],
   "source": [
    "def celsius_to_fahrenheit(celsius):\n",
    "    fahrenheit = (celsius * 9/5) + 32\n",
    "    return fahrenheit\n",
    "\n",
    "# Example usage:\n",
    "celsius_temperature = 25\n",
    "fahrenheit_temperature = celsius_to_fahrenheit(celsius_temperature)\n",
    "print(f\"{celsius_temperature} degrees Celsius is equal to {fahrenheit_temperature} degrees Fahrenheit.\")\n"
   ]
  },
  {
   "cell_type": "code",
   "execution_count": 3,
   "id": "19a578b6",
   "metadata": {},
   "outputs": [
    {
     "name": "stdout",
     "output_type": "stream",
     "text": [
      "Enter the length of the row (in feet): 25\n",
      "Enter the space used by an end-post assembly (in feet): 10\n",
      "Enter the space between vines (in feet): 5\n",
      "The number of grapevines that will fit in the row is: 1.0\n"
     ]
    }
   ],
   "source": [
    "def calculate_grapevines(length_of_row, space_of_end_post, space_between_vines):\n",
    "    # Formula to calculate the number of grapevines\n",
    "    num_grapevines = (length_of_row - 2 * space_of_end_post) / space_between_vines\n",
    "    return num_grapevines\n",
    "\n",
    "# Get user input\n",
    "length_of_row = float(input(\"Enter the length of the row (in feet): \"))\n",
    "space_of_end_post = float(input(\"Enter the space used by an end-post assembly (in feet): \"))\n",
    "space_between_vines = float(input(\"Enter the space between vines (in feet): \"))\n",
    "\n",
    "# Calculate the number of grapevines\n",
    "num_grapevines = calculate_grapevines(length_of_row, space_of_end_post, space_between_vines)\n",
    "\n",
    "# Display the result\n",
    "print(f\"The number of grapevines that will fit in the row is: {num_grapevines}\")\n",
    "\n"
   ]
  },
  {
   "cell_type": "code",
   "execution_count": 4,
   "id": "f0811496",
   "metadata": {},
   "outputs": [
    {
     "name": "stdout",
     "output_type": "stream",
     "text": [
      "Enter the projected amount of total sales: 4,000,00\n"
     ]
    },
    {
     "ename": "ValueError",
     "evalue": "could not convert string to float: '4,000,00'",
     "output_type": "error",
     "traceback": [
      "\u001b[1;31m---------------------------------------------------------------------------\u001b[0m",
      "\u001b[1;31mValueError\u001b[0m                                Traceback (most recent call last)",
      "Cell \u001b[1;32mIn[4], line 8\u001b[0m\n\u001b[0;32m      5\u001b[0m     \u001b[38;5;28;01mreturn\u001b[39;00m profit\n\u001b[0;32m      7\u001b[0m \u001b[38;5;66;03m# Get user input\u001b[39;00m\n\u001b[1;32m----> 8\u001b[0m total_sales \u001b[38;5;241m=\u001b[39m \u001b[38;5;28mfloat\u001b[39m(\u001b[38;5;28minput\u001b[39m(\u001b[38;5;124m\"\u001b[39m\u001b[38;5;124mEnter the projected amount of total sales: \u001b[39m\u001b[38;5;124m\"\u001b[39m))\n\u001b[0;32m     10\u001b[0m \u001b[38;5;66;03m# Calculate profit\u001b[39;00m\n\u001b[0;32m     11\u001b[0m annual_profit \u001b[38;5;241m=\u001b[39m calculate_profit(total_sales)\n",
      "\u001b[1;31mValueError\u001b[0m: could not convert string to float: '4,000,00'"
     ]
    }
   ],
   "source": [
    "def calculate_profit(total_sales):\n",
    "    # Assuming profit is 23% of total sales\n",
    "    profit_percentage = 0.23\n",
    "    profit = total_sales * profit_percentage\n",
    "    return profit\n",
    "\n",
    "# Get user input\n",
    "total_sales = float(input(\"Enter the projected amount of total sales: \"))\n",
    "\n",
    "# Calculate profit\n",
    "annual_profit = calculate_profit(total_sales)\n",
    "\n",
    "# Display the result\n",
    "print(f\"The annual profit based on projected total sales is: {annual_profit}\")\n"
   ]
  },
  {
   "cell_type": "code",
   "execution_count": 7,
   "id": "537c8230",
   "metadata": {},
   "outputs": [
    {
     "name": "stdout",
     "output_type": "stream",
     "text": [
      "Enter the projected amount of total sales: 500000\n",
      "The annual profit based on projected total sales is: 115000.0\n"
     ]
    }
   ],
   "source": [
    "def calculate_profit(total_sales):\n",
    "    profit_percentage = 0.23\n",
    "    profit = total_sales * profit_percentage\n",
    "    return profit\n",
    "\n",
    "total_sales = float(input(\"Enter the projected amount of total sales: \"))\n",
    "\n",
    "annual_profit = calculate_profit(total_sales)\n",
    "\n",
    "print(f\"The annual profit based on projected total sales is: {annual_profit}\")\n"
   ]
  },
  {
   "cell_type": "code",
   "execution_count": null,
   "id": "73f4ba3c",
   "metadata": {},
   "outputs": [],
   "source": []
  }
 ],
 "metadata": {
  "kernelspec": {
   "display_name": "Python 3 (ipykernel)",
   "language": "python",
   "name": "python3"
  },
  "language_info": {
   "codemirror_mode": {
    "name": "ipython",
    "version": 3
   },
   "file_extension": ".py",
   "mimetype": "text/x-python",
   "name": "python",
   "nbconvert_exporter": "python",
   "pygments_lexer": "ipython3",
   "version": "3.11.5"
  }
 },
 "nbformat": 4,
 "nbformat_minor": 5
}
