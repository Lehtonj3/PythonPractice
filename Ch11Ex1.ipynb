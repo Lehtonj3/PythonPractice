{
 "cells": [
  {
   "cell_type": "markdown",
   "id": "dc4cb32e",
   "metadata": {},
   "source": [
    "# Chapter 11 Questions "
   ]
  },
  {
   "cell_type": "markdown",
   "id": "03fbd0de",
   "metadata": {},
   "source": [
    "These questiosn are from the digital book. \n"
   ]
  },
  {
   "cell_type": "markdown",
   "id": "d099a9c5",
   "metadata": {},
   "source": [
    "## Question 1  Employee and ProductionWorker Classes\n",
    "Write an Employee class that keeps data attributes for the following pieces of information:  Employee name Employee number Next, write a class named ProductionWorker that is a subclass of the Employee class. The ProductionWorker class should keep data attributes for the following information:  Shift number (an integer, such as 1, 2, or 3) Hourly pay rate The workday is divided into two shifts: day and night. The shift attribute will hold an integer value representing the shift that the employee works. The day shift is shift 1 and the night shift is shift 2. Write the appropriate accessor and mutator methods for each class. Once you have written the classes, write a program that creates an object of the  class and prompts the user to enter data for each of the object’s data attributes. Store the data in the object, then use the object’s accessor methods to retrieve it and display it on the screen.\n",
    "\n",
    "For this I will write a string in a txt file including employee and productionworker then I will come back here and import the productionworker code and have it prompt the user with entering name employee number shift and hourly rate. "
   ]
  },
  {
   "cell_type": "code",
   "execution_count": 1,
   "id": "6b2a3fdd",
   "metadata": {
    "scrolled": true
   },
   "outputs": [
    {
     "name": "stdout",
     "output_type": "stream",
     "text": [
      "Enter employee name: Joe\n",
      "Enter employee number: 99\n",
      "Enter shift number (1 for day, 2 for night): 2\n",
      "Enter hourly pay rate: 20.00\n",
      "\n",
      "Employee Information:\n",
      "Name: Joe\n",
      "Number: 99\n",
      "Shift: Night\n",
      "Hourly Pay Rate: 20.0\n"
     ]
    }
   ],
   "source": [
    "#import ProductionWorker from employee.py \n",
    "from employee import ProductionWorker\n",
    "\n",
    "#define main for name number shift and rate\n",
    "def main():\n",
    "    name = input(\"Enter employee name: \")\n",
    "    number = input(\"Enter employee number: \")\n",
    "    shift = int(input(\"Enter shift number (1 for day, 2 for night): \"))\n",
    "    hourly_rate = float(input(\"Enter hourly pay rate: \"))\n",
    "    \n",
    "    worker = ProductionWorker(name, number, shift, hourly_rate)\n",
    "    \n",
    "    #Display the information\n",
    "    print(\"\\nEmployee Information:\")\n",
    "    print(\"Name:\", worker.get_name())\n",
    "    print(\"Number:\", worker.get_number())\n",
    "    \n",
    "    #if statements for day and night shifts\n",
    "    if worker.get_shift() == 1:\n",
    "        print(\"Shift: Day\")\n",
    "    elif worker.get_shift() == 2:\n",
    "        print(\"Shift: Night\")\n",
    "    else:\n",
    "        print(\"Shift: Not Recognized\")\n",
    "    print(\"Hourly Pay Rate:\", worker.get_hourly_rate())\n",
    "#call to main\n",
    "if __name__ == \"__main__\":\n",
    "    main()"
   ]
  },
  {
   "cell_type": "code",
   "execution_count": null,
   "id": "44cce757",
   "metadata": {},
   "outputs": [],
   "source": []
  }
 ],
 "metadata": {
  "kernelspec": {
   "display_name": "Python 3 (ipykernel)",
   "language": "python",
   "name": "python3"
  },
  "language_info": {
   "codemirror_mode": {
    "name": "ipython",
    "version": 3
   },
   "file_extension": ".py",
   "mimetype": "text/x-python",
   "name": "python",
   "nbconvert_exporter": "python",
   "pygments_lexer": "ipython3",
   "version": "3.11.5"
  }
 },
 "nbformat": 4,
 "nbformat_minor": 5
}
