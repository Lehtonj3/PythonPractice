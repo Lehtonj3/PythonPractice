{
 "cells": [
  {
   "cell_type": "markdown",
   "id": "bf5cbc66",
   "metadata": {},
   "source": [
    "# Chapter 9 Programming Exercises"
   ]
  },
  {
   "cell_type": "markdown",
   "id": "9fb7c0b1",
   "metadata": {},
   "source": [
    "## Question 2 Capital Quiz\n",
    "Write a program that creates a dictionary containing the U.S. states as keys, and their capitals as values. (Use the Internet to get a list of the states and their capitals.) The program should then randomly quiz the user by displaying the name of a state and asking the user to enter that state’s capital. The program should keep a count of the number of correct and incorrect responses. (As an alternative to the U.S. states, the program can use the names of countries and their capitals.)\n",
    "\n",
    "I am going to code the quiz to be 5 questions and I am going to make it quiz you on the capital of states. And it will show whether it is correct or incorrect. And it will give you the final results at the end. "
   ]
  },
  {
   "cell_type": "code",
   "execution_count": 1,
   "id": "13e75b2f",
   "metadata": {},
   "outputs": [
    {
     "name": "stdout",
     "output_type": "stream",
     "text": [
      "What is the capital of Wyoming ? Cheyenne\n",
      "Correct!\n",
      "What is the capital of Wisconsin ? Madison\n",
      "Correct!\n",
      "What is the capital of West Virginia ? Lansing\n",
      "Incorrect!\n",
      "What is the capital of Washington ? Nashville\n",
      "Incorrect!\n",
      "What is the capital of Virginia ? Richmond\n",
      "Correct!\n",
      "Correct Responses: 3\n",
      "Incorrect Reponses: 2\n"
     ]
    }
   ],
   "source": [
    "#how many you want to quiz\n",
    "NUM_STATES = 5\n",
    "#define main\n",
    "def main():\n",
    "    state_caps = state_cap_dictionary()\n",
    "    #correct and incorrect staements \n",
    "    correct = 0\n",
    "    incorrect = 0\n",
    "    #for statements to count range\n",
    "    for count in range (NUM_STATES):\n",
    "        #show the state you need to answer with the capital \n",
    "        state, capital = state_caps.popitem()\n",
    "        #asl what the capital is of the state\n",
    "        print('What is the capital of', state, '? ', end='')\n",
    "        #user response\n",
    "        response = input()\n",
    "        #lowercase everything for no caps errors \n",
    "        if response.lower() == capital.lower():\n",
    "            #correct statement\n",
    "            correct += 1 \n",
    "            print('Correct!')\n",
    "        #incorrect else statement \n",
    "        else:\n",
    "            incorrect += 1\n",
    "            print('Incorrect!')\n",
    "    #print whether what is said is incorrect or correct \n",
    "    print('Correct Responses:', correct)\n",
    "    print('Incorrect Reponses:', incorrect)\n",
    "\n",
    "#copy of the states and capitals \n",
    "def state_cap_dictionary():\n",
    "    sc = {'Alabama': 'Montgomery',\n",
    "          'Alaska': 'Juneau',\n",
    "          'Arizona': 'Phoenix',\n",
    "          'Arkansas': 'Little Rock',\n",
    "          'California': 'Sacramento',\n",
    "          'Colorado': 'Denver',\n",
    "          'Connecticut': 'Hartford',\n",
    "          'Delaware': 'Dover',\n",
    "          'Florida': 'Tallahassee',\n",
    "          'Georgia': 'Atlanta',\n",
    "          'Hawaii': 'Honolulu',\n",
    "          'Idaho': 'Boise',\n",
    "          'Illinois': 'Springfield',\n",
    "          'Indiana': 'Indianapolis',\n",
    "          'Iowa': 'Des Moines',\n",
    "          'Kansas': 'Topeka',\n",
    "          'Kentucky': 'Frankfort',\n",
    "          'Louisiana': 'Baton Rouge',\n",
    "          'Maine': 'Augusta',\n",
    "          'Maryland': 'Annapolis',\n",
    "          'Massachusetts': 'Boston',\n",
    "          'Michigan': 'Lansing',\n",
    "          'Minnesota': 'Saint Paul',\n",
    "          'Mississippi': 'Jackson',\n",
    "          'Missouri': 'Jefferson City',\n",
    "          'Montana': 'Helena',\n",
    "          'Nebraska': 'Lincoln',\n",
    "          'Nevada': 'Carson City',\n",
    "          'New Hampshire': 'Concord',\n",
    "          'New Jersey': 'Trenton',\n",
    "          'New Mexico': 'Santa Fe',\n",
    "          'New York': 'Albany',\n",
    "          'North Carolina': 'Raleigh',\n",
    "          'North Dakota': 'Bismarck',\n",
    "          'Ohio': 'Columbus',\n",
    "          'Oklahoma': 'Oklahoma City',\n",
    "          'Oregon': 'Salem',\n",
    "          'Pennsylvania': 'Harrisburg',\n",
    "          'Rhode Island': 'Providence',\n",
    "          'South Carolina': 'Columbia',\n",
    "          'South Dakota': 'Pierre',\n",
    "          'Tennessee': 'Nashville',\n",
    "          'Texas': 'Austin',\n",
    "          'Utah': 'Salt Lake City',\n",
    "          'Vermont': 'Montpelier',\n",
    "          'Virginia': 'Richmond',\n",
    "          'Washington': 'Olympia',\n",
    "          'West Virginia': 'Charleston',\n",
    "          'Wisconsin': 'Madison',\n",
    "          'Wyoming': 'Cheyenne'}\n",
    "    #return sc \n",
    "    return sc\n",
    "#call to the main function\n",
    "main()"
   ]
  },
  {
   "cell_type": "code",
   "execution_count": null,
   "id": "5b425362",
   "metadata": {},
   "outputs": [],
   "source": []
  }
 ],
 "metadata": {
  "kernelspec": {
   "display_name": "Python 3 (ipykernel)",
   "language": "python",
   "name": "python3"
  },
  "language_info": {
   "codemirror_mode": {
    "name": "ipython",
    "version": 3
   },
   "file_extension": ".py",
   "mimetype": "text/x-python",
   "name": "python",
   "nbconvert_exporter": "python",
   "pygments_lexer": "ipython3",
   "version": "3.11.5"
  }
 },
 "nbformat": 4,
 "nbformat_minor": 5
}
