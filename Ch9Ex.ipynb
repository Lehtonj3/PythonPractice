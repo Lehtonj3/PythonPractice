{
 "cells": [
  {
   "cell_type": "markdown",
   "id": "8513ab0e",
   "metadata": {},
   "source": [
    "# Chapter 9 Programming Exercises"
   ]
  },
  {
   "cell_type": "markdown",
   "id": "28d9e2f8",
   "metadata": {},
   "source": [
    "## Question 2 Capital Quiz\n",
    "Write a program that creates a dictionary containing the U.S. states as keys, and their capitals as values. (Use the Internet to get a list of the states and their capitals.) The program should then randomly quiz the user by displaying the name of a state and asking the user to enter that state’s capital. The program should keep a count of the number of correct and incorrect responses. (As an alternative to the U.S. states, the program can use the names of countries and their capitals.)\n",
    "\n",
    "I am going to code the quiz to be 5 questions and I am going to make it quiz you on the capital of states. And it will show whether it is correct or incorrect. And it will give you the final results at the end. "
   ]
  },
  {
   "cell_type": "code",
   "execution_count": null,
   "id": "783db8ae",
   "metadata": {},
   "outputs": [],
   "source": []
  }
 ],
 "metadata": {
  "kernelspec": {
   "display_name": "Python 3 (ipykernel)",
   "language": "python",
   "name": "python3"
  },
  "language_info": {
   "codemirror_mode": {
    "name": "ipython",
    "version": 3
   },
   "file_extension": ".py",
   "mimetype": "text/x-python",
   "name": "python",
   "nbconvert_exporter": "python",
   "pygments_lexer": "ipython3",
   "version": "3.11.5"
  }
 },
 "nbformat": 4,
 "nbformat_minor": 5
}
