{
 "cells": [
  {
   "cell_type": "markdown",
   "id": "46cf9d69",
   "metadata": {},
   "source": [
    "# Programming Exercises"
   ]
  },
  {
   "cell_type": "markdown",
   "id": "4144218f",
   "metadata": {},
   "source": [
    "## Question 2 Capital Quiz\n",
    "Write a program that creates a dictionary containing the U.S. states as keys, and their capitals as values. (Use the Internet to get a list of the states and their capitals.) The program should then randomly quiz the user by displaying the name of a state and asking the user to enter that state’s capital. The program should keep a count of the number of correct and incorrect responses. (As an alternative to the U.S. states, the program can use the names of countries and their capitals.)\n",
    "\n",
    "I am going to code the quiz to be 5 questions and I am going to make it quiz you on the capitals of states. And it will show whether it is correct or incorrect. And it will give you the final results when you are done. "
   ]
  },
  {
   "cell_type": "code",
   "execution_count": 1,
   "id": "f3b5b165",
   "metadata": {},
   "outputs": [],
   "source": [
    "#how many questions I want to quiz the user\n",
    "NUM_STATES = 5\n",
    "#define the main function\n",
    "def main():\n",
    "    state_caps = state_cap_dictionary()\n",
    "    #correct and incorrect statements\n",
    "    correct = 0\n",
    "    incorrect = 0\n",
    "    #the for statement to count the range \n",
    "    for count in range (NUM_STATES):\n",
    "        #show state asking for the capital\n",
    "        state, capital = state_caps.popitem()\n",
    "        #ask what the capital is for the state\n",
    "        print('What is the capital of', state, '?', end='')\n",
    "        #user response\n",
    "        response = input()\n",
    "        #"
   ]
  }
 ],
 "metadata": {
  "kernelspec": {
   "display_name": "Python 3 (ipykernel)",
   "language": "python",
   "name": "python3"
  },
  "language_info": {
   "codemirror_mode": {
    "name": "ipython",
    "version": 3
   },
   "file_extension": ".py",
   "mimetype": "text/x-python",
   "name": "python",
   "nbconvert_exporter": "python",
   "pygments_lexer": "ipython3",
   "version": "3.11.5"
  }
 },
 "nbformat": 4,
 "nbformat_minor": 5
}
