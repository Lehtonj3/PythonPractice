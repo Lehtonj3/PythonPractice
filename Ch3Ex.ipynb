{
 "cells": [
  {
   "cell_type": "markdown",
   "id": "78a03a23",
   "metadata": {},
   "source": [
    "# Code Set 3 (Chapter 3 Questions) "
   ]
  },
  {
   "cell_type": "markdown",
   "id": "91376dca",
   "metadata": {},
   "source": [
    "## Question 4 Additional Practice\n",
    "This problem asks me to properly align and indent the code. So I rewrote it in the notepad as instructed on the video. And this is what it came out to be. "
   ]
  },
  {
   "cell_type": "code",
   "execution_count": 4,
   "id": "8401c46d",
   "metadata": {},
   "outputs": [
    {
     "ename": "NameError",
     "evalue": "name 'score' is not defined",
     "output_type": "error",
     "traceback": [
      "\u001b[1;31m---------------------------------------------------------------------------\u001b[0m",
      "\u001b[1;31mNameError\u001b[0m                                 Traceback (most recent call last)",
      "Cell \u001b[1;32mIn[4], line 1\u001b[0m\n\u001b[1;32m----> 1\u001b[0m \u001b[38;5;28;01mif\u001b[39;00m score \u001b[38;5;241m>\u001b[39m\u001b[38;5;241m=\u001b[39m A_score:\n\u001b[0;32m      2\u001b[0m     \u001b[38;5;28mprint\u001b[39m(\u001b[38;5;124m'\u001b[39m\u001b[38;5;124mYour grade is A.\u001b[39m\u001b[38;5;124m'\u001b[39m)\n\u001b[0;32m      3\u001b[0m \u001b[38;5;28;01melse\u001b[39;00m:\n",
      "\u001b[1;31mNameError\u001b[0m: name 'score' is not defined"
     ]
    }
   ],
   "source": [
    "if score >= A_score:\n",
    "    print('Your grade is A.')\n",
    "else:\n",
    "    #this here has to be indented because it is going into the if statement after else\n",
    "    if score >= B_score:\n",
    "        print('Your grade is B.')\n",
    "    else:\n",
    "        #same here\n",
    "        if score >= C_score:\n",
    "            print('Your grade is C.')\n",
    "        else:\n",
    "            #same here\n",
    "            if score >= D_score:\n",
    "                print('Your grade is D.')\n",
    "            else:\n",
    "                #and lastly, same here\n",
    "                if score >= F_score:\n",
    "                    print('Your grade is F.')\n",
    "#so I did the alignment but it says the name is not defined but I just did the indentation that it asked for. "
   ]
  },
  {
   "cell_type": "markdown",
   "id": "349f9323",
   "metadata": {},
   "source": [
    "## Question 5 Additional Practice\n",
    "This question is asking me to write nested decision structures that perform amount1 being greater than 10 and amount2 being less than 100. It is asking me to display the greater of amount1 and amount2. "
   ]
  },
  {
   "cell_type": "code",
   "execution_count": 8,
   "id": "140ddd97",
   "metadata": {},
   "outputs": [
    {
     "name": "stdout",
     "output_type": "stream",
     "text": [
      "Enter the value for amount1: 11\n",
      "Enter the value for amount2: 23\n",
      "The greater of amount1 and amount2 is: 23.0\n"
     ]
    }
   ],
   "source": [
    "#first we start off with defining the amounts \n",
    "amount1 = float(input(\"Enter the value for amount1: \"))\n",
    "#and we are doing the same thing for amount 2 \n",
    "amount2 = float(input(\"Enter the value for amount2: \"))\n",
    "#now we start with defining the if statements for amount 1 and 2\n",
    "if amount1 > 10:\n",
    "#not on to the if statement for amount 2\n",
    "    if amount2 < 100:\n",
    "#and now summing up the overall amount\n",
    "        if amount1 > amount2: \n",
    "#now on to the print/else statements starting with printing that the lesser amount of amount 1 and 2 is amount 1\n",
    "            print(\"The lesser of amount1 and amount2 is:\", amount1)\n",
    "#now to put the first else\n",
    "        else: \n",
    "#and printing that the greater amount of amount 1 and 2 is amount 2\n",
    "            print(\"The greater of amount1 and amount2 is:\", amount2)\n",
    "#next else\n",
    "    else:\n",
    "#now to state that amount2 is no less than 100\n",
    "        print(\"amount2 is not less than 100.\")\n",
    "#next and final else\n",
    "else: \n",
    "#and amount 1 is no more than 10\n",
    "    print(\"amount1 is not greater than 10.\")"
   ]
  },
  {
   "cell_type": "markdown",
   "id": "999a17ef",
   "metadata": {},
   "source": [
    "### I am testing a second one if the amount exceeds the required amount. "
   ]
  },
  {
   "cell_type": "code",
   "execution_count": 9,
   "id": "fde5be56",
   "metadata": {},
   "outputs": [
    {
     "name": "stdout",
     "output_type": "stream",
     "text": [
      "Enter the value for amount1: 15\n",
      "Enter the value for amount2: 101\n",
      "amount2 is not less than 100.\n"
     ]
    }
   ],
   "source": [
    "#first we start off with defining the amounts \n",
    "amount1 = float(input(\"Enter the value for amount1: \"))\n",
    "#and we are doing the same thing for amount 2 \n",
    "amount2 = float(input(\"Enter the value for amount2: \"))\n",
    "#now we start with defining the if statements for amount 1 and 2\n",
    "if amount1 > 10:\n",
    "#not on to the if statement for amount 2\n",
    "    if amount2 < 100:\n",
    "#and now summing up the overall amount\n",
    "        if amount1 > amount2: \n",
    "#now on to the print/else statements starting with printing that the lesser amount of amount 1 and 2 is amount 1\n",
    "            print(\"The lesser of amount1 and amount2 is:\", amount1)\n",
    "#now to put the first else\n",
    "        else: \n",
    "#and printing that the greater amount of amount 1 and 2 is amount 2\n",
    "            print(\"The greater of amount1 and amount2 is:\", amount2)\n",
    "#next else\n",
    "    else:\n",
    "#now to state that amount2 is no less than 100\n",
    "        print(\"amount2 is not less than 100.\")\n",
    "#next and final else\n",
    "else: \n",
    "#and amount 1 is no more than 10\n",
    "    print(\"amount1 is not greater than 10.\")"
   ]
  },
  {
   "cell_type": "markdown",
   "id": "6e46f0c8",
   "metadata": {},
   "source": [
    "yay! "
   ]
  },
  {
   "cell_type": "markdown",
   "id": "0dd15b21",
   "metadata": {},
   "source": [
    "# Question 1 Programming Exercises \n",
    "This question is asking me to write a code for it to ask 1-7 corresponding to a day during the week, and then defining which number corresponds to which day. Then I have to write a statement for if they choose something outside of 1-7 saying some sort of error message. \n"
   ]
  },
  {
   "cell_type": "code",
   "execution_count": 18,
   "id": "8dc961be",
   "metadata": {},
   "outputs": [
    {
     "name": "stdout",
     "output_type": "stream",
     "text": [
      "Enter a number in the range of 1 through 7: 4\n",
      "The corresponding day of the week is: Thursday\n"
     ]
    }
   ],
   "source": [
    "#first starting off with defining my input. \n",
    "day_number = int(input(\"Enter a number in the range of 1 through 7: \"))\n",
    "#now for the if statement \n",
    "if 1 <= day_number <= 7: \n",
    "#And now we start our string of what numbers correspond to what days \n",
    "    if day_number == 1:\n",
    "#and now I add day_name monday for instance because it is the first day in the week\n",
    "        day_name = \"Monday\"\n",
    "#now I am going to add a elif statement or a else if statement so I can keep itall on the same line and nice and neat and organized\n",
    "    elif day_number == 2: \n",
    "#2 corresponds with tuesday so I am going to do the same day_name equals tuesday. \n",
    "        day_name = \"Tuesday\"\n",
    "#now onto number 3\n",
    "    elif day_number == 3: \n",
    "#this day corresponds with wednesday\n",
    "        day_name = \"Wednesday\"\n",
    "#now onto day 4 \n",
    "    elif day_number == 4:\n",
    "#which then corresponds to thursday\n",
    "        day_name = \"Thursday\"\n",
    "#day number 5\n",
    "    elif day_number == 5:\n",
    "#which then corresponds to friday\n",
    "        day_name = \"Friday\"\n",
    "#day number 6\n",
    "    elif day_number == 6:\n",
    "#which corresponds to saturday\n",
    "        day_name = \"Saturday\"\n",
    "#and finally day number 7 \n",
    "    elif day_number == 7:\n",
    "#which cooresponds to sunday\n",
    "        day_name = \"Sunday\"\n",
    "#now I have to add the print text for the corresponding day of the week for the number chosen\n",
    "    print(\"The corresponding day of the week is:\", day_name)\n",
    "#now the else statement if it is outside 1-7\n",
    "else:\n",
    "#this statement contains if the person were to input a number outside 1-7\n",
    "    print(\"Error: Please enter a number in the range of 1 through 7.\")"
   ]
  },
  {
   "cell_type": "markdown",
   "id": "b378db9a",
   "metadata": {},
   "source": [
    "now I am going to try a number outside of 1-7"
   ]
  },
  {
   "cell_type": "code",
   "execution_count": 19,
   "id": "ecd5f934",
   "metadata": {},
   "outputs": [
    {
     "name": "stdout",
     "output_type": "stream",
     "text": [
      "Enter a number in the range of 1 through 7: 8\n",
      "Error: Please enter a number in the range of 1 through 7.\n"
     ]
    }
   ],
   "source": [
    "#first starting off with defining my input. \n",
    "day_number = int(input(\"Enter a number in the range of 1 through 7: \"))\n",
    "#now for the if statement \n",
    "if 1 <= day_number <= 7: \n",
    "#And now we start our string of what numbers correspond to what days \n",
    "    if day_number == 1:\n",
    "#and now I add day_name monday for instance because it is the first day in the week\n",
    "        day_name = \"Monday\"\n",
    "#now I am going to add a elif statement or a else if statement so I can keep itall on the same line and nice and neat and organized\n",
    "    elif day_number == 2: \n",
    "#2 corresponds with tuesday so I am going to do the same day_name equals tuesday. \n",
    "        day_name = \"Tuesday\"\n",
    "#now onto number 3\n",
    "    elif day_number == 3: \n",
    "#this day corresponds with wednesday\n",
    "        day_name = \"Wednesday\"\n",
    "#now onto day 4 \n",
    "    elif day_number == 4:\n",
    "#which then corresponds to thursday\n",
    "        day_name = \"Thursday\"\n",
    "#day number 5\n",
    "    elif day_number == 5:\n",
    "#which then corresponds to friday\n",
    "        day_name = \"Friday\"\n",
    "#day number 6\n",
    "    elif day_number == 6:\n",
    "#which corresponds to saturday\n",
    "        day_name = \"Saturday\"\n",
    "#and finally day number 7 \n",
    "    elif day_number == 7:\n",
    "#which cooresponds to sunday\n",
    "        day_name = \"Sunday\"\n",
    "#now I have to add the print text for the corresponding day of the week for the number chosen\n",
    "    print(\"The corresponding day of the week is:\", day_name)\n",
    "#now the else statement if it is outside 1-7\n",
    "else:\n",
    "#this statement contains if the person were to input a number outside 1-7\n",
    "    print(\"Error: Please enter a number in the range of 1 through 7.\")"
   ]
  },
  {
   "cell_type": "markdown",
   "id": "8fdb3798",
   "metadata": {},
   "source": [
    "Sweet the error message is correct "
   ]
  },
  {
   "cell_type": "markdown",
   "id": "325dc1eb",
   "metadata": {},
   "source": [
    "# Question 5 Programming exercises \n",
    "This question is asking me to write a program for doing a calculation of weight in the term of newtons. But if it exceeds a certain amount it is not accepted and if it does not reach a certain amount that is not accepted either. It cannot exceed the weight of 500 newtons but has to be at least 100 for it to be within the range that the book is looking for."
   ]
  },
  {
   "cell_type": "code",
   "execution_count": 20,
   "id": "74e9006c",
   "metadata": {},
   "outputs": [
    {
     "name": "stdout",
     "output_type": "stream",
     "text": [
      "Enter the mass of the object in kilograms: 65\n",
      "The weight of the object is: 637.0 newtons\n",
      "The object is too heavy.\n"
     ]
    }
   ],
   "source": [
    "#first we start off with the definitions and what the words correspond to. Starting off with mass\n",
    "mass = float(input(\"Enter the mass of the object in kilograms: \"))\n",
    "#then going on to weight calculation of mass x 9.8 newtons. \n",
    "weight = mass * 9.8\n",
    "#now we do our first print line, and define that it is in newtons \n",
    "print(\"The weight of the object is:\", weight, \"newtons\")\n",
    "#and now we will start the if statement to define the limits of the weight its self\n",
    "if weight > 500:\n",
    "#starting with if the weight is over 500 it will type the text that it is too heavy \n",
    "    print(\"The object is too heavy.\")\n",
    "#now on to if it is less than 100 newtons \n",
    "elif weight < 100:\n",
    "#it will display the message that the oject is too light\n",
    "    print(\"The object is too light.\")\n",
    "#if it is within the boundaries it will give you a message\n",
    "else:\n",
    "#that message being that it is within the range\n",
    "    print(\"The object is within an acceptable weight range.\")\n"
   ]
  },
  {
   "cell_type": "markdown",
   "id": "2e12762f",
   "metadata": {},
   "source": [
    "I am going to try one within the range now"
   ]
  },
  {
   "cell_type": "code",
   "execution_count": 21,
   "id": "22f61f74",
   "metadata": {},
   "outputs": [
    {
     "name": "stdout",
     "output_type": "stream",
     "text": [
      "Enter the mass of the object in kilograms: 40\n",
      "The weight of the object is: 392.0 newtons\n",
      "The object is within an acceptable weight range.\n"
     ]
    }
   ],
   "source": [
    "#first we start off with the definitions and what the words correspond to. Starting off with mass\n",
    "mass = float(input(\"Enter the mass of the object in kilograms: \"))\n",
    "#then going on to weight calculation of mass x 9.8 newtons. \n",
    "weight = mass * 9.8\n",
    "#now we do our first print line, and define that it is in newtons \n",
    "print(\"The weight of the object is:\", weight, \"newtons\")\n",
    "#and now we will start the if statement to define the limits of the weight its self\n",
    "if weight > 500:\n",
    "#starting with if the weight is over 500 it will type the text that it is too heavy \n",
    "    print(\"The object is too heavy.\")\n",
    "#now on to if it is less than 100 newtons \n",
    "elif weight < 100:\n",
    "#it will display the message that the oject is too light\n",
    "    print(\"The object is too light.\")\n",
    "#if it is within the boundaries it will give you a message\n",
    "else:\n",
    "#that message being that it is within the range\n",
    "    print(\"The object is within an acceptable weight range.\")"
   ]
  },
  {
   "cell_type": "markdown",
   "id": "c6ece264",
   "metadata": {},
   "source": [
    "sweet so we know now that it works for if it is both within the limit and outside the limit. "
   ]
  },
  {
   "cell_type": "markdown",
   "id": "61207a06",
   "metadata": {},
   "source": [
    "# Question 15 (6th edition) Days in February\n",
    "this is just asking me to write a simple code to determine how many days would be in february for the year that is given. And if it is it will output 29 and if it isnt it will ouput 28. "
   ]
  },
  {
   "cell_type": "code",
   "execution_count": 22,
   "id": "a512b17b",
   "metadata": {},
   "outputs": [
    {
     "name": "stdout",
     "output_type": "stream",
     "text": [
      "Enter a year: 2024\n",
      "In 2024, February has 29 days.\n"
     ]
    }
   ],
   "source": [
    "#First starting off with the user inputting a year \n",
    "year = int(input(\"Enter a year: \"))\n",
    "#then we go to the if statement on whether it is a correct year and a little calculation showing it. I had chat help me with this one because I got a little stumped. \n",
    "if (year % 100 == 0 and year % 400 == 0) or (year % 100 != 0 and year % 4 == 0):\n",
    "#now this would say that it means the year corresponds to the february that year having 29 days. \n",
    "    days_in_february = 29\n",
    "#now onto the else statement if the year is not within that range \n",
    "else:\n",
    "#it will display 28 days \n",
    "    days_in_february = 28\n",
    "#and now just what it will say for the year that you entered and the amount of days that comes out to be \n",
    "print(f\"In {year}, February has {days_in_february} days.\")\n"
   ]
  },
  {
   "cell_type": "markdown",
   "id": "26a51a3c",
   "metadata": {},
   "source": [
    "I did 2024 cause I know this is a leap year. Now I will try 2023 to see if it gives me 28"
   ]
  },
  {
   "cell_type": "code",
   "execution_count": 23,
   "id": "9bd6d004",
   "metadata": {},
   "outputs": [
    {
     "name": "stdout",
     "output_type": "stream",
     "text": [
      "Enter a year: 2023\n",
      "In 2023, February has 28 days.\n"
     ]
    }
   ],
   "source": [
    "#First starting off with the user inputting a year \n",
    "year = int(input(\"Enter a year: \"))\n",
    "#then we go to the if statement on whether it is a correct year and a little calculation showing it. I had chat help me with this one because I got a little stumped. \n",
    "if (year % 100 == 0 and year % 400 == 0) or (year % 100 != 0 and year % 4 == 0):\n",
    "#now this would say that it means the year corresponds to the february that year having 29 days. \n",
    "    days_in_february = 29\n",
    "#now onto the else statement if the year is not within that range \n",
    "else:\n",
    "#it will display 28 days \n",
    "    days_in_february = 28\n",
    "#and now just what it will say for the year that you entered and the amount of days that comes out to be \n",
    "print(f\"In {year}, February has {days_in_february} days.\")\n"
   ]
  },
  {
   "cell_type": "markdown",
   "id": "14937421",
   "metadata": {},
   "source": [
    "sweet!"
   ]
  },
  {
   "cell_type": "markdown",
   "id": "d7f5571e",
   "metadata": {},
   "source": [
    "# Question 17 (6th edition) Restaurant Selector\n",
    "This question is asking me to write a code for selecting a restaurant based on dietary/belief needs. So for vegan, vegetarian and gluten free (fun fact I have celiac so I am gluten free!) and the goal is to have it make a list for the restaurants you are safe to eat at given the conditions. "
   ]
  },
  {
   "cell_type": "code",
   "execution_count": 24,
   "id": "d985d8ed",
   "metadata": {},
   "outputs": [
    {
     "name": "stdout",
     "output_type": "stream",
     "text": [
      "Welcome to the Restaurant Selector!\n",
      "Please answer the following questions about dietary preferences:\n",
      "Is anyone in your party vegetarian? (yes/no): no\n",
      "Is anyone in your party vegan? (yes/no): yes\n",
      "Is anyone in your party gluten-free? (yes/no): yes\n",
      "\n",
      "Restaurant Options:\n",
      "1. Joe's Gourmet Burgers\n",
      "2. Main Street Pizza Company\n",
      "3. Mama's Fine Italian\n",
      "4. The Chef's Kitchen\n",
      "\n",
      "Enjoy your meal!\n"
     ]
    }
   ],
   "source": [
    "#first we start off by welcoming the user to a selector to help them. \n",
    "print(\"Welcome to the Restaurant Selector!\")\n",
    "#now we write a prompt to ask them the following questions\n",
    "print(\"Please answer the following questions about dietary preferences:\")\n",
    "#now we state the questions one by one and write a yes or no option starting with asking if someone is vegetarian\n",
    "vegetarian = input(\"Is anyone in your party vegetarian? (yes/no): \").lower()\n",
    "#next vegan\n",
    "vegan = input(\"Is anyone in your party vegan? (yes/no): \").lower()\n",
    "#finally gluten free\n",
    "gluten_free = input(\"Is anyone in your party gluten-free? (yes/no): \").lower()\n",
    "#next we print the options the user has\n",
    "print(\"\\nRestaurant Options:\")\n",
    "#we will do vegetarian because these options depend on that answer precisely \n",
    "if vegetarian == \"yes\":\n",
    "#now we print the available restaurants with vegetarian options\n",
    "    print(\"1. Main Street Pizza Company\")\n",
    "#option 2\n",
    "    print(\"2. Corner Cafe\")\n",
    "#option 3\n",
    "    print(\"3. Mama's Fine Italian\")\n",
    "#option 4\n",
    "    print(\"4. The Chef's Kitchen\")\n",
    "#now for the else statement with the options that were not included\n",
    "else:\n",
    "#option 1\n",
    "    print(\"1. Joe's Gourmet Burgers\")\n",
    "#option 2\n",
    "    print(\"2. Main Street Pizza Company\")\n",
    "#option 3\n",
    "    print(\"3. Mama's Fine Italian\")\n",
    "#option 4\n",
    "    print(\"4. The Chef's Kitchen\")\n",
    "#and finally we let them know to enjoy their meal at one of te places available! \n",
    "print(\"\\nEnjoy your meal!\")\n"
   ]
  }
 ],
 "metadata": {
  "kernelspec": {
   "display_name": "Python 3 (ipykernel)",
   "language": "python",
   "name": "python3"
  },
  "language_info": {
   "codemirror_mode": {
    "name": "ipython",
    "version": 3
   },
   "file_extension": ".py",
   "mimetype": "text/x-python",
   "name": "python",
   "nbconvert_exporter": "python",
   "pygments_lexer": "ipython3",
   "version": "3.11.5"
  }
 },
 "nbformat": 4,
 "nbformat_minor": 5
}
