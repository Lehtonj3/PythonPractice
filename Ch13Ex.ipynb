{
 "cells": [
  {
   "cell_type": "markdown",
   "id": "b439ea9d",
   "metadata": {},
   "source": [
    "# Chapter 13 Questions"
   ]
  },
  {
   "cell_type": "markdown",
   "id": "89c93271",
   "metadata": {},
   "source": [
    "## Question 4 Celcius to Farenheight\n",
    "Write a GUI program that converts Celsius temperatures to Fahrenheit temperatures. The user should be able to enter a Celsius temperature, click a button, then see the equivalent Fahrenheit temperature. Use the following formula to make the conversion: F = 9/5C + 32\n",
    "F is the Fahrenheit temperature, and C is the Celsius temperature.\n",
    "\n",
    "For what I will do is insert the tkinter then define converting temperature. Then I will I will define faren, celcius and label the result. Then go onto creating the application window and labeling the celcius inputs. Then the button to convert it. Then displaying the result. "
   ]
  },
  {
   "cell_type": "code",
   "execution_count": null,
   "id": "597c8f05",
   "metadata": {},
   "outputs": [],
   "source": []
  }
 ],
 "metadata": {
  "kernelspec": {
   "display_name": "Python 3 (ipykernel)",
   "language": "python",
   "name": "python3"
  },
  "language_info": {
   "codemirror_mode": {
    "name": "ipython",
    "version": 3
   },
   "file_extension": ".py",
   "mimetype": "text/x-python",
   "name": "python",
   "nbconvert_exporter": "python",
   "pygments_lexer": "ipython3",
   "version": "3.11.5"
  }
 },
 "nbformat": 4,
 "nbformat_minor": 5
}
