{
 "cells": [
  {
   "cell_type": "markdown",
   "id": "56472ab5",
   "metadata": {},
   "source": [
    "# Chapter 13 Questions"
   ]
  },
  {
   "cell_type": "markdown",
   "id": "345e54e9",
   "metadata": {},
   "source": [
    "## Question 4 Celcius to Farenheight\n",
    "Write a GUI program that converts Celsius temperatures to Fahrenheit temperatures. The user should be able to enter a Celsius temperature, click a button, then see the equivalent Fahrenheit temperature. Use the following formula to make the conversion: F = 9/5C + 32\n",
    "F is the Fahrenheit temperature, and C is the Celsius temperature.\n",
    "\n",
    "For what I will do is insert the tkinter then define converting temperature. Then I will define faren, celcius and label the result. Then go onto creating the application window and labeling the celcius inputs. Then the button to convert it. Then displaying the result. "
   ]
  },
  {
   "cell_type": "code",
   "execution_count": 9,
   "id": "4ec21da5",
   "metadata": {},
   "outputs": [],
   "source": [
    "import tkinter as tk\n",
    "\n",
    "#define convert temp \n",
    "def convert_temperature():\n",
    "    try: \n",
    "        #define celcius and farenheight\n",
    "        celsius = float(entry_celsius.get())\n",
    "        farenheight = (9/5) * celsius + 32\n",
    "        label_result.config(text=f\"{celsius} Celsius = {farenheight:.2f} Farenheight\")\n",
    "    except ValueError:\n",
    "        label_result.config(text=\"Please enter a valid number for Celsius.\")\n",
    "        \n",
    "#Create the main app window\n",
    "root = tk.Tk()\n",
    "root.title(\"Celcius To Farenheight Converter\")\n",
    "\n",
    "#Create a label for the input \n",
    "label_celsius = tk.Label(root, text=\"Enter Celsius temperature:\")\n",
    "label_celsius.grid(row=0, column=0, padx=5, pady=5)\n",
    "\n",
    "#Create a way to enter the input\n",
    "entry_celsius = tk.Entry(root)\n",
    "entry_celsius.grid(row=0, column=1, padx=5, pady=5)\n",
    "\n",
    "#Create the button to convert\n",
    "button_convert = tk.Button(root, text=\"Convert\", command=convert_temperature)\n",
    "button_convert.grid(row=1, column=0, columnspan=2, padx=5, pady=5)\n",
    "\n",
    "#Create the label to display the converted result\n",
    "label_result = tk.Label(root, text=\"\")\n",
    "label_result.grid(row=2, column=0, columnspan=2, padx=5, pady=5)\n",
    "\n",
    "#Start the main loop\n",
    "root.mainloop()\n",
    "\n"
   ]
  },
  {
   "cell_type": "code",
   "execution_count": null,
   "id": "17c7b7e3",
   "metadata": {},
   "outputs": [],
   "source": []
  }
 ],
 "metadata": {
  "kernelspec": {
   "display_name": "Python 3 (ipykernel)",
   "language": "python",
   "name": "python3"
  },
  "language_info": {
   "codemirror_mode": {
    "name": "ipython",
    "version": 3
   },
   "file_extension": ".py",
   "mimetype": "text/x-python",
   "name": "python",
   "nbconvert_exporter": "python",
   "pygments_lexer": "ipython3",
   "version": "3.11.5"
  }
 },
 "nbformat": 4,
 "nbformat_minor": 5
}
