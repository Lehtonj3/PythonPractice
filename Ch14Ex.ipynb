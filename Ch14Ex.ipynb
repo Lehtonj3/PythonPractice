{
 "cells": [
  {
   "cell_type": "markdown",
   "id": "667da231",
   "metadata": {},
   "source": [
    "# Chapter 14 Question\n",
    "\n",
    "## Question 2 Phone Book Database"
   ]
  },
  {
   "cell_type": "code",
   "execution_count": null,
   "id": "d00b4ab2",
   "metadata": {},
   "outputs": [],
   "source": [
    "import sqlite3\n",
    "\n",
    "# create a function that will record the phonebook database\n",
    "def create_phonebook_database():\n",
    "    conn = sqlite3.connect('phonebook.db')\n",
    "    c = conn.cursor()\n",
    "    c.execute('''CREATE TABLE IF NOT EXISTS Entries\n",
    "                 (name TEXT PRIMARY KEY, PHONE_number TEXT)''')\n",
    "    conn.commit()\n",
    "    conn.close()\n",
    "    \n",
    "# function to add entries to the phone book\n",
    "def add_entry(name, phone_number):\n",
    "    conn = sqlite3.connect('phonebook.db')\n",
    "    c = conn.cursor()\n",
    "    c.execute(\"INSERT INTO Entries VALUES, (?, ?)\", (name, phone_number))\n",
    "    conn.commit()\n",
    "    conn.close()\n",
    "    \n",
    "#function to look up the names and numbers\n",
    "def lookup_entry(name):\n",
    "    conn = sqlite3.connect('phonebook.db')\n",
    "    c.execute(\"SELECT phone_number FROM Entries WHERE name=?\" (name))\n",
    "    result = c.fetchone()\n",
    "    conn.close()\n",
    "    if result:\n",
    "        return result[0]\n",
    "    else:\n",
    "        return \"Entry not found\"\n",
    "\n",
    "#function to update an entry\n",
    "def update_entry(name, new_phone_number):\n",
    "    conn = sqlite3.connect('phonebook.db')\n",
    "    c.execute(\"UPDATE Entries SET phone_number=? WHERE name=?\", (new_phone_number, name))\n",
    "    conn.commit()\n",
    "    conn.close()\n",
    "    \n",
    "# function to delete contacts \n",
    "def delete_entry(name):\n",
    "    conn = sqlite3.connect('phonebook.db')\n",
    "    c = conn.curso()\n",
    "    c.execute(\"DELETE FROM Entries WHERE name=?\", (name))\n",
    "    conn.commit()\n",
    "    conn.close()\n",
    "    \n",
    "# main functon to run te CRUD appliction\n",
    "def main():\n",
    "    create_phonebook_database()\n",
    "    \n",
    "    while True: \n",
    "        print(\"\\nPhoonebook Menu:\")\n",
    "        print(\"1. Add an entry\")\n",
    "        print(\"2. Look up a phone number\")\n",
    "        print(\"3. Update a phone number\")\n",
    "        print(\"4. \""
   ]
  }
 ],
 "metadata": {
  "kernelspec": {
   "display_name": "Python 3 (ipykernel)",
   "language": "python",
   "name": "python3"
  },
  "language_info": {
   "codemirror_mode": {
    "name": "ipython",
    "version": 3
   },
   "file_extension": ".py",
   "mimetype": "text/x-python",
   "name": "python",
   "nbconvert_exporter": "python",
   "pygments_lexer": "ipython3",
   "version": "3.11.5"
  }
 },
 "nbformat": 4,
 "nbformat_minor": 5
}
