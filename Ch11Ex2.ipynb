{
 "cells": [
  {
   "cell_type": "markdown",
   "id": "ced76313",
   "metadata": {},
   "source": [
    "# Chapter 11 part 2 Questions\n"
   ]
  },
  {
   "cell_type": "markdown",
   "id": "ad24b262",
   "metadata": {},
   "source": [
    "# Question 2 Shift Supervisor Class\n",
    "In a particular factory, a shift supervisor is a salaried employee who supervises a shift. In addition to a salary, the shift supervisor earns a yearly bonus when his or her shift meets production goals. Write a ShiftSupervisor class that is a subclass of the Employee class you created in Programming Exercise 1. The ShiftSupervisor class should keep a data attribute for the annual salary, and a data attribute for the annual production bonus that a shift supervisor has earned. Demonstrate the class by writing a program that uses a ShiftSupervisor object. \n",
    "\n",
    "For this I am going to do the same thing I did with the other question but this time there was different criteria I had to account for. And I will make the slight adjustments. This code should be pretty straight forward! \n"
   ]
  },
  {
   "cell_type": "code",
   "execution_count": null,
   "id": "060291f2",
   "metadata": {},
   "outputs": [],
   "source": []
  }
 ],
 "metadata": {
  "kernelspec": {
   "display_name": "Python 3 (ipykernel)",
   "language": "python",
   "name": "python3"
  },
  "language_info": {
   "codemirror_mode": {
    "name": "ipython",
    "version": 3
   },
   "file_extension": ".py",
   "mimetype": "text/x-python",
   "name": "python",
   "nbconvert_exporter": "python",
   "pygments_lexer": "ipython3",
   "version": "3.11.5"
  }
 },
 "nbformat": 4,
 "nbformat_minor": 5
}
