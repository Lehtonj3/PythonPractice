{
 "cells": [
  {
   "cell_type": "markdown",
   "id": "ef6d8b69",
   "metadata": {},
   "source": [
    "# Chapter 11 part 2 Questions\n"
   ]
  },
  {
   "cell_type": "markdown",
   "id": "dc96dbc4",
   "metadata": {},
   "source": [
    "# Question 2 Shift Supervisor Class\n",
    "In a particular factory, a shift supervisor is a salaried employee who supervises a shift. In addition to a salary, the shift supervisor earns a yearly bonus when his or her shift meets production goals. Write a ShiftSupervisor class that is a subclass of the Employee class you created in Programming Exercise 1. The ShiftSupervisor class should keep a data attribute for the annual salary, and a data attribute for the annual production bonus that a shift supervisor has earned. Demonstrate the class by writing a program that uses a ShiftSupervisor object. \n",
    "\n",
    "For this I am going to do the same thing I did with the other question but this time there was different criteria I had to account for. And I will make the slight adjustments. This code should be pretty straight forward! \n"
   ]
  },
  {
   "cell_type": "code",
   "execution_count": 3,
   "id": "508cab87",
   "metadata": {},
   "outputs": [
    {
     "name": "stdout",
     "output_type": "stream",
     "text": [
      "Enter shift Supervisor's name: Ronald\n",
      "Enter shift Supervisor's number: 34636\n",
      "Enter shift Supervisor's annual salary: 140000\n",
      "Enter shift Supervisor's annual production bonus: 5000\n",
      "\n",
      "Shift Supervisor Information:\n",
      "Name: Ronald\n",
      "Number: 34636\n",
      "Annual Salary: 140000.0\n",
      "Annual Bonus: 5000.0\n"
     ]
    }
   ],
   "source": [
    "#import ShiftSupervisor from supervisor.py\n",
    "from supervisor import ShiftSupervisor\n",
    "\n",
    "#define the main function with name number salary and bonus\n",
    "def main():\n",
    "    name = input(\"Enter shift Supervisor's name: \")\n",
    "    number = input(\"Enter shift Supervisor's number: \")\n",
    "    annual_salary = float(input(\"Enter shift Supervisor's annual salary: \"))\n",
    "    annual_bonus = float(input(\"Enter shift Supervisor's annual production bonus: \"))\n",
    "    \n",
    "    #create the user in the file\n",
    "    supervisor = ShiftSupervisor(name, number, annual_salary, annual_bonus)\n",
    "    \n",
    "    #print all of the statements\n",
    "    print(\"\\nShift Supervisor Information:\")\n",
    "    print(\"Name:\", supervisor.get_name())\n",
    "    print(\"Number:\", supervisor.get_number())\n",
    "    print(\"Annual Salary:\", supervisor.get_annual_salary())\n",
    "    print(\"Annual Bonus:\", supervisor.get_annual_bonus())\n",
    "    \n",
    "#call to main\n",
    "if __name__ == \"__main__\":\n",
    "    main()"
   ]
  },
  {
   "cell_type": "code",
   "execution_count": null,
   "id": "99ba738a",
   "metadata": {},
   "outputs": [],
   "source": []
  }
 ],
 "metadata": {
  "kernelspec": {
   "display_name": "Python 3 (ipykernel)",
   "language": "python",
   "name": "python3"
  },
  "language_info": {
   "codemirror_mode": {
    "name": "ipython",
    "version": 3
   },
   "file_extension": ".py",
   "mimetype": "text/x-python",
   "name": "python",
   "nbconvert_exporter": "python",
   "pygments_lexer": "ipython3",
   "version": "3.11.5"
  }
 },
 "nbformat": 4,
 "nbformat_minor": 5
}
