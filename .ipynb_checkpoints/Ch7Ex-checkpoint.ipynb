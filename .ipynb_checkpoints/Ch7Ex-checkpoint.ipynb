{
 "cells": [
  {
   "cell_type": "markdown",
   "id": "f4afee8b",
   "metadata": {},
   "source": [
    "# Chapter 7 Exercises\n",
    "Done by: Jacob Lehtonen\n"
   ]
  },
  {
   "cell_type": "markdown",
   "id": "0a4d2b54",
   "metadata": {},
   "source": [
    "## Algorithm Workbench Questions:"
   ]
  },
  {
   "cell_type": "markdown",
   "id": "04401470",
   "metadata": {},
   "source": [
    "### Question 1\n",
    "Write a statement that creates a list with the following strings: 'Einstein', 'Newton', 'Copernicus', and 'Kepler'. \n",
    "For this code, it is pretty simple what I will do is start out with my list function, and list the names that I would like it to list, and then I will write the print function to print these names. *update* I am going back and changing \"name\" to list."
   ]
  },
  {
   "cell_type": "code",
   "execution_count": 3,
   "id": "24d7f08d",
   "metadata": {},
   "outputs": [
    {
     "name": "stdout",
     "output_type": "stream",
     "text": [
      "['Enstein', 'Newton', 'Copernicus', 'Kepler']\n"
     ]
    }
   ],
   "source": [
    "list = ['Enstein', 'Newton', 'Copernicus', 'Kepler']\n",
    "print(list)"
   ]
  },
  {
   "cell_type": "markdown",
   "id": "3840e18d",
   "metadata": {},
   "source": [
    "### Question 7 \n",
    "What will the following code print? \n",
    "list1 = [40, 50, 60]\n",
    "list2 = [10, 20, 30]\n",
    "list3 = list1 + list2\n",
    "print(list3) \n",
    "I think when I imput this code, it will add 40 with 10, 50 with 20 and 60 with 30. Because that I think it would be how it works. I don't see any other thing it would do but I could be wrong unless it just adds them all together. "
   ]
  },
  {
   "cell_type": "code",
   "execution_count": null,
   "id": "1848fe2f",
   "metadata": {},
   "outputs": [],
   "source": []
  }
 ],
 "metadata": {
  "kernelspec": {
   "display_name": "Python 3 (ipykernel)",
   "language": "python",
   "name": "python3"
  },
  "language_info": {
   "codemirror_mode": {
    "name": "ipython",
    "version": 3
   },
   "file_extension": ".py",
   "mimetype": "text/x-python",
   "name": "python",
   "nbconvert_exporter": "python",
   "pygments_lexer": "ipython3",
   "version": "3.11.5"
  }
 },
 "nbformat": 4,
 "nbformat_minor": 5
}
