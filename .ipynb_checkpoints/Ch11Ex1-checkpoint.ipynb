{
 "cells": [
  {
   "cell_type": "markdown",
   "id": "dc4cb32e",
   "metadata": {},
   "source": [
    "# Chapter 10 Questions "
   ]
  },
  {
   "cell_type": "markdown",
   "id": "03fbd0de",
   "metadata": {},
   "source": [
    "These questiosn are from the digital book. \n"
   ]
  },
  {
   "cell_type": "markdown",
   "id": "d099a9c5",
   "metadata": {},
   "source": [
    "## Question 1  Employee and ProductionWorker Classes\n",
    "Write an Employee class that keeps data attributes for the following pieces of information:  Employee name Employee number Next, write a class named ProductionWorker that is a subclass of the Employee class. The ProductionWorker class should keep data attributes for the following information:  Shift number (an integer, such as 1, 2, or 3) Hourly pay rate The workday is divided into two shifts: day and night. The shift attribute will hold an integer value representing the shift that the employee works. The day shift is shift 1 and the night shift is shift 2. Write the appropriate accessor and mutator methods for each class. Once you have written the classes, write a program that creates an object of the  class and prompts the user to enter data for each of the object’s data attributes. Store the data in the object, then use the object’s accessor methods to retrieve it and display it on the screen.\n",
    "\n",
    "For this I will write a string in a txt file including employee and productionworker then I will come back here and import the productionworker code and have it prompt the user with entering name employee number shift and hourly rate. "
   ]
  },
  {
   "cell_type": "code",
   "execution_count": 10,
   "id": "6b2a3fdd",
   "metadata": {},
   "outputs": [
    {
     "ename": "ImportError",
     "evalue": "cannot import name 'ShiftEmployee' from 'employee' (C:\\Users\\jakel\\OneDrive\\Documents\\GitHub\\PythonPractice\\employee.py)",
     "output_type": "error",
     "traceback": [
      "\u001b[1;31m---------------------------------------------------------------------------\u001b[0m",
      "\u001b[1;31mImportError\u001b[0m                               Traceback (most recent call last)",
      "Cell \u001b[1;32mIn[10], line 3\u001b[0m\n\u001b[0;32m      1\u001b[0m \u001b[38;5;66;03m# In an IPython notebook cell\u001b[39;00m\n\u001b[1;32m----> 3\u001b[0m \u001b[38;5;28;01mfrom\u001b[39;00m \u001b[38;5;21;01memployee\u001b[39;00m \u001b[38;5;28;01mimport\u001b[39;00m ShiftEmployee\n\u001b[0;32m      5\u001b[0m \u001b[38;5;28;01mdef\u001b[39;00m \u001b[38;5;21mmain\u001b[39m():\n\u001b[0;32m      6\u001b[0m     name \u001b[38;5;241m=\u001b[39m \u001b[38;5;28minput\u001b[39m(\u001b[38;5;124m\"\u001b[39m\u001b[38;5;124mEnter employee\u001b[39m\u001b[38;5;124m'\u001b[39m\u001b[38;5;124ms name: \u001b[39m\u001b[38;5;124m\"\u001b[39m)\n",
      "\u001b[1;31mImportError\u001b[0m: cannot import name 'ShiftEmployee' from 'employee' (C:\\Users\\jakel\\OneDrive\\Documents\\GitHub\\PythonPractice\\employee.py)"
     ]
    }
   ],
   "source": [
    "#\n",
    "from employee import ProductionWorker\n",
    "\n",
    "#\n",
    "def main():\n",
    "    name = input(\"Enter employee name: \")\n",
    "    number = input(\"Enter employee number: \")\n",
    "    shift = int(input(\"Enter shift number (1 for day, 2 for night): \"))\n",
    "    hourly_rate = float(input(\"Enter hourly pay rate: \"))\n",
    "    \n",
    "    worker = ProductionWorker(name, number, shift, hourly_rate)\n",
    "    \n",
    "    #Display the information\n",
    "    print(\"\\nEmployee Information:\")\n",
    "    print(\"Name:\", worker.get_name())\n",
    "    print(\"Number:\", worker.get_number())\n",
    "    \n",
    "    #if statements for day and night shifts\n",
    "    if worker.get_shift() == 1:\n",
    "        print(\"Shift: Day\")\n",
    "    elif worker.get_shift() == 2:\n",
    "        print(\"Shift: Night\")\n",
    "    else:\n",
    "        print(\"Shift: Not Recognized\")\n",
    "    print(\"Hourly Pay Rate:\", worker.get_hourly_rate())\n",
    "if __name__ == \"__main__\":\n",
    "    main()"
   ]
  },
  {
   "cell_type": "code",
   "execution_count": null,
   "id": "44cce757",
   "metadata": {},
   "outputs": [],
   "source": []
  }
 ],
 "metadata": {
  "kernelspec": {
   "display_name": "Python 3 (ipykernel)",
   "language": "python",
   "name": "python3"
  },
  "language_info": {
   "codemirror_mode": {
    "name": "ipython",
    "version": 3
   },
   "file_extension": ".py",
   "mimetype": "text/x-python",
   "name": "python",
   "nbconvert_exporter": "python",
   "pygments_lexer": "ipython3",
   "version": "3.11.5"
  }
 },
 "nbformat": 4,
 "nbformat_minor": 5
}
