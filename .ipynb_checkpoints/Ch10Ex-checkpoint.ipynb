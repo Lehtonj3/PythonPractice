{
 "cells": [
  {
   "cell_type": "markdown",
   "id": "38395d9f",
   "metadata": {},
   "source": [
    "# Chapter 10 Exercises\n",
    "all work has been completed by Jacob Lehtonen\n"
   ]
  },
  {
   "cell_type": "markdown",
   "id": "68f068cb",
   "metadata": {},
   "source": [
    "## Question 2 Car Class\n",
    "\n",
    "Write a class named Car that has the following data attributes:   (for the car’s year model) (for the make of the car) (for the car’s current speed)The Car class should have an  method that accepts the car’s year model and make as arguments. These values should be assigned to the object’s  and  data attributes. It should also assign 0 to the  data attribute.The class should also have the following methods:   The  method should add 5 to the speed data attribute each time it is called.  The  method should subtract 5 from the speed data attribute each time it is called. The  method should return the current speed.Next, design a program that creates a  object then calls the accelerate method five times. After each call to the accelerate method, get the current speed of the car and display it. Then call the  method five times. After each call to the  method, get the current speed of the car and display it.\n",
    "\n",
    "For this question I will be following the video tring to work it out myself along the way. And andswer the questions he has for us while discussing on my own. "
   ]
  },
  {
   "cell_type": "code",
   "execution_count": 27,
   "id": "ccf3fa6d",
   "metadata": {},
   "outputs": [
    {
     "ename": "AttributeError",
     "evalue": "module 'car' has no attribute 'car'",
     "output_type": "error",
     "traceback": [
      "\u001b[1;31m---------------------------------------------------------------------------\u001b[0m",
      "\u001b[1;31mAttributeError\u001b[0m                            Traceback (most recent call last)",
      "Cell \u001b[1;32mIn[27], line 29\u001b[0m\n\u001b[0;32m     26\u001b[0m         car\u001b[38;5;241m.\u001b[39maccelerate()\n\u001b[0;32m     27\u001b[0m         \u001b[38;5;28mprint\u001b[39m(\u001b[38;5;124mf\u001b[39m\u001b[38;5;124m\"\u001b[39m\u001b[38;5;124mCurrent Speed: \u001b[39m\u001b[38;5;132;01m{\u001b[39;00mcar\u001b[38;5;241m.\u001b[39mget_speed()\u001b[38;5;132;01m}\u001b[39;00m\u001b[38;5;124m\"\u001b[39m)\n\u001b[1;32m---> 29\u001b[0m main()\n",
      "Cell \u001b[1;32mIn[27], line 5\u001b[0m, in \u001b[0;36mmain\u001b[1;34m()\u001b[0m\n\u001b[0;32m      3\u001b[0m \u001b[38;5;28;01mdef\u001b[39;00m \u001b[38;5;21mmain\u001b[39m():\n\u001b[0;32m      4\u001b[0m     \u001b[38;5;66;03m#create a car object\u001b[39;00m\n\u001b[1;32m----> 5\u001b[0m     my_car \u001b[38;5;241m=\u001b[39m car\u001b[38;5;241m.\u001b[39mcar(\u001b[38;5;241m2023\u001b[39m, \u001b[38;5;124m\"\u001b[39m\u001b[38;5;124mExample Make\u001b[39m\u001b[38;5;124m\"\u001b[39m)\n\u001b[0;32m      7\u001b[0m     \u001b[38;5;66;03m#accerlerate the car five times\u001b[39;00m\n\u001b[0;32m      8\u001b[0m     accelerate(my_car, \u001b[38;5;241m5\u001b[39m)\n",
      "\u001b[1;31mAttributeError\u001b[0m: module 'car' has no attribute 'car'"
     ]
    }
   ],
   "source": [
    "import car\n",
    "\n",
    "def main():\n",
    "    #create a car object\n",
    "    my_car = car.car(2023, \"Example Make\")\n",
    "    \n",
    "    #accerlerate the car five times\n",
    "    accelerate(my_car, 5)\n",
    "    \n",
    "    #get the current speed\n",
    "    print(\"Speed after accelerating:\", my_car.get_speed())\n",
    "    \n",
    "    #brake 5 times\n",
    "    brake(my_car, 5)\n",
    "    \n",
    "    #get the current speed agian|\n",
    "    print(\"Final speed:\", my_car.get_speed())\n",
    "\n",
    "def brake(car, count):\n",
    "    for _ in range(count):\n",
    "        car.brake()\n",
    "        print(f\"Current Speed: {car.get_speed()}\")\n",
    "        \n",
    "def accelerate(car, count):\n",
    "    for _ in range(count):\n",
    "        car.accelerate()\n",
    "        print(f\"Current Speed: {car.get_speed()}\")\n",
    "\n",
    "main()"
   ]
  },
  {
   "cell_type": "code",
   "execution_count": null,
   "id": "a86ef115",
   "metadata": {},
   "outputs": [],
   "source": []
  },
  {
   "cell_type": "code",
   "execution_count": null,
   "id": "d436127d",
   "metadata": {},
   "outputs": [],
   "source": []
  },
  {
   "cell_type": "code",
   "execution_count": null,
   "id": "7cd1985c",
   "metadata": {},
   "outputs": [],
   "source": []
  },
  {
   "cell_type": "code",
   "execution_count": null,
   "id": "b2b9803e",
   "metadata": {},
   "outputs": [],
   "source": []
  },
  {
   "cell_type": "code",
   "execution_count": null,
   "id": "dc0fb99f",
   "metadata": {},
   "outputs": [],
   "source": []
  },
  {
   "cell_type": "code",
   "execution_count": null,
   "id": "48d6a5d4",
   "metadata": {},
   "outputs": [],
   "source": []
  },
  {
   "cell_type": "code",
   "execution_count": null,
   "id": "78786188",
   "metadata": {},
   "outputs": [],
   "source": []
  },
  {
   "cell_type": "code",
   "execution_count": null,
   "id": "4c825bb4",
   "metadata": {},
   "outputs": [],
   "source": []
  }
 ],
 "metadata": {
  "kernelspec": {
   "display_name": "Python 3 (ipykernel)",
   "language": "python",
   "name": "python3"
  },
  "language_info": {
   "codemirror_mode": {
    "name": "ipython",
    "version": 3
   },
   "file_extension": ".py",
   "mimetype": "text/x-python",
   "name": "python",
   "nbconvert_exporter": "python",
   "pygments_lexer": "ipython3",
   "version": "3.11.5"
  }
 },
 "nbformat": 4,
 "nbformat_minor": 5
}
