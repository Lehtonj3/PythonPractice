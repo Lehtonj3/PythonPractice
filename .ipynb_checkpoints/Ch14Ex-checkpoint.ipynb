{
 "cells": [
  {
   "cell_type": "markdown",
   "id": "ee0f6685",
   "metadata": {},
   "source": [
    "# Chapter 14 Question\n",
    "\n",
    "## Question 2 Phone Book Database"
   ]
  },
  {
   "cell_type": "code",
   "execution_count": 7,
   "id": "42aeb69f",
   "metadata": {},
   "outputs": [
    {
     "name": "stdout",
     "output_type": "stream",
     "text": [
      "\n",
      "Phoonebook Menu:\n",
      "1. Add an entry\n",
      "2. Look up a phone number\n",
      "3. Update a phone number\n",
      "4. Delete an entry\n",
      "5. Exit\n",
      "enter your Choice: 1\n",
      "Enter the name: Joe\n",
      "Enter the number: 123-456-7890\n"
     ]
    },
    {
     "ename": "OperationalError",
     "evalue": "database is locked",
     "output_type": "error",
     "traceback": [
      "\u001b[1;31m---------------------------------------------------------------------------\u001b[0m",
      "\u001b[1;31mOperationalError\u001b[0m                          Traceback (most recent call last)",
      "Cell \u001b[1;32mIn[7], line 86\u001b[0m\n\u001b[0;32m     84\u001b[0m \u001b[38;5;66;03m#call to main\u001b[39;00m\n\u001b[0;32m     85\u001b[0m \u001b[38;5;28;01mif\u001b[39;00m \u001b[38;5;18m__name__\u001b[39m \u001b[38;5;241m==\u001b[39m \u001b[38;5;124m'\u001b[39m\u001b[38;5;124m__main__\u001b[39m\u001b[38;5;124m'\u001b[39m:\n\u001b[1;32m---> 86\u001b[0m     main()\n",
      "Cell \u001b[1;32mIn[7], line 63\u001b[0m, in \u001b[0;36mmain\u001b[1;34m()\u001b[0m\n\u001b[0;32m     61\u001b[0m     name \u001b[38;5;241m=\u001b[39m \u001b[38;5;28minput\u001b[39m(\u001b[38;5;124m'\u001b[39m\u001b[38;5;124mEnter the name: \u001b[39m\u001b[38;5;124m'\u001b[39m)\n\u001b[0;32m     62\u001b[0m     phone_number \u001b[38;5;241m=\u001b[39m \u001b[38;5;28minput\u001b[39m(\u001b[38;5;124m'\u001b[39m\u001b[38;5;124mEnter the number: \u001b[39m\u001b[38;5;124m'\u001b[39m)\n\u001b[1;32m---> 63\u001b[0m     add_entry(name, phone_number)\n\u001b[0;32m     64\u001b[0m     \u001b[38;5;28mprint\u001b[39m(\u001b[38;5;124m'\u001b[39m\u001b[38;5;124mEntry added successfully.\u001b[39m\u001b[38;5;124m'\u001b[39m)\n\u001b[0;32m     65\u001b[0m \u001b[38;5;28;01melif\u001b[39;00m choice \u001b[38;5;241m==\u001b[39m \u001b[38;5;124m'\u001b[39m\u001b[38;5;124m2\u001b[39m\u001b[38;5;124m'\u001b[39m:\n",
      "Cell \u001b[1;32mIn[7], line 16\u001b[0m, in \u001b[0;36madd_entry\u001b[1;34m(name, phone_number)\u001b[0m\n\u001b[0;32m     14\u001b[0m conn \u001b[38;5;241m=\u001b[39m sqlite3\u001b[38;5;241m.\u001b[39mconnect(\u001b[38;5;124m'\u001b[39m\u001b[38;5;124mphonebook.db\u001b[39m\u001b[38;5;124m'\u001b[39m)\n\u001b[0;32m     15\u001b[0m c \u001b[38;5;241m=\u001b[39m conn\u001b[38;5;241m.\u001b[39mcursor()\n\u001b[1;32m---> 16\u001b[0m c\u001b[38;5;241m.\u001b[39mexecute(\u001b[38;5;124m\"\u001b[39m\u001b[38;5;124mINSERT INTO Entries VALUES (?, ?)\u001b[39m\u001b[38;5;124m\"\u001b[39m, (name, phone_number))\n\u001b[0;32m     17\u001b[0m conn\u001b[38;5;241m.\u001b[39mcommit()\n\u001b[0;32m     18\u001b[0m conn\u001b[38;5;241m.\u001b[39mclose()\n",
      "\u001b[1;31mOperationalError\u001b[0m: database is locked"
     ]
    }
   ],
   "source": [
    "import sqlite3\n",
    "\n",
    "# create a function that will record the phonebook database\n",
    "def create_phonebook_database():\n",
    "    conn = sqlite3.connect('phonebook.db')\n",
    "    c = conn.cursor()\n",
    "    c.execute('''CREATE TABLE IF NOT EXISTS Entries\n",
    "                 (name TEXT PRIMARY KEY, PHONE_number TEXT)''')\n",
    "    conn.commit()\n",
    "    conn.close()\n",
    "    \n",
    "# function to add entries to the phone book\n",
    "def add_entry(name, phone_number):\n",
    "    conn = sqlite3.connect('phonebook.db')\n",
    "    c = conn.cursor()\n",
    "    c.execute(\"INSERT INTO Entries VALUES (?, ?)\", (name, phone_number))\n",
    "    conn.commit()\n",
    "    conn.close()\n",
    "    \n",
    "#function to look up the names and numbers\n",
    "def lookup_entry(name):\n",
    "    conn = sqlite3.connect('phonebook.db')\n",
    "    c.execute(\"SELECT phone_number FROM Entries WHERE name=?\", (name,))\n",
    "    result = c.fetchone()\n",
    "    conn.close()\n",
    "    if result:\n",
    "        return result[0]\n",
    "    else:\n",
    "        return \"Entry not found\"\n",
    "\n",
    "#function to update an entry\n",
    "def update_entry(name, new_phone_number):\n",
    "    conn = sqlite3.connect('phonebook.db')\n",
    "    c.execute(\"UPDATE Entries SET phone_number=? WHERE name=?\", (new_phone_number, name))\n",
    "    conn.commit()\n",
    "    conn.close()\n",
    "    \n",
    "# function to delete contacts \n",
    "def delete_entry(name):\n",
    "    conn = sqlite3.connect('phonebook.db')\n",
    "    c = conn.curso()\n",
    "    c.execute(\"DELETE FROM Entries WHERE name=?\", (name))\n",
    "    conn.commit()\n",
    "    conn.close()\n",
    "    \n",
    "# main functon to run te CRUD appliction\n",
    "def main():\n",
    "    create_phonebook_database()\n",
    "    \n",
    "    while True: \n",
    "        print(\"\\nPhoonebook Menu:\")\n",
    "        print(\"1. Add an entry\")\n",
    "        print(\"2. Look up a phone number\")\n",
    "        print(\"3. Update a phone number\")\n",
    "        print(\"4. Delete an entry\")\n",
    "        print(\"5. Exit\")\n",
    "        \n",
    "        choice = input(\"enter your Choice: \")\n",
    "        \n",
    "        if choice == '1':\n",
    "            name = input('Enter the name: ')\n",
    "            phone_number = input('Enter the number: ')\n",
    "            add_entry(name, phone_number)\n",
    "            print('Entry added successfully.')\n",
    "        elif choice == '2':\n",
    "            name = input(\"Enter the name to look up: \")\n",
    "            result = lookup_entry(name)\n",
    "            print(f'Phone Number: {result}')\n",
    "        elif choice == '3':\n",
    "            name = input('Enter the name to update: ')\n",
    "            new_phone_number = input(\"Enter the new phone number: \")\n",
    "            update_entry(name, new_phone_number)\n",
    "            print('Number was updated successfully')\n",
    "        elif choice == '4': \n",
    "            name = input('Enter the name to delete: ')\n",
    "            delete_entry(name)\n",
    "            print('Entry successfully deleted')\n",
    "        elif choice == '5':\n",
    "            print('Exiting program')\n",
    "            break \n",
    "        else:\n",
    "            print('Invalid choice, Enter a number 1-5 ONLY')\n",
    "\n",
    "#call to main\n",
    "if __name__ == '__main__':\n",
    "    main()"
   ]
  },
  {
   "cell_type": "code",
   "execution_count": null,
   "id": "50457289",
   "metadata": {},
   "outputs": [],
   "source": []
  }
 ],
 "metadata": {
  "kernelspec": {
   "display_name": "Python 3 (ipykernel)",
   "language": "python",
   "name": "python3"
  },
  "language_info": {
   "codemirror_mode": {
    "name": "ipython",
    "version": 3
   },
   "file_extension": ".py",
   "mimetype": "text/x-python",
   "name": "python",
   "nbconvert_exporter": "python",
   "pygments_lexer": "ipython3",
   "version": "3.11.5"
  }
 },
 "nbformat": 4,
 "nbformat_minor": 5
}
