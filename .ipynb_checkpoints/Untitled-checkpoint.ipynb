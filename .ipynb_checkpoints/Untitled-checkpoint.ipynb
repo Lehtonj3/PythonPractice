{
 "cells": [
  {
   "cell_type": "code",
   "execution_count": 1,
   "id": "ec402654",
   "metadata": {},
   "outputs": [
    {
     "name": "stdout",
     "output_type": "stream",
     "text": [
      "Enter the number of miles driven: 100\n",
      "Enter the gallons of gas used: 5\n",
      "The car's MPG is: 20.0 miles per gallon.\n"
     ]
    }
   ],
   "source": [
    "def calculate_mpg(miles_driven, gallons_used):\n",
    "    mpg = miles_driven / gallons_used\n",
    "    return mpg\n",
    "\n",
    "# Get user input\n",
    "miles_driven = float(input(\"Enter the number of miles driven: \"))\n",
    "gallons_used = float(input(\"Enter the gallons of gas used: \"))\n",
    "\n",
    "# Calculate MPG\n",
    "car_mpg = calculate_mpg(miles_driven, gallons_used)\n",
    "\n",
    "# Display the result\n",
    "print(f\"The car's MPG is: {car_mpg} miles per gallon.\")\n"
   ]
  },
  {
   "cell_type": "code",
   "execution_count": 2,
   "id": "610d3d2a",
   "metadata": {},
   "outputs": [
    {
     "name": "stdout",
     "output_type": "stream",
     "text": [
      "25 degrees Celsius is equal to 77.0 degrees Fahrenheit.\n"
     ]
    }
   ],
   "source": [
    "def celsius_to_fahrenheit(celsius):\n",
    "    fahrenheit = (celsius * 9/5) + 32\n",
    "    return fahrenheit\n",
    "\n",
    "# Example usage:\n",
    "celsius_temperature = 25\n",
    "fahrenheit_temperature = celsius_to_fahrenheit(celsius_temperature)\n",
    "print(f\"{celsius_temperature} degrees Celsius is equal to {fahrenheit_temperature} degrees Fahrenheit.\")\n"
   ]
  },
  {
   "cell_type": "code",
   "execution_count": null,
   "id": "a65be7e4",
   "metadata": {},
   "outputs": [],
   "source": [
    "A vineyard owner is planting several new rows of grapevines, and needs to know how many grapevines to plant in each row. She has determined that after measuring the length of a future row, she can use the following formula to calculate the number of vines that will fit in the row, along with the trellis end-post assemblies that will need to be constructed at each end of the row:The terms in the formula are:V is the number of grapevines that will fit in the row.R is the length of the row, in feet.E is the amount of space, in feet, used by an end-post assembly.S is the space between vines, in feet.Write a program that makes the calculation for the vineyard owner. The program should ask the user to input the following:  The length of the row, in feetThe amount of space used by an end-post assembly, in feetThe amount of space between the vines, in feetOnce the input data has been entered, the program should calculate and display the number of grapevines that will fit in the row."
   ]
  }
 ],
 "metadata": {
  "kernelspec": {
   "display_name": "Python 3 (ipykernel)",
   "language": "python",
   "name": "python3"
  },
  "language_info": {
   "codemirror_mode": {
    "name": "ipython",
    "version": 3
   },
   "file_extension": ".py",
   "mimetype": "text/x-python",
   "name": "python",
   "nbconvert_exporter": "python",
   "pygments_lexer": "ipython3",
   "version": "3.11.5"
  }
 },
 "nbformat": 4,
 "nbformat_minor": 5
}
