{
 "cells": [
  {
   "cell_type": "markdown",
   "id": "f333f93c",
   "metadata": {},
   "source": [
    "# Coding Set 4 (Chapter 4 Questions 6th Edition) "
   ]
  },
  {
   "cell_type": "markdown",
   "id": "ef7c3adc",
   "metadata": {},
   "source": [
    "## Question 2 Alg WB \n",
    "This question is asking me to write a while loop that takes two numbers that a user inputs and they should be added together and the loop will then ask the user if it would like it to perform again. And if they input the letter of choice (y) then it will ask the same questions again, if not, it will do nothing and move on. "
   ]
  },
  {
   "cell_type": "code",
   "execution_count": 5,
   "id": "a471f6cd",
   "metadata": {},
   "outputs": [
    {
     "name": "stdout",
     "output_type": "stream",
     "text": [
      "Enter the first number you would like to add: 21\n",
      "Enter the second number you would like to add: 67\n",
      "The total is: {total}\n",
      "Do you want to calculate another number (enter y for yes)n\n"
     ]
    }
   ],
   "source": [
    "#first we have to initiate the keep going value 'y'. \n",
    "keep_going = 'y'\n",
    "#now we start the while sequence\n",
    "while keep_going == 'y':\n",
    "#now we have to have them enter 2 numbers they would like to add together \n",
    "    number1 = float(input('Enter the first number you would like to add: '))\n",
    "#now the second number\n",
    "    number2 = float(input('Enter the second number you would like to add: '))\n",
    "#now I have to write a strand that will calculate the number added togehter \n",
    "    total = number1 + number2\n",
    "#then have to write a line to display the answer \n",
    "    print('The total is: {total}')\n",
    "#lastly we have to input the line where it asks the user if they would like to keep going and if y then it loops if not then it doesn't\n",
    "    keep_going = input('Do you want to calculate another number (enter y for yes)')\n",
    "    "
   ]
  },
  {
   "cell_type": "code",
   "execution_count": 6,
   "id": "4ffe7094",
   "metadata": {},
   "outputs": [
    {
     "name": "stdout",
     "output_type": "stream",
     "text": [
      "Enter the first number you would like to add: 1234\n",
      "Enter the second number you would like to add: 64\n",
      "The total is: 1298.0\n",
      "Do you want to calculate another number (enter y for yes): y\n",
      "Enter the first number you would like to add: 23463\n",
      "Enter the second number you would like to add: 25387\n",
      "The total is: 48850.0\n",
      "Do you want to calculate another number (enter y for yes): n\n"
     ]
    }
   ],
   "source": [
    "#first we have to initiate the keep going value 'y'. \n",
    "keep_going = 'y'\n",
    "#now we start the while sequence\n",
    "while keep_going == 'y':\n",
    "#now we have to have them enter 2 numbers they would like to add together \n",
    "    number1 = float(input('Enter the first number you would like to add: '))\n",
    "#now the second number\n",
    "    number2 = float(input('Enter the second number you would like to add: '))\n",
    "#now I have to write a strand that will calculate the number added together \n",
    "    total = number1 + number2\n",
    "#then have to write a line to display the answer \n",
    "    print(f'The total is: {total}')\n",
    "#lastly we have to input the line where it asks the user if they would like to keep going and if y then it loops if not then it doesn't\n",
    "    keep_going = input('Do you want to calculate another number (enter y for yes): ')"
   ]
  },
  {
   "cell_type": "markdown",
   "id": "71528853",
   "metadata": {},
   "source": [
    "## Question 3 Alg WB\n",
    "This wuestion is asking me to write a for loop for the numbers 0-1000 but in incraments of what looks to be 10. This one is a little more simple. "
   ]
  },
  {
   "cell_type": "code",
   "execution_count": 7,
   "id": "4001aeda",
   "metadata": {},
   "outputs": [
    {
     "name": "stdout",
     "output_type": "stream",
     "text": [
      "0\n",
      "10\n",
      "20\n",
      "30\n",
      "40\n",
      "50\n",
      "60\n",
      "70\n",
      "80\n",
      "90\n",
      "100\n",
      "110\n",
      "120\n",
      "130\n",
      "140\n",
      "150\n",
      "160\n",
      "170\n",
      "180\n",
      "190\n",
      "200\n",
      "210\n",
      "220\n",
      "230\n",
      "240\n",
      "250\n",
      "260\n",
      "270\n",
      "280\n",
      "290\n",
      "300\n",
      "310\n",
      "320\n",
      "330\n",
      "340\n",
      "350\n",
      "360\n",
      "370\n",
      "380\n",
      "390\n",
      "400\n",
      "410\n",
      "420\n",
      "430\n",
      "440\n",
      "450\n",
      "460\n",
      "470\n",
      "480\n",
      "490\n",
      "500\n",
      "510\n",
      "520\n",
      "530\n",
      "540\n",
      "550\n",
      "560\n",
      "570\n",
      "580\n",
      "590\n",
      "600\n",
      "610\n",
      "620\n",
      "630\n",
      "640\n",
      "650\n",
      "660\n",
      "670\n",
      "680\n",
      "690\n",
      "700\n",
      "710\n",
      "720\n",
      "730\n",
      "740\n",
      "750\n",
      "760\n",
      "770\n",
      "780\n",
      "790\n",
      "800\n",
      "810\n",
      "820\n",
      "830\n",
      "840\n",
      "850\n",
      "860\n",
      "870\n",
      "880\n",
      "890\n",
      "900\n",
      "910\n",
      "920\n",
      "930\n",
      "940\n",
      "950\n",
      "960\n",
      "970\n",
      "980\n",
      "990\n",
      "1000\n"
     ]
    }
   ],
   "source": [
    "#this just begins with a for statement detailing the range and the numbers in between the range. \n",
    "for num in range(0,1001,10): \n",
    "#now I have to just put the print function and it should give me the numbers in incraments of 10\n",
    "    print(num)"
   ]
  },
  {
   "cell_type": "markdown",
   "id": "3edaba1d",
   "metadata": {},
   "source": [
    "## Question 1 Bug Collector Problem\n",
    "A bug collector collects bugs every day. And this code is going to keep a running total of the numbers of bugs collected during the span of 7 days. This loop should ask for the number of bugs collected for each day. "
   ]
  },
  {
   "cell_type": "code",
   "execution_count": 8,
   "id": "1b0979b2",
   "metadata": {},
   "outputs": [
    {
     "name": "stdout",
     "output_type": "stream",
     "text": [
      "Enter the bugs collected on day 1\n",
      "1\n",
      "Enter the bugs collected on day 2\n",
      "2\n",
      "Enter the bugs collected on day 3\n",
      "3\n",
      "Enter the bugs collected on day 4\n",
      "4\n",
      "Enter the bugs collected on day 5\n",
      "5\n",
      "Enter the bugs collected on day 6\n",
      "6\n",
      "Enter the bugs collected on day 7\n",
      "7\n",
      "You collected a total of 28 bugs.\n"
     ]
    }
   ],
   "source": [
    "#Initiate the accumulator\n",
    "total = 0\n",
    "#get the bugs collected for each day.\n",
    "for day in range(1,8,):\n",
    "# prompt the user\n",
    "    print('Enter the bugs collected on day', day)\n",
    "#input the number of bugs\n",
    "    bugs = int(input())\n",
    "#add bugs to total\n",
    "    total += bugs\n",
    "#Display the total bugs.\n",
    "print('You collected a total of', total, 'bugs.')"
   ]
  },
  {
   "cell_type": "markdown",
   "id": "1d4a0136",
   "metadata": {},
   "source": [
    "## Question 4 Distance Traveled\n",
    "In this strand of code I am going to write a program that calculates the distance traveled for the time that has gone by in  mph. And I have to have it ask how fast the car was going and how many hours that had been traveled going that speed. And I need to write a way for it to display both hours and distance traveled. "
   ]
  },
  {
   "cell_type": "code",
   "execution_count": 10,
   "id": "4d85b8f7",
   "metadata": {},
   "outputs": [
    {
     "name": "stdout",
     "output_type": "stream",
     "text": [
      "Enter the speed of the vehicle (in miles per hour): 70\n",
      "Enter the number of hours the vehicle has traveled: 4\n",
      "Hour\tDistance Traveled\n",
      "--------------------------\n",
      "1\t70.0 miles\n",
      "2\t140.0 miles\n",
      "3\t210.0 miles\n",
      "4\t280.0 miles\n"
     ]
    }
   ],
   "source": [
    "#first we have to ask the user for the speed at which was traveled\n",
    "speed = float(input(\"Enter the speed of the vehicle (in miles per hour): \"))\n",
    "#now on to the hours traveled \n",
    "hours = int(input(\"Enter the number of hours the vehicle has traveled: \"))\n",
    "#now I have to start the header for the table that is going to print based off of the data \n",
    "print(\"Hour\\tDistance Traveled\")\n",
    "#and then the separation line\n",
    "print(\"--------------------------\")\n",
    "#now I have to make the for loop for the data\n",
    "for hour in range(1, hours+1): \n",
    "#now for the equation, \n",
    "    distance = speed * hour\n",
    "#now to write the print function for the actual equation\n",
    "    print(f\"{hour}\\t{distance} miles\")"
   ]
  },
  {
   "cell_type": "markdown",
   "id": "8d4ad9db",
   "metadata": {},
   "source": [
    "## Question 11 Calculating the Factorial of a Number\n",
    "This question is asking me to write a program that lets the user enter a nonnegative interger then uses a loop to calculate the factorial of that number. Then display it. "
   ]
  },
  {
   "cell_type": "code",
   "execution_count": 12,
   "id": "f9ed03ec",
   "metadata": {},
   "outputs": [
    {
     "name": "stdout",
     "output_type": "stream",
     "text": [
      "Enter a nonnegative integer: 5\n",
      "The factorial of 5 is 120\n"
     ]
    }
   ],
   "source": [
    "#starting off I have to make the definition for number\n",
    "number = int(input(\"Enter a nonnegative integer: \"))\n",
    "#and then initialize the factorial to 1\n",
    "factorial = 1\n",
    "#now I have to write the check to see if the number is nonnegative\n",
    "if number < 0:\n",
    "#and the print error if it is a negative\n",
    "    print(\"Error: Please enter a nonnegative integer.\")\n",
    "#now the else statement \n",
    "else: \n",
    "#now if it is a positive factorial, the for statement creating the loop to calculate the factorial\n",
    "    for i in range(1, number + 1): \n",
    "        factorial *= i\n",
    "#and finally to display the factorial \n",
    "print(\"The factorial of\", number, \"is\", factorial)"
   ]
  },
  {
   "cell_type": "markdown",
   "id": "465de931",
   "metadata": {},
   "source": [
    "## Question 14 Write a program that uses nested loops to draw this pattern: \n",
    "Exactly as the title says, I must write a nested loop to draw the pattern that was displayed in the book. "
   ]
  },
  {
   "cell_type": "code",
   "execution_count": 16,
   "id": "694239fa",
   "metadata": {},
   "outputs": [
    {
     "name": "stdout",
     "output_type": "stream",
     "text": [
      "#    # #   #  #  #   # #    ##     #\n"
     ]
    }
   ],
   "source": [
    "#first I have to define the number of rows needed \n",
    "num_columns = 6\n",
    "#now I have to do the for sequence for the outer loop for the rows \n",
    "for j in range(num_columns):\n",
    "#now the inner loop for columns\n",
    "    for i in range(num_columns):\n",
    "#now if the current column is equal to the curent row or the current column print a '#'\n",
    "        if i == j or i == num_columns - 1: \n",
    "#now the print statement for the #\n",
    "            print(\"#\", end=\"\")\n",
    "#now the else statement to print a space\n",
    "        else:\n",
    "            print(\" \", end=\"\")\n",
    "#now now just a blank print to move to the next line after each row\n",
    "print()"
   ]
  },
  {
   "cell_type": "markdown",
   "id": "f54f3b90",
   "metadata": {},
   "source": [
    "I didn't get the fully desired output, does anyone know how to fix it to go vertically rather than staying horizontally? "
   ]
  },
  {
   "cell_type": "code",
   "execution_count": null,
   "id": "fcc3a41a",
   "metadata": {},
   "outputs": [],
   "source": []
  }
 ],
 "metadata": {
  "kernelspec": {
   "display_name": "Python 3 (ipykernel)",
   "language": "python",
   "name": "python3"
  },
  "language_info": {
   "codemirror_mode": {
    "name": "ipython",
    "version": 3
   },
   "file_extension": ".py",
   "mimetype": "text/x-python",
   "name": "python",
   "nbconvert_exporter": "python",
   "pygments_lexer": "ipython3",
   "version": "3.11.5"
  }
 },
 "nbformat": 4,
 "nbformat_minor": 5
}
