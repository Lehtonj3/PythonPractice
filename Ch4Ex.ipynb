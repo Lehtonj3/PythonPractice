{
 "cells": [
  {
   "cell_type": "markdown",
   "id": "b2978c68",
   "metadata": {},
   "source": [
    "# Coding Set 4 (Chapter 4 Questions 6th Edition) "
   ]
  },
  {
   "cell_type": "markdown",
   "id": "c6a5780e",
   "metadata": {},
   "source": [
    "## Question 2 Alg WB \n",
    "This question is asking me to write a while loop that takes two numbers that a user inputs and they should be added together and the loop will then ask the user if it would like it to perform again. And if they input the letter of choice (y) then it will ask the same questions again, if not, it will do nothing and move on. "
   ]
  },
  {
   "cell_type": "code",
   "execution_count": 5,
   "id": "e0ece980",
   "metadata": {},
   "outputs": [
    {
     "name": "stdout",
     "output_type": "stream",
     "text": [
      "Enter the first number you would like to add: 21\n",
      "Enter the second number you would like to add: 67\n",
      "The total is: {total}\n",
      "Do you want to calculate another number (enter y for yes)n\n"
     ]
    }
   ],
   "source": [
    "#first we have to initiate the keep going value 'y'. \n",
    "keep_going = 'y'\n",
    "#now we start the while sequence\n",
    "while keep_going == 'y':\n",
    "#now we have to have them enter 2 numbers they would like to add together \n",
    "    number1 = float(input('Enter the first number you would like to add: '))\n",
    "#now the second number\n",
    "    number2 = float(input('Enter the second number you would like to add: '))\n",
    "#now I have to write a strand that will calculate the number added togehter \n",
    "    total = number1 + number2\n",
    "#then have to write a line to display the answer \n",
    "    print('The total is: {total}')\n",
    "#lastly we have to input the line where it asks the user if they would like to keep going and if y then it loops if not then it doesn't\n",
    "    keep_going = input('Do you want to calculate another number (enter y for yes)')\n",
    "    "
   ]
  },
  {
   "cell_type": "code",
   "execution_count": 6,
   "id": "19e3feba",
   "metadata": {},
   "outputs": [
    {
     "name": "stdout",
     "output_type": "stream",
     "text": [
      "Enter the first number you would like to add: 1234\n",
      "Enter the second number you would like to add: 64\n",
      "The total is: 1298.0\n",
      "Do you want to calculate another number (enter y for yes): y\n",
      "Enter the first number you would like to add: 23463\n",
      "Enter the second number you would like to add: 25387\n",
      "The total is: 48850.0\n",
      "Do you want to calculate another number (enter y for yes): n\n"
     ]
    }
   ],
   "source": [
    "#first we have to initiate the keep going value 'y'. \n",
    "keep_going = 'y'\n",
    "#now we start the while sequence\n",
    "while keep_going == 'y':\n",
    "#now we have to have them enter 2 numbers they would like to add together \n",
    "    number1 = float(input('Enter the first number you would like to add: '))\n",
    "#now the second number\n",
    "    number2 = float(input('Enter the second number you would like to add: '))\n",
    "#now I have to write a strand that will calculate the number added together \n",
    "    total = number1 + number2\n",
    "#then have to write a line to display the answer \n",
    "    print(f'The total is: {total}')\n",
    "#lastly we have to input the line where it asks the user if they would like to keep going and if y then it loops if not then it doesn't\n",
    "    keep_going = input('Do you want to calculate another number (enter y for yes): ')"
   ]
  },
  {
   "cell_type": "markdown",
   "id": "bd1cd5a8",
   "metadata": {},
   "source": [
    "## Question 3 Alg WB\n",
    "This wuestion is asking me to write a for loop for the numbers 0-1000 but in incraments of what looks to be 10. "
   ]
  },
  {
   "cell_type": "code",
   "execution_count": null,
   "id": "a8a03539",
   "metadata": {},
   "outputs": [],
   "source": [
    "#this just begins with a for statement detailing the range and the numbers in between the range. \n",
    "for num in range(0,1001,10): \n",
    "#now I have to just put the print function and it should give me the numbers in incraments of 10\n",
    "    print(num)"
   ]
  }
 ],
 "metadata": {
  "kernelspec": {
   "display_name": "Python 3 (ipykernel)",
   "language": "python",
   "name": "python3"
  },
  "language_info": {
   "codemirror_mode": {
    "name": "ipython",
    "version": 3
   },
   "file_extension": ".py",
   "mimetype": "text/x-python",
   "name": "python",
   "nbconvert_exporter": "python",
   "pygments_lexer": "ipython3",
   "version": "3.11.5"
  }
 },
 "nbformat": 4,
 "nbformat_minor": 5
}
