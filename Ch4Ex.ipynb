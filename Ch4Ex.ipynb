{
 "cells": [
  {
   "cell_type": "markdown",
   "id": "234fe821",
   "metadata": {},
   "source": [
    "# Coding Set 4 (Chapter 4 Questions 6th Edition) "
   ]
  },
  {
   "cell_type": "markdown",
   "id": "6569c90b",
   "metadata": {},
   "source": [
    "## Question 2 Alg WB \n",
    "This question is asking me to write a loop that takes two numbers that a user inputs and they should be added together and "
   ]
  },
  {
   "cell_type": "code",
   "execution_count": null,
   "id": "39c39a68",
   "metadata": {},
   "outputs": [],
   "source": []
  }
 ],
 "metadata": {
  "kernelspec": {
   "display_name": "Python 3 (ipykernel)",
   "language": "python",
   "name": "python3"
  },
  "language_info": {
   "codemirror_mode": {
    "name": "ipython",
    "version": 3
   },
   "file_extension": ".py",
   "mimetype": "text/x-python",
   "name": "python",
   "nbconvert_exporter": "python",
   "pygments_lexer": "ipython3",
   "version": "3.11.5"
  }
 },
 "nbformat": 4,
 "nbformat_minor": 5
}
