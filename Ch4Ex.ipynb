{
 "cells": [
  {
   "cell_type": "markdown",
   "id": "7234941d",
   "metadata": {},
   "source": [
    "# Coding Set 4 (Chapter 4 Questions 6th Edition) "
   ]
  },
  {
   "cell_type": "markdown",
   "id": "00c1d701",
   "metadata": {},
   "source": [
    "## Question 2 Alg WB \n",
    "This question is asking me to write a while loop that takes two numbers that a user inputs and they should be added together and the loop will then ask the user if it would like it to perform again. "
   ]
  },
  {
   "cell_type": "code",
   "execution_count": 1,
   "id": "b26b8a85",
   "metadata": {},
   "outputs": [],
   "source": [
    "#first we have to initiate the keep going value 'y'. \n",
    "keep_going = 'y'\n",
    "#now we start the while sequence\n",
    "while keep_going == y\n",
    "#now we have to have them enter 2 numbers they would like to add together \n",
    "    number1 = float(input('Enter the first number you would like to add: '))\n",
    "#now the second number\n",
    "    number2 = float(input('Enter the second number you would like to add: '))\n",
    "#now I have to write a strand that will calculate the number added togehter \n",
    "    total = number1 + number2\n",
    "#then have to write a line to display the answer \n",
    "    print('The total is: {total}')\n",
    "#lastly we have to input the line where it asks the user if they would like to keep going and if y then it loops if not then it doesn't\n",
    "    keep_going = input('Do you want to calculate another number (enter y for yes)')"
   ]
  },
  {
   "cell_type": "code",
   "execution_count": null,
   "id": "5b74e049",
   "metadata": {},
   "outputs": [],
   "source": []
  }
 ],
 "metadata": {
  "kernelspec": {
   "display_name": "Python 3 (ipykernel)",
   "language": "python",
   "name": "python3"
  },
  "language_info": {
   "codemirror_mode": {
    "name": "ipython",
    "version": 3
   },
   "file_extension": ".py",
   "mimetype": "text/x-python",
   "name": "python",
   "nbconvert_exporter": "python",
   "pygments_lexer": "ipython3",
   "version": "3.11.5"
  }
 },
 "nbformat": 4,
 "nbformat_minor": 5
}
