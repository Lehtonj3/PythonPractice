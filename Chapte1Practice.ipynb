{
 "cells": [
  {
   "cell_type": "markdown",
   "id": "6eac3e94",
   "metadata": {},
   "source": [
    "# Chapter 1 Ex.\n",
    "\n",
    "Problems 1, 3, 4"
   ]
  },
  {
   "cell_type": "markdown",
   "id": "464f53ca",
   "metadata": {},
   "source": [
    "## Ex 1\n",
    "\n",
    "The textbook asks us to use the python print statement with this particular string."
   ]
  },
  {
   "cell_type": "code",
   "execution_count": 4,
   "id": "a57b683c",
   "metadata": {},
   "outputs": [
    {
     "name": "stdout",
     "output_type": "stream",
     "text": [
      "This is a test of the python interpreter\n"
     ]
    }
   ],
   "source": [
    "# demonstrating the print function\n",
    "print('This is a test of the python interpreter')"
   ]
  },
  {
   "cell_type": "code",
   "execution_count": 3,
   "id": "07565134",
   "metadata": {},
   "outputs": [
    {
     "name": "stdout",
     "output_type": "stream",
     "text": [
      "This might work: 9\n"
     ]
    }
   ],
   "source": [
    "print('This might work:', 9)"
   ]
  },
  {
   "cell_type": "code",
   "execution_count": 6,
   "id": "43eca7a1",
   "metadata": {},
   "outputs": [
    {
     "name": "stdout",
     "output_type": "stream",
     "text": [
      "I love to play videogames :)\n"
     ]
    }
   ],
   "source": [
    "print('I love to play videogames :)')"
   ]
  },
  {
   "cell_type": "markdown",
   "id": "1a707532",
   "metadata": {},
   "source": [
    "## Ex 3"
   ]
  },
  {
   "cell_type": "markdown",
   "id": "b1e170f8",
   "metadata": {},
   "source": [
    "11: This would come out to be 1011 becuase the first 1 is 8, the 0 is for thr 4 because that would be bigger than 11, and the other two 1's are for 2, and 1 becuase 1+2+8 equals 11."
   ]
  },
  {
   "cell_type": "markdown",
   "id": "f1c85c7b",
   "metadata": {},
   "source": [
    "65: This would come out to 1000001 becuase the first 1 is 64, all the 0's in between would make it larger than 65 until you get to the final digit which is another 1 because it indicates the number 1 which 64+1 equals 65."
   ]
  },
  {
   "cell_type": "markdown",
   "id": "e2ab4cf3",
   "metadata": {},
   "source": [
    "100: This would come out to be 1100100 becuase the first 2 1's are 64 and 32, then the 0's are numbers that would make it larger than 100, then we get down to the 5th 0 which is the number 4 because 64+32+4 equals 100. And the last 2 0's are because those would also push it over. "
   ]
  },
  {
   "cell_type": "markdown",
   "id": "5ea5093e",
   "metadata": {},
   "source": [
    "255: this would come out to be 11111111 because all of the numbers combined in this string of 8 going from 128 down to 1 all combine to make 255. "
   ]
  },
  {
   "cell_type": "markdown",
   "id": "046f5ff6",
   "metadata": {},
   "source": [
    "## Ex 4"
   ]
  },
  {
   "cell_type": "markdown",
   "id": "0648471d",
   "metadata": {},
   "source": [
    "1101: This binary code would look like this, 8+4+0+1 and that would equal 13."
   ]
  },
  {
   "cell_type": "markdown",
   "id": "6d37281d",
   "metadata": {},
   "source": [
    "1000: This binary code would equal 8 becuase all the other numbers after it are 0's and that means that they don't contribute to the output number. "
   ]
  },
  {
   "cell_type": "markdown",
   "id": "f27aad83",
   "metadata": {},
   "source": [
    "101011: This binary code would look like, 32+0+8+0+2+1 and that would equal 43"
   ]
  }
 ],
 "metadata": {
  "kernelspec": {
   "display_name": "Python 3 (ipykernel)",
   "language": "python",
   "name": "python3"
  },
  "language_info": {
   "codemirror_mode": {
    "name": "ipython",
    "version": 3
   },
   "file_extension": ".py",
   "mimetype": "text/x-python",
   "name": "python",
   "nbconvert_exporter": "python",
   "pygments_lexer": "ipython3",
   "version": "3.11.5"
  }
 },
 "nbformat": 4,
 "nbformat_minor": 5
}
