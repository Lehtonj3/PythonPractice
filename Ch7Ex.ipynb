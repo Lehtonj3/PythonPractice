{
 "cells": [
  {
   "cell_type": "markdown",
   "id": "cb9d8ce8",
   "metadata": {},
   "source": [
    "# Chapter 7 Exercises\n",
    "Done by: Jacob Lehtonen\n"
   ]
  },
  {
   "cell_type": "markdown",
   "id": "9619dfe1",
   "metadata": {},
   "source": [
    "## Algorithm Workbench Questions:"
   ]
  },
  {
   "cell_type": "markdown",
   "id": "f221fa1c",
   "metadata": {},
   "source": [
    "### Question 1\n",
    "Write a statement that creates a list with the following strings: 'Einstein', 'Newton', 'Copernicus', and 'Kepler'. \n",
    "For this code, it is pretty simple what I will do is start out with my list function, and list the names that I would like it to list, and then I will write the print function to print these names. *update* I am going back and changing \"name\" to list."
   ]
  },
  {
   "cell_type": "code",
   "execution_count": 3,
   "id": "7e179d0b",
   "metadata": {},
   "outputs": [
    {
     "name": "stdout",
     "output_type": "stream",
     "text": [
      "['Enstein', 'Newton', 'Copernicus', 'Kepler']\n"
     ]
    }
   ],
   "source": [
    "#start with the list and list out the names it wants us too. \n",
    "names = ['Enstein', 'Newton', 'Copernicus', 'Kepler']\n",
    "for index in range(len(names))\n",
    "#now for the print function.\n",
    "print(list)"
   ]
  },
  {
   "cell_type": "markdown",
   "id": "0ff72666",
   "metadata": {},
   "source": [
    "### Question 7 \n",
    "What will the following code print? \n",
    "\n",
    "list1 = [40, 50, 60]\n",
    "\n",
    "list2 = [10, 20, 30]\n",
    "\n",
    "list3 = list1 + list2\n",
    "\n",
    "print(list3) \n",
    "\n",
    "I think when I imput this code, it will add 40 with 10, 50 with 20 and 60 with 30. Because that I think it would be how it works. I don't see any other thing it would do but I could be wrong unless it just adds them all together. \n",
    "\n",
    "*update* I didn't think it would do that but I see now how it would, because it would make sense that it just makes one long list. "
   ]
  },
  {
   "cell_type": "code",
   "execution_count": 4,
   "id": "9b6781d9",
   "metadata": {},
   "outputs": [
    {
     "name": "stdout",
     "output_type": "stream",
     "text": [
      "[40, 50, 60, 10, 20, 30]\n"
     ]
    }
   ],
   "source": [
    "#input the code that it requires me to to see the outcome\n",
    "list1 = [40, 50, 60]\n",
    "list2 = [10, 20, 30]\n",
    "list3 = list1 + list2 \n",
    "print(list3)"
   ]
  },
  {
   "cell_type": "markdown",
   "id": "50cda752",
   "metadata": {},
   "source": [
    "## Practice Problems"
   ]
  },
  {
   "cell_type": "markdown",
   "id": "280a6a77",
   "metadata": {},
   "source": [
    "### Question 1 Total Sales\n"
   ]
  }
 ],
 "metadata": {
  "kernelspec": {
   "display_name": "Python 3 (ipykernel)",
   "language": "python",
   "name": "python3"
  },
  "language_info": {
   "codemirror_mode": {
    "name": "ipython",
    "version": 3
   },
   "file_extension": ".py",
   "mimetype": "text/x-python",
   "name": "python",
   "nbconvert_exporter": "python",
   "pygments_lexer": "ipython3",
   "version": "3.11.5"
  }
 },
 "nbformat": 4,
 "nbformat_minor": 5
}
