{
 "cells": [
  {
   "cell_type": "markdown",
   "id": "50d6df88",
   "metadata": {},
   "source": [
    "# Chapter 7 Exercises\n",
    "Done by: Jacob Lehtonen\n"
   ]
  },
  {
   "cell_type": "markdown",
   "id": "8227aaa9",
   "metadata": {},
   "source": [
    "## Algorithm Workbench Questions:"
   ]
  },
  {
   "cell_type": "markdown",
   "id": "3dbd3471",
   "metadata": {},
   "source": [
    "### Question 1\n",
    "Write a statement that creates a list with the following strings: 'Einstein', 'Newton', 'Copernicus', and 'Kepler'. \n",
    "For this code, it is pretty simple what I will do is start out with my list function, and list the names that I would like it to list, and then I will write the print function to print these names. *update* I made the for loop to make it stacked on top of each other so it looks better. "
   ]
  },
  {
   "cell_type": "code",
   "execution_count": 6,
   "id": "f40284fc",
   "metadata": {},
   "outputs": [
    {
     "name": "stdout",
     "output_type": "stream",
     "text": [
      "Enstein\n",
      "Newton\n",
      "Copernicus\n",
      "Kepler\n"
     ]
    }
   ],
   "source": [
    "#start with the list and list out the names it wants us too. \n",
    "names = ['Enstein', 'Newton', 'Copernicus', 'Kepler']\n",
    "#now a for loop\n",
    "for index in range(len(names)):\n",
    "#now for the print function.\n",
    "    print(names[index])"
   ]
  },
  {
   "cell_type": "markdown",
   "id": "4b9fc65d",
   "metadata": {},
   "source": [
    "### Question 7 \n",
    "What will the following code print? \n",
    "\n",
    "list1 = [40, 50, 60]\n",
    "\n",
    "list2 = [10, 20, 30]\n",
    "\n",
    "list3 = list1 + list2\n",
    "\n",
    "print(list3) \n",
    "\n",
    "I think when I imput this code, it will add 40 with 10, 50 with 20 and 60 with 30. Because that I think it would be how it works. I don't see any other thing it would do but I could be wrong unless it just adds them all together. \n",
    "\n",
    "*update* I didn't think it would do that but I see now how it would, because it would make sense that it just makes one long list. "
   ]
  },
  {
   "cell_type": "code",
   "execution_count": 4,
   "id": "ecbccc74",
   "metadata": {},
   "outputs": [
    {
     "name": "stdout",
     "output_type": "stream",
     "text": [
      "[40, 50, 60, 10, 20, 30]\n"
     ]
    }
   ],
   "source": [
    "#input the code that it requires me to to see the outcome\n",
    "list1 = [40, 50, 60]\n",
    "list2 = [10, 20, 30]\n",
    "list3 = list1 + list2 \n",
    "print(list3)"
   ]
  },
  {
   "cell_type": "markdown",
   "id": "65d75286",
   "metadata": {},
   "source": [
    "## Practice Problems"
   ]
  },
  {
   "cell_type": "markdown",
   "id": "e878b51d",
   "metadata": {},
   "source": [
    "### Question 1 Total Sales\n",
    "Design a program that asks the user to enter a store’s sales for each day of the week. The amounts should be stored in a list. Use a loop to calculate the total sales for the week and display the result.\n",
    "\n",
    "For this one I will have the book assist me because I am a little confused on where to start. But I have a starting point, and that is I will start off by stating the def main, then sales for the number of days. Then I will go to the print function for sales, then the for statementm, then print then another for then call to main. "
   ]
  },
  {
   "cell_type": "code",
   "execution_count": 8,
   "id": "ed8ed7b2",
   "metadata": {},
   "outputs": [
    {
     "name": "stdout",
     "output_type": "stream",
     "text": [
      "Enter the sales for each day.\n",
      "Day #1: 23459\n",
      "Day #2: 34\n",
      "Day #3: 74726\n",
      "Day #4: 12415\n",
      "Day #5: 3523\n",
      "Here are the values you entered: \n",
      "23459.0\n",
      "34.0\n",
      "74726.0\n",
      "12415.0\n",
      "3523.0\n"
     ]
    }
   ],
   "source": [
    "NUM_DAYS = 5\n",
    "#now the def main \n",
    "def main():\n",
    "    #create the list for the sales of each day\n",
    "    sales = [0] * NUM_DAYS\n",
    "    #now the print function \n",
    "    print('Enter the sales for each day.')\n",
    "    #get the sales for each day with the for loop\n",
    "    for index in range(len(sales)):\n",
    "        #now the sales index\n",
    "        sales[index] = float(input(f'Day #{index + 1}: '))\n",
    "    #now display the values entered\n",
    "    print('Here are the values you entered: ')\n",
    "    #for statement in sales\n",
    "    for value in sales: \n",
    "        print(value)\n",
    "#lastly call to main \n",
    "if __name__ == '__main__':\n",
    "    main()"
   ]
  },
  {
   "cell_type": "markdown",
   "id": "70b5d311",
   "metadata": {},
   "source": [
    "### Question 14 Expense Pie Chart\n",
    "Creat a text file that contains your expenses for the last month in the following categories: Rent, Gas, Food, Clothing, Car Payment, Misc. Write a python program that reads the data from the file and uses matplotlib to plot a pie chart showing how you spend your money.\n",
    "\n",
    "For this I will start by making a outright text file from what I learned in the last chapter and then I will use matplotlib to open that folder read the information then create a pie chart using that data that I had provided for the text file. "
   ]
  },
  {
   "cell_type": "code",
   "execution_count": null,
   "id": "9f1f98c8",
   "metadata": {},
   "outputs": [],
   "source": []
  }
 ],
 "metadata": {
  "kernelspec": {
   "display_name": "Python 3 (ipykernel)",
   "language": "python",
   "name": "python3"
  },
  "language_info": {
   "codemirror_mode": {
    "name": "ipython",
    "version": 3
   },
   "file_extension": ".py",
   "mimetype": "text/x-python",
   "name": "python",
   "nbconvert_exporter": "python",
   "pygments_lexer": "ipython3",
   "version": "3.11.5"
  }
 },
 "nbformat": 4,
 "nbformat_minor": 5
}
