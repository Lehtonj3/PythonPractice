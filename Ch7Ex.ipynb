{
 "cells": [
  {
   "cell_type": "markdown",
   "id": "f867f7e6",
   "metadata": {},
   "source": [
    "# Chapter 7 Exercises\n",
    "Done by: Jacob Lehtonen\n"
   ]
  },
  {
   "cell_type": "markdown",
   "id": "7c9c7720",
   "metadata": {},
   "source": [
    "## Algorithm Workbench Questions:"
   ]
  },
  {
   "cell_type": "markdown",
   "id": "6498b518",
   "metadata": {},
   "source": [
    "### Question 1\n",
    "Write a statement that creates a list with the following strings: 'Einstein', 'Newton', 'Copernicus', and 'Kepler'. \n",
    "For this code, it is pretty simple what I will do is start out with my list function, and list the names that I would like it to list, and then I will write the print function to print these names. *update* I made the for loop to make it stacked on top of each other so it looks better. "
   ]
  },
  {
   "cell_type": "code",
   "execution_count": 6,
   "id": "a5246da0",
   "metadata": {},
   "outputs": [
    {
     "name": "stdout",
     "output_type": "stream",
     "text": [
      "Enstein\n",
      "Newton\n",
      "Copernicus\n",
      "Kepler\n"
     ]
    }
   ],
   "source": [
    "#start with the list and list out the names it wants us too. \n",
    "names = ['Enstein', 'Newton', 'Copernicus', 'Kepler']\n",
    "#now a for loop\n",
    "for index in range(len(names)):\n",
    "#now for the print function.\n",
    "    print(names[index])"
   ]
  },
  {
   "cell_type": "markdown",
   "id": "0976cc86",
   "metadata": {},
   "source": [
    "### Question 7 \n",
    "What will the following code print? \n",
    "\n",
    "list1 = [40, 50, 60]\n",
    "\n",
    "list2 = [10, 20, 30]\n",
    "\n",
    "list3 = list1 + list2\n",
    "\n",
    "print(list3) \n",
    "\n",
    "I think when I imput this code, it will add 40 with 10, 50 with 20 and 60 with 30. Because that I think it would be how it works. I don't see any other thing it would do but I could be wrong unless it just adds them all together. \n",
    "\n",
    "*update* I didn't think it would do that but I see now how it would, because it would make sense that it just makes one long list. "
   ]
  },
  {
   "cell_type": "code",
   "execution_count": 4,
   "id": "daa3843b",
   "metadata": {},
   "outputs": [
    {
     "name": "stdout",
     "output_type": "stream",
     "text": [
      "[40, 50, 60, 10, 20, 30]\n"
     ]
    }
   ],
   "source": [
    "#input the code that it requires me to to see the outcome\n",
    "list1 = [40, 50, 60]\n",
    "list2 = [10, 20, 30]\n",
    "list3 = list1 + list2 \n",
    "print(list3)"
   ]
  },
  {
   "cell_type": "markdown",
   "id": "a2a031f3",
   "metadata": {},
   "source": [
    "## Practice Problems"
   ]
  },
  {
   "cell_type": "markdown",
   "id": "f00bd7f7",
   "metadata": {},
   "source": [
    "### Question 1 Total Sales\n",
    "Design a program that asks the user to enter a store’s sales for each day of the week. The amounts should be stored in a list. Use a loop to calculate the total sales for the week and display the result.\n",
    "\n",
    "For this one I will have the book assist me because I am a little confused on where to start. But I have a starting point, and that is I will start off by stating the def main, then sales for the number of days. Then I will go to the print function for sales, then the for statementm, then print then another for then call to main. "
   ]
  },
  {
   "cell_type": "code",
   "execution_count": 8,
   "id": "096bc59c",
   "metadata": {},
   "outputs": [
    {
     "name": "stdout",
     "output_type": "stream",
     "text": [
      "Enter the sales for each day.\n",
      "Day #1: 23459\n",
      "Day #2: 34\n",
      "Day #3: 74726\n",
      "Day #4: 12415\n",
      "Day #5: 3523\n",
      "Here are the values you entered: \n",
      "23459.0\n",
      "34.0\n",
      "74726.0\n",
      "12415.0\n",
      "3523.0\n"
     ]
    }
   ],
   "source": [
    "NUM_DAYS = 5\n",
    "#now the def main \n",
    "def main():\n",
    "    #create the list for the sales of each day\n",
    "    sales = [0] * NUM_DAYS\n",
    "    #now the print function \n",
    "    print('Enter the sales for each day.')\n",
    "    #get the sales for each day with the for loop\n",
    "    for index in range(len(sales)):\n",
    "        #now the sales index\n",
    "        sales[index] = float(input(f'Day #{index + 1}: '))\n",
    "    #now display the values entered\n",
    "    print('Here are the values you entered: ')\n",
    "    #for statement in sales\n",
    "    for value in sales: \n",
    "        print(value)\n",
    "#lastly call to main \n",
    "if __name__ == '__main__':\n",
    "    main()"
   ]
  },
  {
   "cell_type": "markdown",
   "id": "79997b1a",
   "metadata": {},
   "source": [
    "### Question 14 Expense Pie Chart\n",
    "Creat a text file that contains your expenses for the last month in the following categories: Rent, Gas, Food, Clothing, Car Payment, Misc. Write a python program that reads the data from the file and uses matplotlib to plot a pie chart showing how you spend your money.\n",
    "\n",
    "For this I will start by making a outright text file from what I learned in the last chapter and then I will use matplotlib to open that folder read the information then create a pie chart using that data that I had provided for the text file. "
   ]
  },
  {
   "cell_type": "code",
   "execution_count": 19,
   "id": "82315c35",
   "metadata": {},
   "outputs": [
    {
     "ename": "NameError",
     "evalue": "name 'labels' is not defined",
     "output_type": "error",
     "traceback": [
      "\u001b[1;31m---------------------------------------------------------------------------\u001b[0m",
      "\u001b[1;31mNameError\u001b[0m                                 Traceback (most recent call last)",
      "Cell \u001b[1;32mIn[19], line 24\u001b[0m\n\u001b[0;32m     22\u001b[0m     create_pie_chart(expenses)\n\u001b[0;32m     23\u001b[0m \u001b[38;5;28;01mif\u001b[39;00m \u001b[38;5;18m__name__\u001b[39m \u001b[38;5;241m==\u001b[39m \u001b[38;5;124m'\u001b[39m\u001b[38;5;124m__main__\u001b[39m\u001b[38;5;124m'\u001b[39m:\n\u001b[1;32m---> 24\u001b[0m     main()\n",
      "Cell \u001b[1;32mIn[19], line 22\u001b[0m, in \u001b[0;36mmain\u001b[1;34m()\u001b[0m\n\u001b[0;32m     20\u001b[0m filename \u001b[38;5;241m=\u001b[39m \u001b[38;5;124m'\u001b[39m\u001b[38;5;124mexpenses.txt\u001b[39m\u001b[38;5;124m'\u001b[39m\n\u001b[0;32m     21\u001b[0m expenses \u001b[38;5;241m=\u001b[39m read_expenses(filename)\n\u001b[1;32m---> 22\u001b[0m create_pie_chart(expenses)\n",
      "Cell \u001b[1;32mIn[19], line 15\u001b[0m, in \u001b[0;36mcreate_pie_chart\u001b[1;34m(expenses)\u001b[0m\n\u001b[0;32m     13\u001b[0m values \u001b[38;5;241m=\u001b[39m expenses\u001b[38;5;241m.\u001b[39mvalues()\n\u001b[0;32m     14\u001b[0m plt\u001b[38;5;241m.\u001b[39mfigure(figsize\u001b[38;5;241m=\u001b[39m(\u001b[38;5;241m8\u001b[39m, \u001b[38;5;241m8\u001b[39m))\n\u001b[1;32m---> 15\u001b[0m plt\u001b[38;5;241m.\u001b[39mpie(values, labels\u001b[38;5;241m=\u001b[39mlabels, autpct\u001b[38;5;241m=\u001b[39m\u001b[38;5;124m'\u001b[39m\u001b[38;5;132;01m%1.1f\u001b[39;00m\u001b[38;5;132;01m%%\u001b[39;00m\u001b[38;5;124m'\u001b[39m)\n\u001b[0;32m     16\u001b[0m plt\u001b[38;5;241m.\u001b[39mtitle(\u001b[38;5;124m'\u001b[39m\u001b[38;5;124mExpense Distribution\u001b[39m\u001b[38;5;124m'\u001b[39m)\n\u001b[0;32m     17\u001b[0m plt\u001b[38;5;241m.\u001b[39maxis(\u001b[38;5;124m'\u001b[39m\u001b[38;5;124mequal\u001b[39m\u001b[38;5;124m'\u001b[39m)\n",
      "\u001b[1;31mNameError\u001b[0m: name 'labels' is not defined"
     ]
    },
    {
     "data": {
      "text/plain": [
       "<Figure size 800x800 with 0 Axes>"
      ]
     },
     "metadata": {},
     "output_type": "display_data"
    }
   ],
   "source": [
    "import matplotlib.pyplot as plt\n",
    "#now a function to read the expenses from the file\n",
    "def read_expenses(filename):\n",
    "    expenses = {}\n",
    "    with open(filename, 'r') as file: \n",
    "        for line in file:\n",
    "            if line.strip():\n",
    "                category, _, expense = line.partition(':')\n",
    "                expenses[category.strip()] = float(expense.split('$')[1])\n",
    "    return expenses\n",
    "def create_pie_chart(expenses):\n",
    "    lables = expenses.keys()\n",
    "    values = expenses.values()\n",
    "    plt.figure(figsize=(8, 8))\n",
    "    plt.pie(values, labels=labels, autpct='%1.1f%%')\n",
    "    plt.title('Expense Distribution')\n",
    "    plt.axis('equal')\n",
    "    plt.show\n",
    "def main():\n",
    "    filename = 'expenses.txt'\n",
    "    expenses = read_expenses(filename)\n",
    "    create_pie_chart(expenses)\n",
    "if __name__ == '__main__':\n",
    "    main()"
   ]
  },
  {
   "cell_type": "code",
   "execution_count": null,
   "id": "8c9fb29b",
   "metadata": {},
   "outputs": [],
   "source": []
  }
 ],
 "metadata": {
  "kernelspec": {
   "display_name": "Python 3 (ipykernel)",
   "language": "python",
   "name": "python3"
  },
  "language_info": {
   "codemirror_mode": {
    "name": "ipython",
    "version": 3
   },
   "file_extension": ".py",
   "mimetype": "text/x-python",
   "name": "python",
   "nbconvert_exporter": "python",
   "pygments_lexer": "ipython3",
   "version": "3.11.5"
  }
 },
 "nbformat": 4,
 "nbformat_minor": 5
}
