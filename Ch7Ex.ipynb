{
 "cells": [
  {
   "cell_type": "markdown",
   "id": "694413e9",
   "metadata": {},
   "source": [
    "# Chapter 7 Exercises\n",
    "Done by: Jacob Lehtonen\n"
   ]
  },
  {
   "cell_type": "markdown",
   "id": "60e0f8cc",
   "metadata": {},
   "source": [
    "## Algorithm Workbench Questions:"
   ]
  },
  {
   "cell_type": "markdown",
   "id": "7967a397",
   "metadata": {},
   "source": [
    "### Question 1\n",
    "Write a statement that creates a list with the following strings: 'Einstein', 'Newton', 'Copernicus', and 'Kepler'. \n",
    "For this code, it is pretty simple what I will do is start out with my list function, and list the names that I would like it to list, and then I will write the print function to print these names. *update* I made the for loop to make it stacked on top of each other so it looks better. "
   ]
  },
  {
   "cell_type": "code",
   "execution_count": 6,
   "id": "c6a9883d",
   "metadata": {},
   "outputs": [
    {
     "name": "stdout",
     "output_type": "stream",
     "text": [
      "Enstein\n",
      "Newton\n",
      "Copernicus\n",
      "Kepler\n"
     ]
    }
   ],
   "source": [
    "#start with the list and list out the names it wants us too. \n",
    "names = ['Enstein', 'Newton', 'Copernicus', 'Kepler']\n",
    "#now a for loop\n",
    "for index in range(len(names)):\n",
    "#now for the print function.\n",
    "    print(names[index])"
   ]
  },
  {
   "cell_type": "markdown",
   "id": "bf2c7e48",
   "metadata": {},
   "source": [
    "### Question 7 \n",
    "What will the following code print? \n",
    "\n",
    "list1 = [40, 50, 60]\n",
    "\n",
    "list2 = [10, 20, 30]\n",
    "\n",
    "list3 = list1 + list2\n",
    "\n",
    "print(list3) \n",
    "\n",
    "I think when I imput this code, it will add 40 with 10, 50 with 20 and 60 with 30. Because that I think it would be how it works. I don't see any other thing it would do but I could be wrong unless it just adds them all together. \n",
    "\n",
    "*update* I didn't think it would do that but I see now how it would, because it would make sense that it just makes one long list. "
   ]
  },
  {
   "cell_type": "code",
   "execution_count": 4,
   "id": "df8b67d3",
   "metadata": {},
   "outputs": [
    {
     "name": "stdout",
     "output_type": "stream",
     "text": [
      "[40, 50, 60, 10, 20, 30]\n"
     ]
    }
   ],
   "source": [
    "#input the code that it requires me to to see the outcome\n",
    "list1 = [40, 50, 60]\n",
    "list2 = [10, 20, 30]\n",
    "list3 = list1 + list2 \n",
    "print(list3)"
   ]
  },
  {
   "cell_type": "markdown",
   "id": "82cd0192",
   "metadata": {},
   "source": [
    "## Practice Problems"
   ]
  },
  {
   "cell_type": "markdown",
   "id": "f1e8c957",
   "metadata": {},
   "source": [
    "### Question 1 Total Sales\n",
    "Design a program that asks the user to enter a store’s sales for each day of the week. The amounts should be stored in a list. Use a loop to calculate the total sales for the week and display the result.\n",
    "\n",
    "For this one I will have the book assist me because I am a little confused on where to start. But I have a starting point, and that is I will start off by stating the def main, then sales for the number of days. Then I will go to the print function for sales, then the for statementm, then print then another for then call to main. "
   ]
  },
  {
   "cell_type": "code",
   "execution_count": 7,
   "id": "bbfddfc4",
   "metadata": {},
   "outputs": [
    {
     "ename": "SyntaxError",
     "evalue": "unterminated string literal (detected at line 11) (357539889.py, line 11)",
     "output_type": "error",
     "traceback": [
      "\u001b[1;36m  Cell \u001b[1;32mIn[7], line 11\u001b[1;36m\u001b[0m\n\u001b[1;33m    sales[index] = float(input(f'Day #\"))\u001b[0m\n\u001b[1;37m                               ^\u001b[0m\n\u001b[1;31mSyntaxError\u001b[0m\u001b[1;31m:\u001b[0m unterminated string literal (detected at line 11)\n"
     ]
    }
   ],
   "source": [
    "NUM_DAYS = 5\n",
    "#now the def main \n",
    "def main():\n",
    "    #create the list for the sales of each day\n",
    "    sales = [0] * NUM_DAYS\n",
    "    #now the print function \n",
    "    print('Enter the sales for each day.')\n",
    "    #get the sales for each day with the for loop\n",
    "    for index in range(len(sales)):\n",
    "        #now the sales index\n",
    "        sales[index] = float(input(f'Day #{index + 1}: '))\n",
    "    #now display the values entered\n",
    "    print('Here are the values you entered: ')\n",
    "    #for st"
   ]
  },
  {
   "cell_type": "code",
   "execution_count": null,
   "id": "5c6597a0",
   "metadata": {},
   "outputs": [],
   "source": []
  }
 ],
 "metadata": {
  "kernelspec": {
   "display_name": "Python 3 (ipykernel)",
   "language": "python",
   "name": "python3"
  },
  "language_info": {
   "codemirror_mode": {
    "name": "ipython",
    "version": 3
   },
   "file_extension": ".py",
   "mimetype": "text/x-python",
   "name": "python",
   "nbconvert_exporter": "python",
   "pygments_lexer": "ipython3",
   "version": "3.11.5"
  }
 },
 "nbformat": 4,
 "nbformat_minor": 5
}
