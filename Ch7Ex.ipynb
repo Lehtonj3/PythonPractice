{
 "cells": [
  {
   "cell_type": "markdown",
   "id": "a3d598dc",
   "metadata": {},
   "source": [
    "# Chapter 7 Exercises\n",
    "Done by: Jacob Lehtonen\n"
   ]
  },
  {
   "cell_type": "markdown",
   "id": "b28006e6",
   "metadata": {},
   "source": [
    "## Algorithm Workbench Questions:"
   ]
  },
  {
   "cell_type": "markdown",
   "id": "fe585055",
   "metadata": {},
   "source": [
    "### Question 1\n",
    "Write a statement that creates a list with the following strings: 'Einstein', 'Newton', 'Copernicus', and 'Kepler'. \n",
    "For this code, it is pretty simple what I will do is start out with my list function, and list the names that I would like it to list, and then I will write the print function to print these names. "
   ]
  },
  {
   "cell_type": "code",
   "execution_count": 2,
   "id": "55fe83ab",
   "metadata": {},
   "outputs": [
    {
     "name": "stdout",
     "output_type": "stream",
     "text": [
      "['Enstein', 'Newton', 'Copernicus', 'Kepler']\n"
     ]
    }
   ],
   "source": [
    "Names = ['Enstein', 'Newton', 'Copernicus', 'Kepler']\n",
    "print(Names)"
   ]
  },
  {
   "cell_type": "code",
   "execution_count": null,
   "id": "fe48ef41",
   "metadata": {},
   "outputs": [],
   "source": []
  }
 ],
 "metadata": {
  "kernelspec": {
   "display_name": "Python 3 (ipykernel)",
   "language": "python",
   "name": "python3"
  },
  "language_info": {
   "codemirror_mode": {
    "name": "ipython",
    "version": 3
   },
   "file_extension": ".py",
   "mimetype": "text/x-python",
   "name": "python",
   "nbconvert_exporter": "python",
   "pygments_lexer": "ipython3",
   "version": "3.11.5"
  }
 },
 "nbformat": 4,
 "nbformat_minor": 5
}
