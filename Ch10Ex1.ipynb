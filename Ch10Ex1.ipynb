{
 "cells": [
  {
   "cell_type": "markdown",
   "id": "5f0d2c3a",
   "metadata": {},
   "source": [
    "# Chapter 10 Questions "
   ]
  },
  {
   "cell_type": "markdown",
   "id": "c5b4445c",
   "metadata": {},
   "source": [
    "These questiosn are from the digital book. \n"
   ]
  },
  {
   "cell_type": "markdown",
   "id": "89aac386",
   "metadata": {},
   "source": [
    "## Question 1  Employee and ProductionWorker Classes\n",
    "Write an Employee class that keeps data attributes for the following pieces of information:  Employee name Employee number Next, write a class named ProductionWorker that is a subclass of the Employee class. The ProductionWorker class should keep data attributes for the following information:  Shift number (an integer, such as 1, 2, or 3) Hourly pay rate The workday is divided into two shifts: day and night. The shift attribute will hold an integer value representing the shift that the employee works. The day shift is shift 1 and the night shift is shift 2. Write the appropriate accessor and mutator methods for each class. Once you have written the classes, write a program that creates an object of the  class and prompts the user to enter data for each of the object’s data attributes. Store the data in the object, then use the object’s accessor methods to retrieve it and display it on the screen.\n",
    "\n",
    "For this I will write a string in a txt file including employee and productionworker then I will come back here and import the productionworker code and haver it prompt the user with entering name employee number shift and hourly rate. "
   ]
  }
 ],
 "metadata": {
  "kernelspec": {
   "display_name": "Python 3 (ipykernel)",
   "language": "python",
   "name": "python3"
  },
  "language_info": {
   "codemirror_mode": {
    "name": "ipython",
    "version": 3
   },
   "file_extension": ".py",
   "mimetype": "text/x-python",
   "name": "python",
   "nbconvert_exporter": "python",
   "pygments_lexer": "ipython3",
   "version": "3.11.5"
  }
 },
 "nbformat": 4,
 "nbformat_minor": 5
}
