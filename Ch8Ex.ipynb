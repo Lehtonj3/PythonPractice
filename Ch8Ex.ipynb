{
 "cells": [
  {
   "cell_type": "markdown",
   "id": "0e75d113",
   "metadata": {},
   "source": [
    "# Chapter 8 Exercises\n",
    "Done by: Jacob Lehtonen"
   ]
  },
  {
   "cell_type": "markdown",
   "id": "39a73cb1",
   "metadata": {},
   "source": [
    "## Algorithm Workbench Questions\n"
   ]
  },
  {
   "cell_type": "markdown",
   "id": "21b47102",
   "metadata": {},
   "source": [
    "### Question 4 \n",
    "Write a loop that counts the number of lowercase characters that appear in the string referenced by mystring. \n",
    "\n",
    "For this I am going to start off by stating what mystring will mean, and I will use both lower and uppercase letters but I will only have it track the amount of lower case and spit it out. "
   ]
  },
  {
   "cell_type": "code",
   "execution_count": null,
   "id": "8093f0a7",
   "metadata": {},
   "outputs": [],
   "source": []
  }
 ],
 "metadata": {
  "kernelspec": {
   "display_name": "Python 3 (ipykernel)",
   "language": "python",
   "name": "python3"
  },
  "language_info": {
   "codemirror_mode": {
    "name": "ipython",
    "version": 3
   },
   "file_extension": ".py",
   "mimetype": "text/x-python",
   "name": "python",
   "nbconvert_exporter": "python",
   "pygments_lexer": "ipython3",
   "version": "3.11.5"
  }
 },
 "nbformat": 4,
 "nbformat_minor": 5
}
