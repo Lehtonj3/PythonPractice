{
 "cells": [
  {
   "cell_type": "markdown",
   "id": "03cf3513",
   "metadata": {},
   "source": [
    "# Chapter 8 Exercises\n",
    "Done by: Jacob Lehtonen (6th Digital Edition)"
   ]
  },
  {
   "cell_type": "markdown",
   "id": "c6686100",
   "metadata": {},
   "source": [
    "## Algorithm Workbench Questions\n"
   ]
  },
  {
   "cell_type": "markdown",
   "id": "860bb5cb",
   "metadata": {},
   "source": [
    "### Question 4 \n",
    "Write a loop that counts the number of lowercase characters that appear in the string referenced by mystring. \n",
    "\n",
    "For this I am going to start off by stating what mystring will mean, and I will use both lower and uppercase letters but I will only have it track the amount of lower case and spit it out. For that I will use char.islower as shown in the chart on String Methods in the 6th edition book in 8.3. "
   ]
  },
  {
   "cell_type": "code",
   "execution_count": 2,
   "id": "29a1a58c",
   "metadata": {},
   "outputs": [
    {
     "name": "stdout",
     "output_type": "stream",
     "text": [
      "Number of lowercase characters: 5\n"
     ]
    }
   ],
   "source": [
    "#I will start with making mystring a variation of lower and upper case letters. \n",
    "mystring = \"ThIS is A TesT\"\n",
    "#start the count at 0\n",
    "count = 0\n",
    "#for statement \n",
    "for char in mystring:\n",
    "    #if statement \n",
    "    if char.islower():\n",
    "        #count add one if lower is detected\n",
    "        count += 1\n",
    "#print statement \n",
    "print(\"Number of lowercase characters:\", count)"
   ]
  },
  {
   "cell_type": "markdown",
   "id": "5e354f14",
   "metadata": {},
   "source": [
    "### Question 6\n",
    "Write code that makes a copy of a string with all occurrences of the lowercase letter \"t\" converted to uppercase.\n",
    "\n",
    "For this I will start with a mystring and make it have a bunch of the letter 't' so I can really see if it gets everything and if I did it right. I'll have to use letter to convert and make a new string providing the new statement with \"t\" uppercase. \n"
   ]
  },
  {
   "cell_type": "code",
   "execution_count": 4,
   "id": "6d1d0c5a",
   "metadata": {},
   "outputs": [],
   "source": [
    "#just a string with a bunch of t words\n",
    "mystring = \"this thing that there start part kart cart\"\n",
    "#letter convert\n",
    "letter_to_convert = \"t\"\n",
    "#new string conversion statement\n",
    "new_string = ''\n",
    "#for statement\n",
    "for char in mystring: \n",
    "    #if statement to convert\n",
    "    if char == letter_to_convert:\n",
    "        #convert to new string\n",
    "        new_string += char.upper()\n",
    "    #else statement\n",
    "    else:\n",
    "        new_string += char\n",
    "#print both statements\n",
    "print(\"Oriignal String:\", mystring)\n",
    "print(f\"String with '{letter_to_convert}' converted to uppercase:\", new_s)\n",
    "\n"
   ]
  },
  {
   "cell_type": "code",
   "execution_count": null,
   "id": "5a17205f",
   "metadata": {},
   "outputs": [],
   "source": []
  }
 ],
 "metadata": {
  "kernelspec": {
   "display_name": "Python 3 (ipykernel)",
   "language": "python",
   "name": "python3"
  },
  "language_info": {
   "codemirror_mode": {
    "name": "ipython",
    "version": 3
   },
   "file_extension": ".py",
   "mimetype": "text/x-python",
   "name": "python",
   "nbconvert_exporter": "python",
   "pygments_lexer": "ipython3",
   "version": "3.11.5"
  }
 },
 "nbformat": 4,
 "nbformat_minor": 5
}
