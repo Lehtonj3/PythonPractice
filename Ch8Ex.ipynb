{
 "cells": [
  {
   "cell_type": "markdown",
   "id": "59ca23ce",
   "metadata": {},
   "source": [
    "# Chapter 8 Exercises\n",
    "Done by: Jacob Lehtonen (6th Digital Edition)"
   ]
  },
  {
   "cell_type": "markdown",
   "id": "38895378",
   "metadata": {},
   "source": [
    "## Algorithm Workbench Questions\n"
   ]
  },
  {
   "cell_type": "markdown",
   "id": "e8f226e3",
   "metadata": {},
   "source": [
    "### Question 4 \n",
    "Write a loop that counts the number of lowercase characters that appear in the string referenced by mystring. \n",
    "\n",
    "For this I am going to start off by stating what mystring will mean, and I will use both lower and uppercase letters but I will only have it track the amount of lower case and spit it out. For that I will use char.islower as shown in the chart on String Methods in the 6th edition book in 8.3. "
   ]
  },
  {
   "cell_type": "code",
   "execution_count": 2,
   "id": "01791d96",
   "metadata": {},
   "outputs": [
    {
     "name": "stdout",
     "output_type": "stream",
     "text": [
      "Number of lowercase characters: 5\n"
     ]
    }
   ],
   "source": [
    "#I will start with making mystring a variation of lower and upper case letters. \n",
    "mystring = \"ThIS is A TesT\"\n",
    "#start the count at 0\n",
    "count = 0\n",
    "#for statement \n",
    "for char in mystring:\n",
    "    #if statement \n",
    "    if char.islower():\n",
    "        #count add one if lower is detected\n",
    "        count += 1\n",
    "#print statement \n",
    "print(\"Number of lowercase characters:\", count)"
   ]
  },
  {
   "cell_type": "markdown",
   "id": "2b5c9427",
   "metadata": {},
   "source": [
    "### Question 6\n",
    "Write code that makes a copy of a string with all occurrences of the lowercase letter \"t\" converted to uppercase.\n",
    "\n",
    "For this I will start with a mystring and make it have a bunch of the letter 't' so I can really see if it gets everything and if I did it right. I'll have to use letter to convert and make a new string providing the new statement with \"t\" uppercase. \n"
   ]
  },
  {
   "cell_type": "code",
   "execution_count": 5,
   "id": "3bff27ca",
   "metadata": {},
   "outputs": [
    {
     "name": "stdout",
     "output_type": "stream",
     "text": [
      "Oriignal String: this thing that there start part kart cart\n",
      "String with 't' converted to uppercase: This Thing ThaT There sTarT parT karT carT\n"
     ]
    }
   ],
   "source": [
    "#just a string with a bunch of t words\n",
    "mystring = \"this thing that there start part kart cart\"\n",
    "#letter convert\n",
    "letter_to_convert = \"t\"\n",
    "#new string conversion statement\n",
    "new_string = ''\n",
    "#for statement\n",
    "for char in mystring: \n",
    "    #if statement to convert\n",
    "    if char == letter_to_convert:\n",
    "        #convert to new string\n",
    "        new_string += char.upper()\n",
    "    #else statement\n",
    "    else:\n",
    "        new_string += char\n",
    "#print both statements\n",
    "print(\"Oriignal String:\", mystring)\n",
    "print(f\"String with '{letter_to_convert}' converted to uppercase:\", new_string)\n",
    "\n"
   ]
  },
  {
   "cell_type": "markdown",
   "id": "e1a7b6ad",
   "metadata": {},
   "source": [
    "## Programming Exercises \n"
   ]
  },
  {
   "cell_type": "markdown",
   "id": "33f75763",
   "metadata": {},
   "source": [
    "### Question 1 Initials\n",
    "Write a program that gets a string containing a person’s first, middle, and last names, and displays their first, middle, and last initials. For example, if the user enters John William Smith, the program should display J. W. S.\n",
    "\n",
    "For this one I will start off by asking for a first middle and last name, then I will make it so it takes just the first letter of the name and separates it using the period and the space. "
   ]
  },
  {
   "cell_type": "code",
   "execution_count": 6,
   "id": "723b121a",
   "metadata": {},
   "outputs": [
    {
     "name": "stdout",
     "output_type": "stream",
     "text": [
      "Enter your full name: Jacob Redacted Lehtonen\n",
      "Initials: J. R. L.\n"
     ]
    }
   ],
   "source": [
    "#start with def\n",
    "def get_initials(full_name):\n",
    "    #put a space after the initials\n",
    "    initials = \"\"\n",
    "    #split name and names\n",
    "    names = full_name.split()\n",
    "    #for statement\n",
    "    for name in names: \n",
    "        initials += name[0].upper() + \". \"\n",
    "    #return\n",
    "    return initials.rstrip()\n",
    "#get user to input full name\n",
    "full_name = input(\"Enter your full name: \")\n",
    "#print initials function\n",
    "print(\"Initials:\", get_initials(full_name))"
   ]
  },
  {
   "cell_type": "markdown",
   "id": "8773fe88",
   "metadata": {},
   "source": [
    "### Question 2 Sum of Digits in a String\n",
    "Write a program that asks the user to enter a series of single-digit numbers with nothing separating them. The program should display the sum of all the single digit numbers in the string. For example, if the user enters 2514, the method should return 12, which is the sum of 2, 5, 1, and 4.\n",
    "\n",
    "For this I will have it sum up single digit numbers so I will have it ask the user to put in a number with no spaces. And hopefully it will add all of the numbers up and spit out the answer. "
   ]
  },
  {
   "cell_type": "code",
   "execution_count": 7,
   "id": "d3433a9d",
   "metadata": {},
   "outputs": [
    {
     "name": "stdout",
     "output_type": "stream",
     "text": [
      "Enter a series of single-digit numbers with no spaces in between: 12345789\n",
      "Sum of single-digit numbers: 39\n"
     ]
    }
   ],
   "source": [
    "#def statement \n",
    "def sum_single_digit_numbers(input_string): \n",
    "    #start off with a total of 0\n",
    "    total = 0\n",
    "    #for statement\n",
    "    for char in input_string: \n",
    "        #check if the character is a digit\n",
    "        if char.isdigit():\n",
    "            #add it to the total if it is\n",
    "            total += int(char)\n",
    "    #now return total \n",
    "    return total\n",
    "#ask the user for the string of digits\n",
    "user_input = input(\"Enter a series of single-digit numbers with no spaces in between: \")\n",
    "#now print the sum\n",
    "print(\"Sum of single-digit numbers:\", sum_single_digit_numbers(user_input))"
   ]
  },
  {
   "cell_type": "markdown",
   "id": "21624d35",
   "metadata": {},
   "source": [
    "### Question 9 Vowels and Consonants\n",
    "Write a program with a function that accepts a string as an argument and returns the number of vowels that the string contains. The application should have another function that accepts a string as an argument and returns the number of consonants that the string contains. The application should let the user enter a string, and should display the number of vowels and the number of consonants it contains.\n",
    "\n",
    "For this one "
   ]
  },
  {
   "cell_type": "code",
   "execution_count": null,
   "id": "a9c92dc6",
   "metadata": {},
   "outputs": [],
   "source": [
    "#start with def for consonants\n"
   ]
  }
 ],
 "metadata": {
  "kernelspec": {
   "display_name": "Python 3 (ipykernel)",
   "language": "python",
   "name": "python3"
  },
  "language_info": {
   "codemirror_mode": {
    "name": "ipython",
    "version": 3
   },
   "file_extension": ".py",
   "mimetype": "text/x-python",
   "name": "python",
   "nbconvert_exporter": "python",
   "pygments_lexer": "ipython3",
   "version": "3.11.5"
  }
 },
 "nbformat": 4,
 "nbformat_minor": 5
}
