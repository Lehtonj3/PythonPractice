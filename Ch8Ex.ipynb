{
 "cells": [
  {
   "cell_type": "markdown",
   "id": "279f48a9",
   "metadata": {},
   "source": [
    "# Chapter 8 Exercises\n",
    "Done by: Jacob Lehtonen (6th Digital Edition)"
   ]
  },
  {
   "cell_type": "markdown",
   "id": "1174803a",
   "metadata": {},
   "source": [
    "## Algorithm Workbench Questions\n"
   ]
  },
  {
   "cell_type": "markdown",
   "id": "aff4f048",
   "metadata": {},
   "source": [
    "### Question 4 \n",
    "Write a loop that counts the number of lowercase characters that appear in the string referenced by mystring. \n",
    "\n",
    "For this I am going to start off by stating what mystring will mean, and I will use both lower and uppercase letters but I will only have it track the amount of lower case and spit it out. For that I will use char.islower as shown in the chart on String Methods in the 6th edition book in 8.3. "
   ]
  },
  {
   "cell_type": "code",
   "execution_count": 2,
   "id": "2356892c",
   "metadata": {},
   "outputs": [
    {
     "name": "stdout",
     "output_type": "stream",
     "text": [
      "Number of lowercase characters: 5\n"
     ]
    }
   ],
   "source": [
    "#I will start with making mystring a variation of lower and upper case letters. \n",
    "mystring = \"ThIS is A TesT\"\n",
    "#start the count at 0\n",
    "count = 0\n",
    "#for statement \n",
    "for char in mystring:\n",
    "    #if statement \n",
    "    if char.islower():\n",
    "        #count add one if lower is detected\n",
    "        count += 1\n",
    "#print statement \n",
    "print(\"Number of lowercase characters:\", count)"
   ]
  },
  {
   "cell_type": "markdown",
   "id": "77b90995",
   "metadata": {},
   "source": [
    "### Question 6\n",
    "Write code that makes a copy of a string with all occurrences of the lowercase letter \"t\" converted to uppercase.\n",
    "\n",
    "For this I will start with a mystring and make it have a bunch of the letter 't' so I can really see if it gets everything and if I did it right. I'll have to use letter to convert and make a new string providing the new statement with \"t\" uppercase. \n"
   ]
  },
  {
   "cell_type": "code",
   "execution_count": 5,
   "id": "aee8c00c",
   "metadata": {},
   "outputs": [
    {
     "name": "stdout",
     "output_type": "stream",
     "text": [
      "Oriignal String: this thing that there start part kart cart\n",
      "String with 't' converted to uppercase: This Thing ThaT There sTarT parT karT carT\n"
     ]
    }
   ],
   "source": [
    "#just a string with a bunch of t words\n",
    "mystring = \"this thing that there start part kart cart\"\n",
    "#letter convert\n",
    "letter_to_convert = \"t\"\n",
    "#new string conversion statement\n",
    "new_string = ''\n",
    "#for statement\n",
    "for char in mystring: \n",
    "    #if statement to convert\n",
    "    if char == letter_to_convert:\n",
    "        #convert to new string\n",
    "        new_string += char.upper()\n",
    "    #else statement\n",
    "    else:\n",
    "        new_string += char\n",
    "#print both statements\n",
    "print(\"Oriignal String:\", mystring)\n",
    "print(f\"String with '{letter_to_convert}' converted to uppercase:\", new_string)\n",
    "\n"
   ]
  },
  {
   "cell_type": "markdown",
   "id": "927ebd87",
   "metadata": {},
   "source": [
    "## Programming Exercises \n"
   ]
  },
  {
   "cell_type": "markdown",
   "id": "b7611d87",
   "metadata": {},
   "source": [
    "### Question 1 Initials\n",
    "Write a program that gets a string containing a person’s first, middle, and last names, and displays their first, middle, and last initials. For example, if the user enters John William Smith, the program should display J. W. S.\n",
    "\n",
    "For this one I will start off by asking for a first middle and last name, then I will make it so it takes just the first letter of the name and separates it using the period and the space. "
   ]
  },
  {
   "cell_type": "code",
   "execution_count": 6,
   "id": "b0112313",
   "metadata": {},
   "outputs": [
    {
     "name": "stdout",
     "output_type": "stream",
     "text": [
      "Enter your full name: Jacob Redacted Lehtonen\n",
      "Initials: J. R. L.\n"
     ]
    }
   ],
   "source": [
    "#start with def\n",
    "def get_initials(full_name):\n",
    "    #put a space after the initials\n",
    "    initials = \"\"\n",
    "    #split name and names\n",
    "    names = full_name.split()\n",
    "    #for statement\n",
    "    for name in names: \n",
    "        initials += name[0].upper() + \". \"\n",
    "    #return\n",
    "    return initials.rstrip()\n",
    "#get user to input full name\n",
    "full_name = input(\"Enter your full name: \")\n",
    "#print initials function\n",
    "print(\"Initials:\", get_initials(full_name))"
   ]
  },
  {
   "cell_type": "markdown",
   "id": "4e0eed7f",
   "metadata": {},
   "source": [
    "### Question 2 Sum of Digits in a String\n",
    "Write a program that asks the user to enter a series of single-digit numbers with nothing separating them. The program should display the sum of all the single digit numbers in the string. For example, if the user enters 2514, the method should return 12, which is the sum of 2, 5, 1, and 4.\n",
    "\n",
    "For this I will have it sum up single digit numbers so I will have it ask the user to put in a number with no spaces. And hopefully it will add all of the numbers up and spit out the answer. "
   ]
  },
  {
   "cell_type": "code",
   "execution_count": 7,
   "id": "c776e89e",
   "metadata": {},
   "outputs": [
    {
     "name": "stdout",
     "output_type": "stream",
     "text": [
      "Enter a series of single-digit numbers with no spaces in between: 12345789\n",
      "Sum of single-digit numbers: 39\n"
     ]
    }
   ],
   "source": [
    "#def statement \n",
    "def sum_single_digit_numbers(input_string): \n",
    "    #start off with a total of 0\n",
    "    total = 0\n",
    "    #for statement\n",
    "    for char in input_string: \n",
    "        #check if the character is a digit\n",
    "        if char.isdigit():\n",
    "            #add it to the total if it is\n",
    "            total += int(char)\n",
    "    #now return total \n",
    "    return total\n",
    "#ask the user for the string of digits\n",
    "user_input = input(\"Enter a series of single-digit numbers with no spaces in between: \")\n",
    "#now print the sum\n",
    "print(\"Sum of single-digit numbers:\", sum_single_digit_numbers(user_input))"
   ]
  },
  {
   "cell_type": "markdown",
   "id": "e9dee9f2",
   "metadata": {},
   "source": [
    "### Question 9 Vowels and Consonants\n",
    "Write a program with a function that accepts a string as an argument and returns the number of vowels that the string contains. The application should have another function that accepts a string as an argument and returns the number of consonants that the string contains. The application should let the user enter a string, and should display the number of vowels and the number of consonants it contains.\n",
    "\n",
    "For this one "
   ]
  },
  {
   "cell_type": "code",
   "execution_count": 15,
   "id": "e0eb3670",
   "metadata": {},
   "outputs": [],
   "source": [
    "#main function\n",
    "def main():\n",
    "    #get a string of letters from the user\n",
    "    user_str = input('Enter a string of chracters: ')\n",
    "    #print the number of #start with def for consonants\n",
    "    print('That string has', num_vowels(user_str), 'vowels and', num_consonants(user_str), 'consonants.')\n",
    "    \n",
    "#number of vowels\n",
    "def num_vowels(s):\n",
    "    #make a list containing vowels\n",
    "    vowels = ['a', 'e', 'i', 'o', 'u']\n",
    "    #initialize an accumulator\n",
    "    v_count = 0\n",
    "    #count the number of vcowels in s\n",
    "    for ch in s:\n",
    "        if ch.lower() in vowels:\n",
    "            v_count += 1\n",
    "    #return the vowel count\n",
    "    return v_count\n",
    "    \n",
    "def num_consonants (s):\n",
    "    #make a list containing vowels\n",
    "    vowels = ['a', 'e', 'i', 'o', 'u']\n",
    "    #initialize an accumulator\n",
    "    c_count = 0\n",
    "    #count the consonants in s\n",
    "    for ch in s:\n",
    "        #if statement\n",
    "        if ch.isalpha() and ch.lower() not in vowels:\n",
    "            c_count += 1\n",
    "    #return consonant count\n",
    "    return c_count\n"
   ]
  },
  {
   "cell_type": "code",
   "execution_count": null,
   "id": "af10f4f7",
   "metadata": {},
   "outputs": [],
   "source": []
  }
 ],
 "metadata": {
  "kernelspec": {
   "display_name": "Python 3 (ipykernel)",
   "language": "python",
   "name": "python3"
  },
  "language_info": {
   "codemirror_mode": {
    "name": "ipython",
    "version": 3
   },
   "file_extension": ".py",
   "mimetype": "text/x-python",
   "name": "python",
   "nbconvert_exporter": "python",
   "pygments_lexer": "ipython3",
   "version": "3.11.5"
  }
 },
 "nbformat": 4,
 "nbformat_minor": 5
}
