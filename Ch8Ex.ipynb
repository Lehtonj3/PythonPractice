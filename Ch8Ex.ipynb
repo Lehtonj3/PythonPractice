{
 "cells": [
  {
   "cell_type": "markdown",
   "id": "e4944244",
   "metadata": {},
   "source": [
    "# Chapter 8 Exercises\n",
    "Done by: Jacob Lehtonen (6th Digital Edition)"
   ]
  },
  {
   "cell_type": "markdown",
   "id": "486b35b8",
   "metadata": {},
   "source": [
    "## Algorithm Workbench Questions\n"
   ]
  },
  {
   "cell_type": "markdown",
   "id": "a91fe8e1",
   "metadata": {},
   "source": [
    "### Question 4 \n",
    "Write a loop that counts the number of lowercase characters that appear in the string referenced by mystring. \n",
    "\n",
    "For this I am going to start off by stating what mystring will mean, and I will use both lower and uppercase letters but I will only have it track the amount of lower case and spit it out. For that I will use char.islower as shown in the chart on String Methods in the 6th edition book in 8.3. "
   ]
  },
  {
   "cell_type": "code",
   "execution_count": 2,
   "id": "a066822d",
   "metadata": {},
   "outputs": [
    {
     "name": "stdout",
     "output_type": "stream",
     "text": [
      "Number of lowercase characters: 5\n"
     ]
    }
   ],
   "source": [
    "#I will start with making mystring a variation of lower and upper case letters. \n",
    "mystring = \"ThIS is A TesT\"\n",
    "#start the count at 0\n",
    "count = 0\n",
    "#for statement \n",
    "for char in mystring:\n",
    "    #if statement \n",
    "    if char.islower():\n",
    "        #count add one if lower is detected\n",
    "        count += 1\n",
    "#print statement \n",
    "print(\"Number of lowercase characters:\", count)"
   ]
  },
  {
   "cell_type": "markdown",
   "id": "a310209f",
   "metadata": {},
   "source": [
    "### Question 6\n",
    "Write code that makes a copy of a string with all occurrences of the lowercase letter \"t\" converted to uppercase.\n",
    "\n",
    "For this I will start with a mystring and make it have a bunch of the letter 't' so I can really see if it gets everything and if I did it right. I'll have to use letter to convert and make a new string providing the new statement with \"t\" uppercase. \n"
   ]
  },
  {
   "cell_type": "code",
   "execution_count": 5,
   "id": "9c659121",
   "metadata": {},
   "outputs": [
    {
     "name": "stdout",
     "output_type": "stream",
     "text": [
      "Oriignal String: this thing that there start part kart cart\n",
      "String with 't' converted to uppercase: This Thing ThaT There sTarT parT karT carT\n"
     ]
    }
   ],
   "source": [
    "#just a string with a bunch of t words\n",
    "mystring = \"this thing that there start part kart cart\"\n",
    "#letter convert\n",
    "letter_to_convert = \"t\"\n",
    "#new string conversion statement\n",
    "new_string = ''\n",
    "#for statement\n",
    "for char in mystring: \n",
    "    #if statement to convert\n",
    "    if char == letter_to_convert:\n",
    "        #convert to new string\n",
    "        new_string += char.upper()\n",
    "    #else statement\n",
    "    else:\n",
    "        new_string += char\n",
    "#print both statements\n",
    "print(\"Oriignal String:\", mystring)\n",
    "print(f\"String with '{letter_to_convert}' converted to uppercase:\", new_string)\n",
    "\n"
   ]
  },
  {
   "cell_type": "markdown",
   "id": "6d8703b7",
   "metadata": {},
   "source": [
    "## Programming Exercises \n"
   ]
  },
  {
   "cell_type": "markdown",
   "id": "717ef04b",
   "metadata": {},
   "source": [
    "### Question 1 Initials\n",
    "Write a program that gets a string containing a person’s first, middle, and last names, and displays their first, middle, and last initials. For example, if the user enters John William Smith, the program should display J. W. S.\n",
    "\n",
    "For this one I will start off by asking for a first middle and last name, then I will make it so it takes just the first letter of the name and separates it using the period and the space. "
   ]
  },
  {
   "cell_type": "code",
   "execution_count": null,
   "id": "52e5b1a2",
   "metadata": {},
   "outputs": [],
   "source": [
    "#start with def\n",
    "def get_initials(full_name):\n",
    "    #put a space after the i\n",
    "    initials = \"\"\n",
    "    #split name and names\n",
    "    names = full_name.split()\n",
    "    #for statement\n",
    "    for name in names: \n",
    "        initials += name[0].upper() + \". \"\n",
    "    #return\n",
    "    return initials.rstrip()\n",
    "#get user to input full name\n",
    "full_name = input(\"Enter your full name: \")\n",
    "#print initials function\n",
    "print(\"Initials:\", get_initials(full_name))"
   ]
  }
 ],
 "metadata": {
  "kernelspec": {
   "display_name": "Python 3 (ipykernel)",
   "language": "python",
   "name": "python3"
  },
  "language_info": {
   "codemirror_mode": {
    "name": "ipython",
    "version": 3
   },
   "file_extension": ".py",
   "mimetype": "text/x-python",
   "name": "python",
   "nbconvert_exporter": "python",
   "pygments_lexer": "ipython3",
   "version": "3.11.5"
  }
 },
 "nbformat": 4,
 "nbformat_minor": 5
}
