{
 "cells": [
  {
   "cell_type": "markdown",
   "id": "12214dfc",
   "metadata": {},
   "source": [
    "# Chapter 2 Exercises"
   ]
  },
  {
   "cell_type": "markdown",
   "id": "0966065d",
   "metadata": {},
   "source": [
    "## Algorithm Workbench - Number 8\n",
    "\n",
    "I am presented with a eqation with abc and 3 numbers that correspond and I am asked to put them in and see what I get when I type print result. "
   ]
  },
  {
   "cell_type": "code",
   "execution_count": 6,
   "id": "f4c5efab",
   "metadata": {},
   "outputs": [
    {
     "name": "stdout",
     "output_type": "stream",
     "text": [
      "11\n"
     ]
    }
   ],
   "source": [
    "a = 5\n",
    "b = 2\n",
    "c = 3\n",
    "result = a + b * c\n",
    "print(result)"
   ]
  },
  {
   "cell_type": "markdown",
   "id": "e24bf0f7",
   "metadata": {},
   "source": [
    "That is correct! I am going to try another one. "
   ]
  },
  {
   "cell_type": "code",
   "execution_count": 7,
   "id": "fff9230b",
   "metadata": {},
   "outputs": [
    {
     "name": "stdout",
     "output_type": "stream",
     "text": [
      "3031\n"
     ]
    }
   ],
   "source": [
    "a = 245\n",
    "b = 12\n",
    "c = 91\n",
    "result = a * b + c\n",
    "print(result) "
   ]
  },
  {
   "cell_type": "markdown",
   "id": "8b7b9f37",
   "metadata": {},
   "source": [
    "## Programming Exercise 2 Sales Prediction\n",
    "This question is asking me to help a company determine its annual profit which would be 23% of the total sales. So I have to write a program that asks the user to put the profit in and it will total it. \n",
    "(I tried 9 but I got confused so I tried to look for a different one.) "
   ]
  },
  {
   "cell_type": "code",
   "execution_count": 27,
   "id": "d8e31211",
   "metadata": {
    "scrolled": false
   },
   "outputs": [
    {
     "name": "stdout",
     "output_type": "stream",
     "text": [
      "Enter the projected amount of total sales: 4,000,000\n"
     ]
    },
    {
     "ename": "ValueError",
     "evalue": "could not convert string to float: '4,000,000'",
     "output_type": "error",
     "traceback": [
      "\u001b[1;31m---------------------------------------------------------------------------\u001b[0m",
      "\u001b[1;31mValueError\u001b[0m                                Traceback (most recent call last)",
      "Cell \u001b[1;32mIn[27], line 6\u001b[0m\n\u001b[0;32m      3\u001b[0m     profit \u001b[38;5;241m=\u001b[39m total_sales \u001b[38;5;241m*\u001b[39m profit_percentage\n\u001b[0;32m      4\u001b[0m     \u001b[38;5;28;01mreturn\u001b[39;00m profit\n\u001b[1;32m----> 6\u001b[0m total_sales \u001b[38;5;241m=\u001b[39m \u001b[38;5;28mfloat\u001b[39m(\u001b[38;5;28minput\u001b[39m(\u001b[38;5;124m\"\u001b[39m\u001b[38;5;124mEnter the projected amount of total sales: \u001b[39m\u001b[38;5;124m\"\u001b[39m))\n\u001b[0;32m      8\u001b[0m annula_profit \u001b[38;5;241m=\u001b[39m calculate_profit(total_sales)\n\u001b[0;32m     10\u001b[0m \u001b[38;5;28mprint\u001b[39m(\u001b[38;5;124mf\u001b[39m\u001b[38;5;124m\"\u001b[39m\u001b[38;5;124mThe annual profit based on projected total sales is: (annual_profit)\u001b[39m\u001b[38;5;124m\"\u001b[39m)\n",
      "\u001b[1;31mValueError\u001b[0m: could not convert string to float: '4,000,000'"
     ]
    }
   ],
   "source": [
    "def calculate_profit(total_sales):\n",
    "    profit_percentage = 0.23\n",
    "    profit = total_sales * profit_percentage\n",
    "    return profit\n",
    "\n",
    "total_sales = float(input(\"Enter the projected amount of total sales: \"))\n",
    "\n",
    "annula_profit = calculate_profit(total_sales)\n",
    "\n",
    "print(f\"The annual profit based on projected total sales is: (annual_profit)\")"
   ]
  },
  {
   "cell_type": "code",
   "execution_count": 28,
   "id": "d9460819",
   "metadata": {
    "scrolled": true
   },
   "outputs": [
    {
     "name": "stdout",
     "output_type": "stream",
     "text": [
      "Enter the projected amount of total sales: 4000000\n",
      "The annual profit based on projected total sales is: (annual_profit)\n"
     ]
    }
   ],
   "source": [
    "def calculate_profit(total_sales):\n",
    "    profit_percentage = 0.23\n",
    "    profit = total_sales * profit_percentage\n",
    "    return profit\n",
    "\n",
    "total_sales = float(input(\"Enter the projected amount of total sales: \"))\n",
    "\n",
    "annula_profit = calculate_profit(total_sales)\n",
    "# Oh is it not ( but it is supposed to be { these \n",
    "print(f\"The annual profit based on projected total sales is: (annual_profit)\")"
   ]
  },
  {
   "cell_type": "code",
   "execution_count": 33,
   "id": "4b48a9ba",
   "metadata": {},
   "outputs": [
    {
     "name": "stdout",
     "output_type": "stream",
     "text": [
      "Enter the projected amount of total sales: 4000000\n",
      "The annual profit based on projected total sales is: 230000.0\n"
     ]
    }
   ],
   "source": [
    "def calculate_profit(total_sales):\n",
    "    profit_percentage = 0.23\n",
    "    profit = total_sales * profit_percentage\n",
    "    return profit\n",
    "\n",
    "total_sales = float(input(\"Enter the projected amount of total sales: \"))\n",
    "\n",
    "annula_profit = calculate_profit(total_sales)\n",
    "# I'm not sure where I went wrong after that last fix\n",
    "print(f\"The annual profit based on projected total sales is: {annual_profit}\")"
   ]
  },
  {
   "cell_type": "markdown",
   "id": "69f41e9e",
   "metadata": {},
   "source": [
    "^ this doesnt make sense. 23 is not 23% of 40"
   ]
  },
  {
   "cell_type": "code",
   "execution_count": 31,
   "id": "92fdc3b6",
   "metadata": {},
   "outputs": [
    {
     "name": "stdout",
     "output_type": "stream",
     "text": [
      "Enter the projected amount of total sales: 1000000\n",
      "The annual profit based on projected total sales is: 230000.0\n"
     ]
    }
   ],
   "source": [
    "def calculate_profit(total_sales):\n",
    "    profit_percentage = 0.23\n",
    "    profit = total_sales * profit_percentage\n",
    "    return profit\n",
    "\n",
    "total_sales = float(input(\"Enter the projected amount of total sales: \"))\n",
    "\n",
    "annual_profit = calculate_profit(total_sales)\n",
    "# I typed annual wrong and it took me 5 minutes to find this out. I am blind. \n",
    "print(f\"The annual profit based on projected total sales is: {annual_profit}\")"
   ]
  },
  {
   "cell_type": "markdown",
   "id": "cff4bb59",
   "metadata": {},
   "source": [
    "Yay!"
   ]
  },
  {
   "cell_type": "markdown",
   "id": "cbf5e910",
   "metadata": {},
   "source": [
    "## Programming Exercise 13 Planting Grapevines\n",
    "This activity is asking for me to write a formual for rows of grapevines and calculating how many grapevines to plant in each row. "
   ]
  },
  {
   "cell_type": "code",
   "execution_count": 36,
   "id": "fa618a6d",
   "metadata": {},
   "outputs": [
    {
     "name": "stdout",
     "output_type": "stream",
     "text": [
      "Enter the length of the row (in feet): 15\n",
      "Enter the space used by the end-post (in feet): 2\n",
      "Enter the space between vines (in feet): 2\n"
     ]
    },
    {
     "ename": "NameError",
     "evalue": "name 'calculate_grapevine' is not defined",
     "output_type": "error",
     "traceback": [
      "\u001b[1;31m---------------------------------------------------------------------------\u001b[0m",
      "\u001b[1;31mNameError\u001b[0m                                 Traceback (most recent call last)",
      "Cell \u001b[1;32mIn[36], line 9\u001b[0m\n\u001b[0;32m      7\u001b[0m space_between_vines \u001b[38;5;241m=\u001b[39m \u001b[38;5;28mfloat\u001b[39m(\u001b[38;5;28minput\u001b[39m(\u001b[38;5;124m\"\u001b[39m\u001b[38;5;124mEnter the space between vines (in feet): \u001b[39m\u001b[38;5;124m\"\u001b[39m))\n\u001b[0;32m      8\u001b[0m \u001b[38;5;66;03m# Now calculate the number of grape vines per row\u001b[39;00m\n\u001b[1;32m----> 9\u001b[0m num_grapevines \u001b[38;5;241m=\u001b[39m calculate_grapevine(length_of_row, space_of_end_post, space_between_vines)\n\u001b[0;32m     10\u001b[0m \u001b[38;5;66;03m# Lastly I want to show the results \u001b[39;00m\n\u001b[0;32m     11\u001b[0m \u001b[38;5;28mprint\u001b[39m(\u001b[38;5;124mf\u001b[39m\u001b[38;5;124m\"\u001b[39m\u001b[38;5;124mThe number of grapevines that will fit in the row is: \u001b[39m\u001b[38;5;132;01m{\u001b[39;00mnum_grapevines\u001b[38;5;132;01m}\u001b[39;00m\u001b[38;5;124m\"\u001b[39m)\n",
      "\u001b[1;31mNameError\u001b[0m: name 'calculate_grapevine' is not defined"
     ]
    }
   ],
   "source": [
    "def calculate_grapevines(length_of_row, space_of_end_post, space_between_vines):\n",
    "    num_grapevines = (length_of_row - 2 * space_of_end_post) / space_between_vines\n",
    "    return num_grapevines\n",
    "# Now I have to set up the floats \n",
    "length_of_row = float(input(\"Enter the length of the row (in feet): \"))\n",
    "space_of_end_post = float(input(\"Enter the space used by the end-post (in feet): \"))\n",
    "space_between_vines = float(input(\"Enter the space between vines (in feet): \"))\n",
    "# Now calculate the number of grape vines per row\n",
    "num_grapevines = calculate_grapevine(length_of_row, space_of_end_post, space_between_vines)\n",
    "# Lastly I want to show the results \n",
    "print(f\"The number of grapevines that will fit in the row is: {num_grapevines}\")"
   ]
  },
  {
   "cell_type": "code",
   "execution_count": 37,
   "id": "c6b5d22b",
   "metadata": {},
   "outputs": [
    {
     "name": "stdout",
     "output_type": "stream",
     "text": [
      "Enter the length of the row (in feet): 15\n",
      "Enter the space used by the end-post (in feet): 2\n",
      "Enter the space between vines (in feet): 2\n",
      "The number of grapevines that will fit in the row is: 5.5\n"
     ]
    }
   ],
   "source": [
    "def calculate_grapevines(length_of_row, space_of_end_post, space_between_vines):\n",
    "    num_grapevines = (length_of_row - 2 * space_of_end_post) / space_between_vines\n",
    "    return num_grapevines\n",
    "# Now I have to set up the floats \n",
    "length_of_row = float(input(\"Enter the length of the row (in feet): \"))\n",
    "space_of_end_post = float(input(\"Enter the space used by the end-post (in feet): \"))\n",
    "space_between_vines = float(input(\"Enter the space between vines (in feet): \"))\n",
    "# Now calculate the number of grape vines per row\n",
    "num_grapevines = calculate_grapevines(length_of_row, space_of_end_post, space_between_vines)\n",
    "# Lastly I want to show the results *edit (s) I think I missed in 'grapevines'\n",
    "print(f\"The number of grapevines that will fit in the row is: {num_grapevines}\")"
   ]
  },
  {
   "cell_type": "markdown",
   "id": "d248c3d8",
   "metadata": {},
   "source": [
    "Sweet! I did it! \n"
   ]
  },
  {
   "cell_type": "code",
   "execution_count": null,
   "id": "77c20420",
   "metadata": {},
   "outputs": [],
   "source": []
  }
 ],
 "metadata": {
  "kernelspec": {
   "display_name": "Python 3 (ipykernel)",
   "language": "python",
   "name": "python3"
  },
  "language_info": {
   "codemirror_mode": {
    "name": "ipython",
    "version": 3
   },
   "file_extension": ".py",
   "mimetype": "text/x-python",
   "name": "python",
   "nbconvert_exporter": "python",
   "pygments_lexer": "ipython3",
   "version": "3.11.5"
  }
 },
 "nbformat": 4,
 "nbformat_minor": 5
}
