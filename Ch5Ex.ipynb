{
 "cells": [
  {
   "cell_type": "markdown",
   "id": "6d30f101",
   "metadata": {},
   "source": [
    "# Chapter 5 Coding Set\n",
    "\n",
    "Work Completed by: Jacob Lehtonen"
   ]
  },
  {
   "cell_type": "markdown",
   "id": "fd0c414a",
   "metadata": {},
   "source": [
    "## Algorithm Workbench"
   ]
  },
  {
   "cell_type": "markdown",
   "id": "5fd2e21e",
   "metadata": {},
   "source": [
    "### Problem 1\n",
    "Write a function named . The function should accept an argument and display the product of its argument multiplied times 10.\n",
    "\n",
    "With this problem I will just set it up like I saw in some examples in the book. As of now before doing the problem, looking over it I think I can do it. And I am having no issues."
   ]
  },
  {
   "cell_type": "code",
   "execution_count": null,
   "id": "afb44e50",
   "metadata": {},
   "outputs": [],
   "source": []
  }
 ],
 "metadata": {
  "kernelspec": {
   "display_name": "Python 3 (ipykernel)",
   "language": "python",
   "name": "python3"
  },
  "language_info": {
   "codemirror_mode": {
    "name": "ipython",
    "version": 3
   },
   "file_extension": ".py",
   "mimetype": "text/x-python",
   "name": "python",
   "nbconvert_exporter": "python",
   "pygments_lexer": "ipython3",
   "version": "3.11.5"
  }
 },
 "nbformat": 4,
 "nbformat_minor": 5
}
