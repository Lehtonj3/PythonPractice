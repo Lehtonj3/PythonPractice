{
 "cells": [
  {
   "cell_type": "markdown",
   "id": "6e62902f",
   "metadata": {},
   "source": [
    "# Chapter 5 Coding Set\n",
    "\n",
    "Work Completed by: Jacob Lehtonen\n",
    "This is all completed from the 6th Edition book online. "
   ]
  },
  {
   "cell_type": "markdown",
   "id": "d2236a06",
   "metadata": {},
   "source": [
    "## Algorithm Workbench"
   ]
  },
  {
   "cell_type": "markdown",
   "id": "9c8fd7d5",
   "metadata": {},
   "source": [
    "### Problem 1\n",
    "Write a function named . The function should accept an argument and display the product of its argument multiplied times 10.\n",
    "\n",
    "With this problem I will just set it up like I saw in some examples in the book. As of now before doing the problem, looking over it I think I can do it. And I am having no issues."
   ]
  },
  {
   "cell_type": "code",
   "execution_count": 11,
   "id": "bb9c61cb",
   "metadata": {},
   "outputs": [],
   "source": [
    "#first I will set up the definition and the title of the program it is looking for. In this case, tiems_ten\n",
    "def times_ten(): \n",
    "#now before I include the statement, I have to put a definition for number so it knows what I'm looking for\n",
    "    number = float(input(\"Enter a number: \"))\n",
    "#now I have to do the equation the question is asking for\n",
    "    result = number * 10\n",
    "#and lastly, printing the result\n",
    "    print(\"Result:\", result)"
   ]
  },
  {
   "cell_type": "code",
   "execution_count": 14,
   "id": "7b87ad62",
   "metadata": {},
   "outputs": [
    {
     "name": "stdout",
     "output_type": "stream",
     "text": [
      "Enter a number: 1234\n",
      "Result: 12340.0\n"
     ]
    }
   ],
   "source": [
    "#now I have to input the def code \"times_ten()\" to test it out\n",
    "times_ten()"
   ]
  },
  {
   "cell_type": "markdown",
   "id": "2e22b0af",
   "metadata": {},
   "source": [
    "### Problem 3\n",
    "Look at the following function header: def my_function(a, b, c): \n",
    "Now look at the following call to \"my_function\": my_function(3, 2, 1)\n",
    "When this call executes, what value will be assigned to a? What value will be assigned to b? What value will be assigned to c? \n",
    "\n",
    "With this problem, I will set up the code that it gives me to start. Then I will go on another line and put in the call and see the result. Beginning predictions, it will me 3 = a, 2 = b, 1 = c. Edit: I was correct, but it took me a second to get there, I just forgot to include \"a:\" inside of the print function for each letter but I got there in the end. "
   ]
  },
  {
   "cell_type": "code",
   "execution_count": 33,
   "id": "67a7e28b",
   "metadata": {},
   "outputs": [],
   "source": [
    "#first we start with the required \n",
    "def my_function(a, b, c):\n",
    "#now we start the print functions for a, b, and c\n",
    "    print(\"a:\", a)\n",
    "#now for b\n",
    "    print(\"b:\", b)\n",
    "#now for c, and after we are done and we can execute this in another line\n",
    "    print(\"c:\", c)"
   ]
  },
  {
   "cell_type": "code",
   "execution_count": 34,
   "id": "fb9a01ec",
   "metadata": {},
   "outputs": [
    {
     "name": "stdout",
     "output_type": "stream",
     "text": [
      "a: 3\n",
      "b: 2\n",
      "c: 1\n"
     ]
    }
   ],
   "source": [
    "#now for the call line it asked for in the question\n",
    "my_function(3, 2, 1)"
   ]
  },
  {
   "cell_type": "markdown",
   "id": "87d559b1",
   "metadata": {},
   "source": [
    "## Programming Exercises"
   ]
  },
  {
   "cell_type": "markdown",
   "id": "1c9470da",
   "metadata": {},
   "source": [
    "### Problem 1 Kilometer Converter\n",
    "Write a program that asks the user to enter a distance in kilometers, then uses a function to convert that distance to miles. The conversion formula is as follows: miles = kilometers * 0.6214\n",
    "\n",
    "With this problem I will start off by defining the conversion factor of kilometers to miles. Then I will define the main sw"
   ]
  },
  {
   "cell_type": "code",
   "execution_count": 37,
   "id": "206388e5",
   "metadata": {},
   "outputs": [
    {
     "name": "stdout",
     "output_type": "stream",
     "text": [
      "Enter a distance in kilometers: 2341\n",
      "2341.0 kilometers equals 1454.6973999999998 miles.\n"
     ]
    }
   ],
   "source": [
    "#This program converts kilometers to miles \n",
    "CONVERSION_FACTOR = 0.6214\n",
    "#The main function gets a distance in kilometers and calls the show_miles function to convert it \n",
    "def main():\n",
    "    #get the distance in kilometers\n",
    "    kilometers = float(input(\"Enter a distance in kilometers: \"))\n",
    "    #Display the distance converted to miles\n",
    "    show_miles(kilometers)\n",
    "#show_miles function converts the parameter km from kilometers to miles and displays the result\n",
    "def show_miles(km):\n",
    "    #calculate the miles\n",
    "    miles = km * CONVERSION_FACTOR\n",
    "    #display the miles \n",
    "    print(km, \"kilometers equals\", miles, \"miles.\")\n",
    "    #call the main function \n",
    "main()"
   ]
  },
  {
   "cell_type": "code",
   "execution_count": null,
   "id": "75c98471",
   "metadata": {},
   "outputs": [],
   "source": []
  }
 ],
 "metadata": {
  "kernelspec": {
   "display_name": "Python 3 (ipykernel)",
   "language": "python",
   "name": "python3"
  },
  "language_info": {
   "codemirror_mode": {
    "name": "ipython",
    "version": 3
   },
   "file_extension": ".py",
   "mimetype": "text/x-python",
   "name": "python",
   "nbconvert_exporter": "python",
   "pygments_lexer": "ipython3",
   "version": "3.11.5"
  }
 },
 "nbformat": 4,
 "nbformat_minor": 5
}
