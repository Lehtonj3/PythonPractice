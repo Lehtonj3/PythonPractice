{
 "cells": [
  {
   "cell_type": "markdown",
   "id": "ba039a2f",
   "metadata": {},
   "source": [
    "# Chapter 5 Coding Set\n",
    "\n",
    "Work Completed by: Jacob Lehtonen\n",
    "This is all completed from the 6th Edition book online. "
   ]
  },
  {
   "cell_type": "markdown",
   "id": "b00715f6",
   "metadata": {},
   "source": [
    "## Algorithm Workbench"
   ]
  },
  {
   "cell_type": "markdown",
   "id": "c18f99cd",
   "metadata": {},
   "source": [
    "### Problem 1\n",
    "Write a function named . The function should accept an argument and display the product of its argument multiplied times 10.\n",
    "\n",
    "With this problem I will just set it up like I saw in some examples in the book. As of now before doing the problem, looking over it I think I can do it. And I am having no issues."
   ]
  },
  {
   "cell_type": "code",
   "execution_count": 11,
   "id": "af018dc1",
   "metadata": {},
   "outputs": [],
   "source": [
    "#first I will set up the definition and the title of the program it is looking for. In this case, tiems_ten\n",
    "def times_ten(): \n",
    "#now before I include the statement, I have to put a definition for number so it knows what I'm looking for\n",
    "    number = float(input(\"Enter a number: \"))\n",
    "#now I have to do the equation the question is asking for\n",
    "    result = number * 10\n",
    "#and lastly, printing the result\n",
    "    print(\"Result:\", result)"
   ]
  },
  {
   "cell_type": "code",
   "execution_count": 14,
   "id": "b9028976",
   "metadata": {},
   "outputs": [
    {
     "name": "stdout",
     "output_type": "stream",
     "text": [
      "Enter a number: 1234\n",
      "Result: 12340.0\n"
     ]
    }
   ],
   "source": [
    "#now I have to input the def code \"times_ten()\" to test it out\n",
    "times_ten()"
   ]
  },
  {
   "cell_type": "markdown",
   "id": "8a0f81ac",
   "metadata": {},
   "source": [
    "### Problem 3\n",
    "Look at the following function header: def my_function(a, b, c): \n",
    "Now look at the following call to \"my_function\": my_function(3, 2, 1)\n",
    "When this call executes, what value will be assigned to a? What value will be assigned to b? What value will be assigned to c? \n",
    "\n",
    "With this problem, I will set up the code that it gives me to start. Then I will go on another line and put in the call and see the result. Beginning predictions, it will me 3 = a, 2 = b, 1 = c. Edit: I was correct, but it took me a second to get there, I just forgot to include \"a:\" inside of the print function for each letter but I got there in the end. "
   ]
  },
  {
   "cell_type": "code",
   "execution_count": 33,
   "id": "29dc4524",
   "metadata": {},
   "outputs": [],
   "source": [
    "#first we start with the required \n",
    "def my_function(a, b, c):\n",
    "#now we start the print functions for a, b, and c\n",
    "    print(\"a:\", a)\n",
    "#now for b\n",
    "    print(\"b:\", b)\n",
    "#now for c, and after we are done and we can execute this in another line\n",
    "    print(\"c:\", c)"
   ]
  },
  {
   "cell_type": "code",
   "execution_count": 34,
   "id": "d9c4adb8",
   "metadata": {},
   "outputs": [
    {
     "name": "stdout",
     "output_type": "stream",
     "text": [
      "a: 3\n",
      "b: 2\n",
      "c: 1\n"
     ]
    }
   ],
   "source": [
    "#now for the call line it asked for in the question\n",
    "my_function(3, 2, 1)"
   ]
  },
  {
   "cell_type": "markdown",
   "id": "84e1e2f9",
   "metadata": {},
   "source": [
    "## Programming Exercises"
   ]
  },
  {
   "cell_type": "markdown",
   "id": "6d6d2e9a",
   "metadata": {},
   "source": [
    "### Problem 1 Kilometer Converter\n",
    "Write a program that asks the user to enter a distance in kilometers, then uses a function to convert that distance to miles. The conversion formula is as follows: miles = kilometers * 0.6214\n",
    "\n",
    "With this problem I will start off by defining the conversion factor of kilometers to miles. Then I will define the main sequence and then go onto the show_miles so I can display the conversion. Then call the main and show that the function works. "
   ]
  },
  {
   "cell_type": "code",
   "execution_count": 37,
   "id": "56729aad",
   "metadata": {},
   "outputs": [
    {
     "name": "stdout",
     "output_type": "stream",
     "text": [
      "Enter a distance in kilometers: 2341\n",
      "2341.0 kilometers equals 1454.6973999999998 miles.\n"
     ]
    }
   ],
   "source": [
    "#This program converts kilometers to miles \n",
    "CONVERSION_FACTOR = 0.6214\n",
    "#The main function gets a distance in kilometers and calls the show_miles function to convert it \n",
    "def main():\n",
    "    #get the distance in kilometers\n",
    "    kilometers = float(input(\"Enter a distance in kilometers: \"))\n",
    "    #Display the distance converted to miles\n",
    "    show_miles(kilometers)\n",
    "#show_miles function converts the parameter km from kilometers to miles and displays the result\n",
    "def show_miles(km):\n",
    "    #calculate the miles\n",
    "    miles = km * CONVERSION_FACTOR\n",
    "    #display the miles \n",
    "    print(km, \"kilometers equals\", miles, \"miles.\")\n",
    "    #call the main function \n",
    "main()"
   ]
  },
  {
   "cell_type": "markdown",
   "id": "6e711aae",
   "metadata": {},
   "source": [
    "### Problem 1 Prime Numbers\n",
    "A prime number is a number that is only evenly divisible by itself and 1. For example, the number 5 is prime because it can only be evenly divided by 1 and 5. The number 6, however, is not prime because it can be divided evenly by 1, 2, 3, and 6.Write a Boolean function named  which takes an integer as an argument and returns true if the argument is a prime number, or false otherwise. Use the function in a program that prompts the user to enter a number then displays a message indicating whether the number is prime.\n",
    "\n",
    "With this problem I will follow the video that is provided by the professor as I need a little extra help in setting this up. So I think having that video as a reference is a huge help. "
   ]
  },
  {
   "cell_type": "code",
   "execution_count": 45,
   "id": "8a2939b8",
   "metadata": {},
   "outputs": [],
   "source": [
    "#start with importing the math\n",
    "import math\n",
    "#now onto def main \n",
    "def main():\n",
    "    #starting with the num definition\n",
    "    num = int(input(\"Please enter an integer to test for a prime: \"))\n",
    "    #now to the if statement \n",
    "    if is_prime(num):\n",
    "        #print function for true\n",
    "        print(\"Congrats it's a prime number!\")\n",
    "    #else statement\n",
    "    else:\n",
    "        #print for false\n",
    "        print(\"Gross! This is just a normal number :(\")\n",
    "        \n",
    "#now onto the defining is prime\n",
    "def is_prime(num):\n",
    "    #now for the math\n",
    "    for i in range(2, math.floor(math.sqrt(num)) + 1):\n",
    "        #now for the if statement to calculate the result\n",
    "        if num % i == 0:\n",
    "            return False\n",
    "        return True"
   ]
  },
  {
   "cell_type": "code",
   "execution_count": 46,
   "id": "df19bb99",
   "metadata": {},
   "outputs": [
    {
     "name": "stdout",
     "output_type": "stream",
     "text": [
      "Please enter an integer to test for a prime: 6\n",
      "Gross! This is just a normal number :(\n"
     ]
    }
   ],
   "source": [
    "main()"
   ]
  },
  {
   "cell_type": "markdown",
   "id": "ddcff814",
   "metadata": {},
   "source": [
    "### Problem 17 Prime Number List\n",
    "This exercise assumes that you have already written the is_prime function in Programming Exercise 16. Write another program that displays all of the prime numbers from 1 to 100. The program should have a loop that calls the is_prime function.\n",
    "\n",
    "For this problem we are just going to set up a program that runs through numbers 1-100 and finds the prime numbers. Then I will have it list them all. "
   ]
  },
  {
   "cell_type": "code",
   "execution_count": 50,
   "id": "8f71c829",
   "metadata": {},
   "outputs": [
    {
     "name": "stdout",
     "output_type": "stream",
     "text": [
      "2\n",
      "3\n",
      "5\n",
      "7\n",
      "11\n",
      "13\n",
      "17\n",
      "19\n",
      "23\n",
      "29\n",
      "31\n",
      "37\n",
      "41\n",
      "43\n",
      "47\n",
      "53\n",
      "59\n",
      "61\n",
      "67\n",
      "71\n",
      "73\n",
      "79\n",
      "83\n",
      "89\n",
      "97\n"
     ]
    }
   ],
   "source": [
    "#first we start with the def\n",
    "def is_prime(n):\n",
    "    #now a if statement\n",
    "    if n <= 1:\n",
    "        #return false because its not true\n",
    "        return False\n",
    "    #now for the for statement\n",
    "    for i in range(2, int(n**0.5)  + 1):\n",
    "        #if statement 2\n",
    "        if n % i == 0:\n",
    "        #now for return false then true\n",
    "            return False\n",
    "    return True\n",
    "#now for the for statement here\n",
    "for num in range(1, 101):\n",
    "    #and the if prime statement\n",
    "    if is_prime(num):\n",
    "        #finally printing the number\n",
    "        print(num)"
   ]
  },
  {
   "cell_type": "markdown",
   "id": "592a2e41",
   "metadata": {},
   "source": [
    "### Problem 9 Feet to Inches\n",
    "One foot equals 12 inches. Write a function named  that accepts a number of feet as an argument and returns the number of inches in that many feet. Use the function in a program that prompts the user to enter a number of feet then displays the number of inches in that many feet."
   ]
  }
 ],
 "metadata": {
  "kernelspec": {
   "display_name": "Python 3 (ipykernel)",
   "language": "python",
   "name": "python3"
  },
  "language_info": {
   "codemirror_mode": {
    "name": "ipython",
    "version": 3
   },
   "file_extension": ".py",
   "mimetype": "text/x-python",
   "name": "python",
   "nbconvert_exporter": "python",
   "pygments_lexer": "ipython3",
   "version": "3.11.5"
  }
 },
 "nbformat": 4,
 "nbformat_minor": 5
}
