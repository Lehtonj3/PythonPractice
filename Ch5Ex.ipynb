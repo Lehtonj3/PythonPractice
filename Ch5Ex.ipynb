{
 "cells": [
  {
   "cell_type": "markdown",
   "id": "8e928225",
   "metadata": {},
   "source": [
    "# Chapter 5 Coding Set\n",
    "\n",
    "Work Completed by: Jacob Lehtonen"
   ]
  },
  {
   "cell_type": "markdown",
   "id": "736e1fdd",
   "metadata": {},
   "source": [
    "## Algorithm Workbench"
   ]
  },
  {
   "cell_type": "markdown",
   "id": "11855695",
   "metadata": {},
   "source": [
    "### Problem 1\n",
    "Write a function named . The function should accept an argument and display the product of its argument multiplied times 10.\n",
    "\n",
    "With this problem I will just set it up like I saw in some examples in the book. As of now before doing the problem, looking over it I think I can do it. And I am having no issues."
   ]
  },
  {
   "cell_type": "code",
   "execution_count": 11,
   "id": "734b6b92",
   "metadata": {},
   "outputs": [],
   "source": [
    "#first I will set up the definition and the title of the program it is looking for. In this case, tiems_ten\n",
    "def times_ten(): \n",
    "#now before I include the statement, I have to put a definition for number so it knows what I'm looking for\n",
    "    number = float(input(\"Enter a number: \"))\n",
    "#now I have to do the equation the question is asking for\n",
    "    result = number * 10\n",
    "#and lastly, printing the result\n",
    "    print(\"Result:\", result)"
   ]
  },
  {
   "cell_type": "code",
   "execution_count": 14,
   "id": "31f0aaaf",
   "metadata": {},
   "outputs": [
    {
     "name": "stdout",
     "output_type": "stream",
     "text": [
      "Enter a number: 1234\n",
      "Result: 12340.0\n"
     ]
    }
   ],
   "source": [
    "#now I have to input the def code \"times_ten()\" to test it out\n",
    "times_ten()"
   ]
  },
  {
   "cell_type": "markdown",
   "id": "9928beab",
   "metadata": {},
   "source": [
    "### Problem 3\n",
    "Look at the folowin"
   ]
  }
 ],
 "metadata": {
  "kernelspec": {
   "display_name": "Python 3 (ipykernel)",
   "language": "python",
   "name": "python3"
  },
  "language_info": {
   "codemirror_mode": {
    "name": "ipython",
    "version": 3
   },
   "file_extension": ".py",
   "mimetype": "text/x-python",
   "name": "python",
   "nbconvert_exporter": "python",
   "pygments_lexer": "ipython3",
   "version": "3.11.5"
  }
 },
 "nbformat": 4,
 "nbformat_minor": 5
}
