{
 "cells": [
  {
   "cell_type": "markdown",
   "id": "b4f7ec03",
   "metadata": {},
   "source": [
    "# Chapter 10 Exercises\n",
    "all work has been completed by Jacob Lehtonen\n"
   ]
  },
  {
   "cell_type": "markdown",
   "id": "89f437ed",
   "metadata": {},
   "source": [
    "## Question 2 Car Class\n",
    "\n",
    "Write a class named Car that has the following data attributes:   (for the car’s year model) (for the make of the car) (for the car’s current speed)The Car class should have an  method that accepts the car’s year model and make as arguments. These values should be assigned to the object’s  and  data attributes. It should also assign 0 to the  data attribute.The class should also have the following methods:   The  method should add 5 to the speed data attribute each time it is called.  The  method should subtract 5 from the speed data attribute each time it is called. The  method should return the current speed.Next, design a program that creates a  object then calls the accelerate method five times. After each call to the accelerate method, get the current speed of the car and display it. Then call the  method five times. After each call to the  method, get the current speed of the car and display it.\n",
    "\n",
    "For this question I will be following the video tring to work it out myself along the way. And andswer the questions he has for us while discussing on my own. "
   ]
  },
  {
   "cell_type": "code",
   "execution_count": null,
   "id": "afd0d0b7",
   "metadata": {},
   "outputs": [],
   "source": []
  }
 ],
 "metadata": {
  "kernelspec": {
   "display_name": "Python 3 (ipykernel)",
   "language": "python",
   "name": "python3"
  },
  "language_info": {
   "codemirror_mode": {
    "name": "ipython",
    "version": 3
   },
   "file_extension": ".py",
   "mimetype": "text/x-python",
   "name": "python",
   "nbconvert_exporter": "python",
   "pygments_lexer": "ipython3",
   "version": "3.11.5"
  }
 },
 "nbformat": 4,
 "nbformat_minor": 5
}
