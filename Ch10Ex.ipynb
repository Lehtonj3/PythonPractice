{
 "cells": [
  {
   "cell_type": "markdown",
   "id": "38395d9f",
   "metadata": {},
   "source": [
    "# Chapter 10 Exercises\n",
    "all work has been completed by Jacob Lehtonen\n"
   ]
  },
  {
   "cell_type": "markdown",
   "id": "68f068cb",
   "metadata": {},
   "source": [
    "## Question 2 Car Class\n",
    "\n",
    "Write a class named Car that has the following data attributes:   (for the car’s year model) (for the make of the car) (for the car’s current speed)The Car class should have an  method that accepts the car’s year model and make as arguments. These values should be assigned to the object’s  and  data attributes. It should also assign 0 to the  data attribute.The class should also have the following methods:   The  method should add 5 to the speed data attribute each time it is called.  The  method should subtract 5 from the speed data attribute each time it is called. The  method should return the current speed.Next, design a program that creates a  object then calls the accelerate method five times. After each call to the accelerate method, get the current speed of the car and display it. Then call the  method five times. After each call to the  method, get the current speed of the car and display it.\n",
    "\n",
    "For this question I will be following the video tring to work it out myself along the way. And andswer the questions he has for us while discussing on my own. "
   ]
  },
  {
   "cell_type": "code",
   "execution_count": 1,
   "id": "ccf3fa6d",
   "metadata": {},
   "outputs": [
    {
     "name": "stdout",
     "output_type": "stream",
     "text": [
      "Current Speed: 5\n",
      "Current Speed: 10\n",
      "Current Speed: 15\n",
      "Current Speed: 20\n",
      "Current Speed: 25\n",
      "Speed after accelerating: 25\n",
      "Current Speed: 20\n",
      "Current Speed: 15\n",
      "Current Speed: 10\n",
      "Current Speed: 5\n",
      "Current Speed: 0\n",
      "Final speed: 0\n"
     ]
    }
   ],
   "source": [
    "import car\n",
    "\n",
    "def main():\n",
    "    # Create a car object\n",
    "    my_car = car.Car(2023, \"Example Make\")\n",
    "    \n",
    "    # Accelerate the car five times\n",
    "    accelerate(my_car, 5)\n",
    "    \n",
    "    # Get the current speed\n",
    "    print(\"Speed after accelerating:\", my_car.get_speed())\n",
    "    \n",
    "    # Brake 5 times\n",
    "    brake(my_car, 5)\n",
    "    \n",
    "    # Get the final speed\n",
    "    print(\"Final speed:\", my_car.get_speed())\n",
    "\n",
    "def brake(car, count):\n",
    "    for _ in range(count):\n",
    "        car.brake()\n",
    "        print(f\"Current Speed: {car.get_speed()}\")\n",
    "        \n",
    "def accelerate(car, count):\n",
    "    for _ in range(count):\n",
    "        car.accelerate()\n",
    "        print(f\"Current Speed: {car.get_speed()}\")\n",
    "\n",
    "main()\n"
   ]
  },
  {
   "cell_type": "markdown",
   "id": "0fc9e144",
   "metadata": {},
   "source": [
    "## Question 1 Pet Class\n",
    "\n",
    "Write a class named Pet, which should have the following data attributes:   (for the name of a pet) (for the type of animal that a pet is. Example values are ‘Dog’, ‘Cat’,and ‘Bird’) (for the pet’s age)The  class should have an  method that creates these attributes. It should also have the following methods:  This method assigns a value to the  field.This method assigns a value to the  field.This method assigns a value to the  field.This method returns the value of the  field.This method returns the value of the  field.This method returns the value of the  field.Once you have written the class, write a program that creates an object of the class and prompts the user to enter the name, type, and age of his or her pet. This data should be stored as the object’s attributes. Use the object’s accessor methods to retrieve the pet’s name, type, and age and display this data on the screen.\n",
    "\n",
    "I am going to take the pet.py and import it. Then I am going to write a code to ask for the user imput of the type of animal, name, and the age. And then it is going to spit it all back out. "
   ]
  },
  {
   "cell_type": "code",
   "execution_count": 3,
   "id": "36bb25bf",
   "metadata": {},
   "outputs": [
    {
     "name": "stdout",
     "output_type": "stream",
     "text": [
      "What is your pet's name? Remi\n",
      "What type of animal is it? Dog\n",
      "How old is your pet? 2 1/2\n",
      "Here is the information you entered: \n",
      "Pet's Name: Remi\n",
      "Animal Type: Dog\n",
      "Age: 2 1/2\n"
     ]
    }
   ],
   "source": [
    "#import pet.py\n",
    "import pet\n",
    "\n",
    "#get the user imput for name, age and type\n",
    "name = input(\"What is your pet's name? \")\n",
    "animal_type = input(\"What type of animal is it? \")\n",
    "age = input(\"How old is your pet? \")\n",
    "\n",
    "# create an instance of the pet class \n",
    "my_pet = pet.Pet(name, animal_type, age)\n",
    "\n",
    "#print the results that were entered back \n",
    "print(\"Here is the information you entered: \")\n",
    "print(\"Pet's Name:\", my_pet.get_name())\n",
    "print(\"Animal Type:\", my_pet.get_animal_type())\n",
    "print(\"Age:\", my_pet.get_age())"
   ]
  },
  {
   "cell_type": "code",
   "execution_count": null,
   "id": "5abeac40",
   "metadata": {},
   "outputs": [],
   "source": []
  }
 ],
 "metadata": {
  "kernelspec": {
   "display_name": "Python 3 (ipykernel)",
   "language": "python",
   "name": "python3"
  },
  "language_info": {
   "codemirror_mode": {
    "name": "ipython",
    "version": 3
   },
   "file_extension": ".py",
   "mimetype": "text/x-python",
   "name": "python",
   "nbconvert_exporter": "python",
   "pygments_lexer": "ipython3",
   "version": "3.11.5"
  }
 },
 "nbformat": 4,
 "nbformat_minor": 5
}
