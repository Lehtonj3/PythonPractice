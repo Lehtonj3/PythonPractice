{
 "cells": [
  {
   "cell_type": "markdown",
   "id": "17741af8",
   "metadata": {},
   "source": [
    "# Chapter 6 Coding Set\n",
    "Work Completed by: Jacob Lehtonen"
   ]
  },
  {
   "cell_type": "markdown",
   "id": "a48a0f43",
   "metadata": {},
   "source": [
    "## Algorithm Workbench"
   ]
  },
  {
   "cell_type": "markdown",
   "id": "5020863b",
   "metadata": {},
   "source": [
    "### Problem 1\n",
    "Write a program that opens an output file with the filename my_name.txt, writes your name to the file, then closes the file.\n",
    "\n",
    "For this I will use a outfile open statement to open a file with the name of choice. Then I will input the outfile write where it writes what I want it to which in this case is my name. Then I will close the file "
   ]
  },
  {
   "cell_type": "code",
   "execution_count": 11,
   "id": "0c729adb",
   "metadata": {},
   "outputs": [],
   "source": [
    "#start with the def statemnet \n",
    "def main():\n",
    "        #now we open the file with write mode\n",
    "        outfile = open('my_name.txt', \"w\")\n",
    "        #now we name it what it asked for \n",
    "        outfile.write(\"Jacob\")\n",
    "        #close the file\n",
    "        outfile.close()       \n",
    "#now call to the main function with a if statement \n",
    "if __name__ == \"__main__\":\n",
    "#and if that is true, start the process\n",
    "    main()"
   ]
  },
  {
   "cell_type": "markdown",
   "id": "dc705020",
   "metadata": {},
   "source": [
    "### Problem 2\n",
    "Write a program that opens the my_name.txt file that was created by the program in problem 1, reads your name from the file, displays the name on the screen, then closes the file.\n",
    "\n",
    "In this part I will take what I did in problem one with the file and display the contents of the file. In this case the contents of the file that I have created is my name which is Jacob. \n"
   ]
  },
  {
   "cell_type": "code",
   "execution_count": 12,
   "id": "1f13d07d",
   "metadata": {},
   "outputs": [
    {
     "name": "stdout",
     "output_type": "stream",
     "text": [
      "Jacob\n"
     ]
    }
   ],
   "source": [
    "def main():\n",
    "    #open the file named \"my_name.txt\"\n",
    "    infile = open(\"my_name.txt\", \"r\")\n",
    "    #now read the files contents\n",
    "    file_contents = infile.read()\n",
    "    #now close the file\n",
    "    infile.close()\n",
    "    #now print the data that was read from the file\n",
    "    print(file_contents)\n",
    "#now the if statment to call to the main\n",
    "if __name__ == \"__main__\":\n",
    "    main()"
   ]
  },
  {
   "cell_type": "markdown",
   "id": "bdbdd413",
   "metadata": {},
   "source": [
    "## Programming Exercises"
   ]
  },
  {
   "cell_type": "markdown",
   "id": "f63baaec",
   "metadata": {},
   "source": [
    "### Problem 1\n",
    "Assume a file containing a series of integers is named numbers.txt and exists on the computer’s disk. Write a program that displays all of the numbers in the file. \n",
    "\n",
    "First I am going to open the folder using myfile, then I am going to have it read the contents and print them. Then I am going to have it close the file while it has already displayed the content. "
   ]
  },
  {
   "cell_type": "code",
   "execution_count": 22,
   "id": "beccd094",
   "metadata": {},
   "outputs": [
    {
     "name": "stdout",
     "output_type": "stream",
     "text": [
      "10\n",
      "53246\n",
      "324\n"
     ]
    }
   ],
   "source": [
    "#open the file\n",
    "myfile = open('numbers.txt', \"r\")\n",
    "#read and display the files contents \n",
    "for line in myfile:\n",
    "    number = int(line)\n",
    "    print(number)\n",
    "#close the file\n",
    "myfile.close()"
   ]
  },
  {
   "cell_type": "markdown",
   "id": "5ecd7c8e",
   "metadata": {},
   "source": [
    "### Problem 6\n",
    "Assume a file containing a series of integers is named numbers.txt and exists on the computer’s disk. Write a program that calculates the average of all the numbers stored in the file.\n",
    "\n",
    "For this program I am going to take each number and make a definition for them. Then after that I am going to take those three definitions and ad them together. Lastly I am going to print what the numbers are and what the sum is of those numbers. "
   ]
  },
  {
   "cell_type": "code",
   "execution_count": 23,
   "id": "8b24064a",
   "metadata": {},
   "outputs": [
    {
     "name": "stdout",
     "output_type": "stream",
     "text": [
      "The numbers are: 10, 53246, 324\n",
      "Their total is: 53580\n"
     ]
    }
   ],
   "source": [
    "#start with the def statement \n",
    "def main():\n",
    "    #open the file for reading\n",
    "    infile = open(\"numbers.txt\", \"r\")\n",
    "    #read the three numbers from the file \n",
    "    num1 = int(infile.readline())\n",
    "    num2 = int(infile.readline())\n",
    "    num3 = int(infile.readline())\n",
    "    #close the file\n",
    "    infile.close()\n",
    "    #add the three numbers \n",
    "    total = num1 + num2 + num3\n",
    "    #display the numbers and their total\n",
    "    print(f\"The numbers are: {num1}, {num2}, {num3}\")\n",
    "    print(f\"Their total is: {total}\")\n",
    "#now the if to call to the main function\n",
    "if __name__ == \"__main__\":\n",
    "    main()"
   ]
  },
  {
   "cell_type": "markdown",
   "id": "ba67b9e6",
   "metadata": {},
   "source": [
    "### Problem 9\n",
    "Modify the program that you wrote for Exercise 6 so it handles the following exceptions:  It should handle any  exceptions that are raised when the file is opened and data is read from it.It should handle any  exceptions that are raised when the items that are read from the file are converted to a number.\n"
   ]
  },
  {
   "cell_type": "code",
   "execution_count": 54,
   "id": "6cc0da64",
   "metadata": {},
   "outputs": [
    {
     "name": "stdout",
     "output_type": "stream",
     "text": [
      "The average of the numbers in numbers.txt is: 17860.0\n"
     ]
    }
   ],
   "source": [
    "def calculate_average(filename):\n",
    "    try:\n",
    "        # Open the file in read mode\n",
    "        with open(filename, 'r') as file:\n",
    "            # Read all lines from the file\n",
    "            lines = file.readlines()\n",
    "\n",
    "            # Initialize variables for sum and count\n",
    "            total = 0\n",
    "            count = 0\n",
    "\n",
    "            # Iterate through each line\n",
    "            for line in lines:\n",
    "                # Convert line to integer and add to sum\n",
    "                total += int(line)\n",
    "                # Increment count\n",
    "                count += 1\n",
    "\n",
    "            # Calculate average\n",
    "            average = total / count\n",
    "            return average\n",
    "    except Exception as e:\n",
    "        print(f\"Error: {e}\")\n",
    "\n",
    "# Example usage\n",
    "filename = \"numbers.txt\"\n",
    "average = calculate_average(filename)\n",
    "if average is not None:\n",
    "    print(f\"The average of the numbers in {filename} is: {average}\")\n"
   ]
  },
  {
   "cell_type": "code",
   "execution_count": null,
   "id": "047257c4",
   "metadata": {},
   "outputs": [],
   "source": []
  }
 ],
 "metadata": {
  "kernelspec": {
   "display_name": "Python 3 (ipykernel)",
   "language": "python",
   "name": "python3"
  },
  "language_info": {
   "codemirror_mode": {
    "name": "ipython",
    "version": 3
   },
   "file_extension": ".py",
   "mimetype": "text/x-python",
   "name": "python",
   "nbconvert_exporter": "python",
   "pygments_lexer": "ipython3",
   "version": "3.11.5"
  }
 },
 "nbformat": 4,
 "nbformat_minor": 5
}
