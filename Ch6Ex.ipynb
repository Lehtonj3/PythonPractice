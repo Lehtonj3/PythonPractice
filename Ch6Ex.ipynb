{
 "cells": [
  {
   "cell_type": "markdown",
   "id": "d8632f50",
   "metadata": {},
   "source": [
    "# Chapter 6 Coding Set\n",
    "Work Completed by: Jacob Lehtonen"
   ]
  },
  {
   "cell_type": "markdown",
   "id": "432079b1",
   "metadata": {},
   "source": [
    "## Algorithm Workbench"
   ]
  },
  {
   "cell_type": "markdown",
   "id": "03592e71",
   "metadata": {},
   "source": [
    "### Problem 1\n",
    "Write a program that opens an output file with the filename my_name.txt, writes your name to the file, then closes the file.\n",
    "For this I will use a outfile open statement to open a file with the name of choice. Then I will input the outfile write where it writes what I want it to which in this case is my name. Then I will close the file "
   ]
  },
  {
   "cell_type": "code",
   "execution_count": 11,
   "id": "ddb60786",
   "metadata": {},
   "outputs": [],
   "source": [
    "#start with the def statemnet \n",
    "def main():\n",
    "        #now we open the file with write mode\n",
    "        outfile = open('my_name.txt', \"w\")\n",
    "        #now we name it what it asked for \n",
    "        outfile.write(\"Jacob\")\n",
    "        #close the file\n",
    "        outfile.close()       \n",
    "#now call to the main function with a if statement \n",
    "if __name__ == \"__main__\":\n",
    "#and if that is true, start the process\n",
    "    main()"
   ]
  },
  {
   "cell_type": "markdown",
   "id": "c5c797e1",
   "metadata": {},
   "source": [
    "### Problem 2\n",
    "Write a program that opens the my_name.txt file that was created by the program in problem 1, reads your name from the file, displays the name on the screen, then closes the file.\n",
    "In this part I will take what I did in problem one with the file and display the contents of the file. In this case the contents of the file that I have created is my name which is Jacob. \n"
   ]
  },
  {
   "cell_type": "code",
   "execution_count": 12,
   "id": "3c3d250a",
   "metadata": {},
   "outputs": [
    {
     "name": "stdout",
     "output_type": "stream",
     "text": [
      "Jacob\n"
     ]
    }
   ],
   "source": [
    "def main():\n",
    "    #open the file named \"my_name.txt\"\n",
    "    infile = open(\"my_name.txt\", \"r\")\n",
    "    #now read the files contents\n",
    "    file_contents = infile.read()\n",
    "    #now close the file\n",
    "    infile.close()\n",
    "    #now print the data that was read from the file\n",
    "    print(file_contents)\n",
    "#now the if statment to call to the main\n",
    "if __name__ == \"__main__\":\n",
    "    main()"
   ]
  },
  {
   "cell_type": "markdown",
   "id": "fd3f3fe1",
   "metadata": {},
   "source": [
    "## Programming Exercises"
   ]
  },
  {
   "cell_type": "markdown",
   "id": "3aedc752",
   "metadata": {},
   "source": [
    "### Problem 1\n",
    "Assume a file containing a series of integers is named numbers.txt and exists on the computer’s disk. Write a program that displays all of the numbers in the file. \n",
    "First I am going to open the folder using myfile, then I am going to have it read the contents and print them. Then I am going to have it close the file while it has already displayed the content. "
   ]
  },
  {
   "cell_type": "code",
   "execution_count": 21,
   "id": "bf0bdbea",
   "metadata": {},
   "outputs": [
    {
     "name": "stdout",
     "output_type": "stream",
     "text": [
      "10\n",
      "53246\n",
      "324\n",
      "747\n",
      "1232\n",
      "85\n",
      "12342\n",
      "420\n",
      "7\n",
      "2\n",
      "89\n",
      "1\n",
      "7\n",
      "2\n",
      "9\n",
      "3\n",
      "6\n",
      "5\n",
      "3\n",
      "69\n"
     ]
    }
   ],
   "source": [
    "#open the file\n",
    "myfile = open('numbers.txt', \"r\")\n",
    "#read and display the files contents \n",
    "for line in myfile:\n",
    "    number = int(line)\n",
    "    print(number)\n",
    "#close the file\n",
    "myfile.close()"
   ]
  },
  {
   "cell_type": "code",
   "execution_count": null,
   "id": "45a5d6b8",
   "metadata": {},
   "outputs": [],
   "source": []
  }
 ],
 "metadata": {
  "kernelspec": {
   "display_name": "Python 3 (ipykernel)",
   "language": "python",
   "name": "python3"
  },
  "language_info": {
   "codemirror_mode": {
    "name": "ipython",
    "version": 3
   },
   "file_extension": ".py",
   "mimetype": "text/x-python",
   "name": "python",
   "nbconvert_exporter": "python",
   "pygments_lexer": "ipython3",
   "version": "3.11.5"
  }
 },
 "nbformat": 4,
 "nbformat_minor": 5
}
