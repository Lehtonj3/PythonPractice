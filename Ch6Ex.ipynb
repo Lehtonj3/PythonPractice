{
 "cells": [
  {
   "cell_type": "markdown",
   "id": "2177902a",
   "metadata": {},
   "source": [
    "# Chapter 6 Coding Set\n",
    "Work Completed by: Jacob Lehtonen"
   ]
  },
  {
   "cell_type": "markdown",
   "id": "4e6c5703",
   "metadata": {},
   "source": [
    "## Algorithm Workbench"
   ]
  },
  {
   "cell_type": "code",
   "execution_count": null,
   "id": "bfa3e0c4",
   "metadata": {},
   "outputs": [],
   "source": [
    "Problem "
   ]
  }
 ],
 "metadata": {
  "kernelspec": {
   "display_name": "Python 3 (ipykernel)",
   "language": "python",
   "name": "python3"
  },
  "language_info": {
   "codemirror_mode": {
    "name": "ipython",
    "version": 3
   },
   "file_extension": ".py",
   "mimetype": "text/x-python",
   "name": "python",
   "nbconvert_exporter": "python",
   "pygments_lexer": "ipython3",
   "version": "3.11.5"
  }
 },
 "nbformat": 4,
 "nbformat_minor": 5
}
