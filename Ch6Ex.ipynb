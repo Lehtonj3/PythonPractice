{
 "cells": [
  {
   "cell_type": "markdown",
   "id": "6225dc49",
   "metadata": {},
   "source": [
    "# Chapter 6 Coding Set\n",
    "Work Completed by: Jacob Lehtonen"
   ]
  },
  {
   "cell_type": "markdown",
   "id": "acc6aa73",
   "metadata": {},
   "source": [
    "## Algorithm Workbench"
   ]
  },
  {
   "cell_type": "markdown",
   "id": "df66888c",
   "metadata": {},
   "source": [
    "### Problem 1\n",
    "Write a program that opens an output file with the filename my_name.txt, writes your name to the file, then closes the file.\n",
    "\n",
    "For this I will use a outfile open statement to open a file with the name of choice. Then I will input the outfile write where it writes what I want it to which in this case is my name. Then I will close the file "
   ]
  },
  {
   "cell_type": "code",
   "execution_count": 11,
   "id": "75a1cf62",
   "metadata": {},
   "outputs": [],
   "source": [
    "#start with the def statemnet \n",
    "def main():\n",
    "        #now we open the file with write mode\n",
    "        outfile = open('my_name.txt', \"w\")\n",
    "        #now we name it what it asked for \n",
    "        outfile.write(\"Jacob\")\n",
    "        #close the file\n",
    "        outfile.close()       \n",
    "#now call to the main function with a if statement \n",
    "if __name__ == \"__main__\":\n",
    "#and if that is true, start the process\n",
    "    main()"
   ]
  },
  {
   "cell_type": "markdown",
   "id": "aff44141",
   "metadata": {},
   "source": [
    "### Problem 2\n",
    "Write a program that opens the my_name.txt file that was created by the program in problem 1, reads your name from the file, displays the name on the screen, then closes the file.\n",
    "\n",
    "In this part I will take what I did in problem one with the file and display the contents of the file. In this case the contents of the file that I have created is my name which is Jacob. \n"
   ]
  },
  {
   "cell_type": "code",
   "execution_count": 12,
   "id": "6341a997",
   "metadata": {},
   "outputs": [
    {
     "name": "stdout",
     "output_type": "stream",
     "text": [
      "Jacob\n"
     ]
    }
   ],
   "source": [
    "def main():\n",
    "    #open the file named \"my_name.txt\"\n",
    "    infile = open(\"my_name.txt\", \"r\")\n",
    "    #now read the files contents\n",
    "    file_contents = infile.read()\n",
    "    #now close the file\n",
    "    infile.close()\n",
    "    #now print the data that was read from the file\n",
    "    print(file_contents)\n",
    "#now the if statment to call to the main\n",
    "if __name__ == \"__main__\":\n",
    "    main()"
   ]
  },
  {
   "cell_type": "markdown",
   "id": "f50addac",
   "metadata": {},
   "source": [
    "## Programming Exercises"
   ]
  },
  {
   "cell_type": "markdown",
   "id": "d59954fd",
   "metadata": {},
   "source": [
    "### Problem 1\n",
    "Assume a file containing a series of integers is named numbers.txt and exists on the computer’s disk. Write a program that displays all of the numbers in the file. \n",
    "\n",
    "First I am going to open the folder using myfile, then I am going to have it read the contents and print them. Then I am going to have it close the file while it has already displayed the content. "
   ]
  },
  {
   "cell_type": "code",
   "execution_count": 22,
   "id": "a2b66f2d",
   "metadata": {},
   "outputs": [
    {
     "name": "stdout",
     "output_type": "stream",
     "text": [
      "10\n",
      "53246\n",
      "324\n"
     ]
    }
   ],
   "source": [
    "#open the file\n",
    "myfile = open('numbers.txt', \"r\")\n",
    "#read and display the files contents \n",
    "for line in myfile:\n",
    "    number = int(line)\n",
    "    print(number)\n",
    "#close the file\n",
    "myfile.close()"
   ]
  },
  {
   "cell_type": "markdown",
   "id": "98406c1c",
   "metadata": {},
   "source": [
    "### Problem 6\n",
    "Assume a file containing a series of integers is named numbers.txt and exists on the computer’s disk. Write a program that calculates the average of all the numbers stored in the file.\n",
    "\n",
    "For this program I am going to open the file, then have it read all the contents. After that I am going to have it take those contents and add them together. After that I am going to take that and divide it by the number of numbers, and then it will spit out the average. "
   ]
  },
  {
   "cell_type": "code",
   "execution_count": 54,
   "id": "930d0c36",
   "metadata": {},
   "outputs": [
    {
     "name": "stdout",
     "output_type": "stream",
     "text": [
      "The average of the numbers in numbers.txt is: 17860.0\n"
     ]
    }
   ],
   "source": [
    "def calculate_average(filename):\n",
    "    try:\n",
    "        # Open the file in read mode\n",
    "        with open(filename, 'r') as file:\n",
    "            # Read all lines from the file\n",
    "            lines = file.readlines()\n",
    "\n",
    "            # Initialize variables for sum and count\n",
    "            total = 0\n",
    "            count = 0\n",
    "\n",
    "            # Iterate through each line\n",
    "            for line in lines:\n",
    "                # Convert line to integer and add to sum\n",
    "                total += int(line)\n",
    "                # Increment count\n",
    "                count += 1\n",
    "\n",
    "            # Calculate average\n",
    "            average = total / count\n",
    "            return average\n",
    "    except Exception as e:\n",
    "        print(f\"Error: {e}\")\n",
    "\n",
    "# define the terms\n",
    "filename = \"numbers.txt\"\n",
    "average = calculate_average(filename)\n",
    "#now for the if statement\n",
    "if average is not None:\n",
    "    print(f\"The average of the numbers in {filename} is: {average}\")\n"
   ]
  },
  {
   "cell_type": "markdown",
   "id": "44d4165f",
   "metadata": {},
   "source": [
    "### Problem 9\n",
    "Modify the program that you wrote for Exercise 6 so it handles the following exceptions:  It should handle any IOError exceptions that are raised when the file is opened and data is read from it.It should handle any ValueError exceptions that are raised when the items that are read from the file are converted to a number.\n",
    "\n",
    "For this it is going to look pretty similar to the code above but it will include the two things that are required from the text above. With IOError and ValueErrors. thi"
   ]
  },
  {
   "cell_type": "code",
   "execution_count": 55,
   "id": "699a7f2a",
   "metadata": {},
   "outputs": [
    {
     "name": "stdout",
     "output_type": "stream",
     "text": [
      "The average of the numbers in numbers.txt is: 17860.0\n"
     ]
    }
   ],
   "source": [
    "def calculate_average(filename):\n",
    "    try:\n",
    "        # Open the file in read mode\n",
    "        with open(filename, 'r') as file:\n",
    "            # Read all lines from the file\n",
    "            lines = file.readlines()\n",
    "\n",
    "            # Initialize variables for total and count\n",
    "            total = 0\n",
    "            count = 0\n",
    "\n",
    "            # Iterate through each line\n",
    "            for line in lines:\n",
    "                try:\n",
    "                    # Convert line to integer and add to sum\n",
    "                    total += int(line)\n",
    "                    # Increment count\n",
    "                    count += 1\n",
    "                except ValueError as ve:\n",
    "                    print(f\"Skipping non-integer value: {line.strip()}\")\n",
    "\n",
    "            # Calculate average\n",
    "            if count != 0:\n",
    "                average = total / count\n",
    "                return average\n",
    "            else:\n",
    "                print(\"No valid numbers found in the file.\")\n",
    "    #IOError\n",
    "    except IOError as ioe:\n",
    "        print(f\"Error: {ioe}\")\n",
    "    #Exeption E\n",
    "    except Exception as e:\n",
    "        print(f\"Error: {e}\")\n",
    "\n",
    "# define terms \n",
    "filename = \"numbers.txt\"\n",
    "average = calculate_average(filename)\n",
    "if average is not None:\n",
    "    print(f\"The average of the numbers in {filename} is: {average}\")"
   ]
  },
  {
   "cell_type": "code",
   "execution_count": null,
   "id": "922c3a6e",
   "metadata": {},
   "outputs": [],
   "source": []
  }
 ],
 "metadata": {
  "kernelspec": {
   "display_name": "Python 3 (ipykernel)",
   "language": "python",
   "name": "python3"
  },
  "language_info": {
   "codemirror_mode": {
    "name": "ipython",
    "version": 3
   },
   "file_extension": ".py",
   "mimetype": "text/x-python",
   "name": "python",
   "nbconvert_exporter": "python",
   "pygments_lexer": "ipython3",
   "version": "3.11.5"
  }
 },
 "nbformat": 4,
 "nbformat_minor": 5
}
